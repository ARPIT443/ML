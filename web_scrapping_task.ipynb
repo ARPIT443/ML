{
  "nbformat": 4,
  "nbformat_minor": 0,
  "metadata": {
    "colab": {
      "name": "web_scrapping_task.ipynb",
      "version": "0.3.2",
      "provenance": [],
      "collapsed_sections": []
    },
    "kernelspec": {
      "name": "python3",
      "display_name": "Python 3"
    }
  },
  "cells": [
    {
      "cell_type": "code",
      "metadata": {
        "id": "6IRsXqzLKkmG",
        "colab_type": "code",
        "colab": {}
      },
      "source": [
        "from bs4 import BeautifulSoup\n",
        "import requests"
      ],
      "execution_count": 0,
      "outputs": []
    },
    {
      "cell_type": "code",
      "metadata": {
        "id": "Qc39a5g2QVJP",
        "colab_type": "code",
        "colab": {}
      },
      "source": [
        "url='https://en.wikipedia.org/wiki/Saprotrophic_nutrition'"
      ],
      "execution_count": 0,
      "outputs": []
    },
    {
      "cell_type": "code",
      "metadata": {
        "id": "iFRNRJxvRIUp",
        "colab_type": "code",
        "outputId": "190035be-ca58-426f-9193-c560595f457e",
        "colab": {
          "base_uri": "https://localhost:8080/",
          "height": 34
        }
      },
      "source": [
        "# sending request to get url webpage\n",
        "response=requests.get(url)\n",
        "# printing response received from server\n"
        "response"
      ],
      "execution_count": 0,
      "outputs": [
        {
          "output_type": "execute_result",
          "data": {
            "text/plain": [
              "<Response [200]>"
            ]
          },
          "metadata": {
            "tags": []
          },
          "execution_count": 3
        }
      ]
    },
    {
      "cell_type": "code",
      "metadata": {
        "id": "PRI1OqXbRVMH",
        "colab_type": "code",
        "colab": {}
      },
      "source": [
        "data=response.text"
      ],
      "execution_count": 0,
      "outputs": []
    },
    {
      "cell_type": "code",
      "metadata": {
        "id": "38ojcPjzRuQC",
        "colab_type": "code",
        "colab": {}
      },
      "source": [
        "# parsing library -- html is first and lxml is second parser\n",
        "soup=BeautifulSoup(data,\"lxml\")"
      ],
      "execution_count": 0,
      "outputs": []
    },
    {
      "cell_type": "code",
      "metadata": {
        "id": "gdEGsZY8SzAx",
        "colab_type": "code",
        "colab": {}
      },
      "source": [
        "soup"
      ],
      "execution_count": 0,
      "outputs": []
    },
    {
      "cell_type": "code",
      "metadata": {
        "id": "4hsLb0_FUd5u",
        "colab_type": "code",
        "outputId": "73d64365-4653-422f-97d8-577a2e736609",
        "colab": {
          "base_uri": "https://localhost:8080/",
          "height": 134
        }
      },
      "source": [
        "for ptag in soup.find_all('p'):\n",
        "  #print(ptag)\n",
        "  # now second loop for b tag\n",
        "  for btag in ptag.find_all('b'):\n",
        "    print(btag.text)"
      ],
      "execution_count": 0,
      "outputs": [
        {
          "output_type": "stream",
          "text": [
            "Saprotrophic nutrition\n",
            "lysotrophic nutrition\n",
            "saprotrophs\n",
            "saprobes\n",
            "saprophytes\n",
            "facultative saprophyte\n",
            "\n"
          ],
          "name": "stdout"
        }
      ]
    },
    {
      "cell_type": "code",
      "metadata": {
        "id": "2xqSKG59Kiud",
        "colab_type": "code",
        "colab": {}
      },
      "source": [
        "x=soup.find_all('p')[0].text.split()"
      ],
      "execution_count": 0,
      "outputs": []
    },
    {
      "cell_type": "code",
      "metadata": {
        "id": "hZgpSuISKu2C",
        "colab_type": "code",
        "outputId": "b5c73e9d-20ee-4cc1-b054-6f66cbbb8073",
        "colab": {
          "base_uri": "https://localhost:8080/",
          "height": 54
        }
      },
      "source": [
        "print(x)"
      ],
      "execution_count": 0,
      "outputs": [
        {
          "output_type": "stream",
          "text": [
            "['Saprotrophic', 'nutrition', '/sæprəˈtrɒfɪk,', '-proʊ-/[1]', 'or', 'lysotrophic', 'nutrition', 'is', 'a', 'process', 'of', 'chemoheterotrophic', 'extracellular', 'digestion', 'involved', 'in', 'the', 'processing', 'of', 'decayed', '(dead', 'or', 'waste)', 'organic', 'matter.', 'It', 'occurs', 'in', 'saprotrophs,', 'and', 'is', 'most', 'often', 'associated', 'with', 'fungi', '(for', 'example', 'Mucor)', 'and', 'soil', 'bacteria.', 'Saprotrophic', 'microscopic', 'fungi', 'are', 'sometimes', 'called', 'saprobes;', 'saprotrophic', 'plants', 'or', 'bacterial', 'flora', 'are', 'called', 'saprophytes', '(sapro-', '+', '-phyte,', '\"rotten', 'material\"', '+', '\"plant\"),', 'though', 'it', 'is', 'now', 'believed', 'that', 'all', 'plants', 'previously', 'thought', 'to', 'be', 'saprotrophic', 'are', 'in', 'fact', 'parasites', 'of', 'microscopic', 'fungi', 'or', 'other', 'plants.', 'The', 'process', 'is', 'most', 'often', 'facilitated', 'through', 'the', 'active', 'transport', 'of', 'such', 'materials', 'through', 'endocytosis', 'within', 'the', 'internal', 'mycelium', 'and', 'its', 'constituent', 'hyphae.[2]']\n"
          ],
          "name": "stdout"
        }
      ]
    },
    {
      "cell_type": "code",
      "metadata": {
        "id": "VJ2LaEpmLKw8",
        "colab_type": "code",
        "colab": {}
      },
      "source": [
        "a=soup.find_all('p')\n",
        "list1=[]\n",
        "for i in a:\n",
        "  z=i.text.split()\n",
        "  for j in z:\n",
        "    list1.append(j)"
      ],
      "execution_count": 0,
      "outputs": []
    },
    {
      "cell_type": "code",
      "metadata": {
        "id": "EUV4yoXeLgLZ",
        "colab_type": "code",
        "outputId": "5fbdca31-17d3-4a83-c30e-120b414407bb",
        "colab": {
          "base_uri": "https://localhost:8080/",
          "height": 1000
        }
      },
      "source": [
        "list1"
      ],
      "execution_count": 0,
      "outputs": [
        {
          "output_type": "execute_result",
          "data": {
            "text/plain": [
              "['Saprotrophic',\n",
              " 'nutrition',\n",
              " '/sæprəˈtrɒfɪk,',\n",
              " '-proʊ-/[1]',\n",
              " 'or',\n",
              " 'lysotrophic',\n",
              " 'nutrition',\n",
              " 'is',\n",
              " 'a',\n",
              " 'process',\n",
              " 'of',\n",
              " 'chemoheterotrophic',\n",
              " 'extracellular',\n",
              " 'digestion',\n",
              " 'involved',\n",
              " 'in',\n",
              " 'the',\n",
              " 'processing',\n",
              " 'of',\n",
              " 'decayed',\n",
              " '(dead',\n",
              " 'or',\n",
              " 'waste)',\n",
              " 'organic',\n",
              " 'matter.',\n",
              " 'It',\n",
              " 'occurs',\n",
              " 'in',\n",
              " 'saprotrophs,',\n",
              " 'and',\n",
              " 'is',\n",
              " 'most',\n",
              " 'often',\n",
              " 'associated',\n",
              " 'with',\n",
              " 'fungi',\n",
              " '(for',\n",
              " 'example',\n",
              " 'Mucor)',\n",
              " 'and',\n",
              " 'soil',\n",
              " 'bacteria.',\n",
              " 'Saprotrophic',\n",
              " 'microscopic',\n",
              " 'fungi',\n",
              " 'are',\n",
              " 'sometimes',\n",
              " 'called',\n",
              " 'saprobes;',\n",
              " 'saprotrophic',\n",
              " 'plants',\n",
              " 'or',\n",
              " 'bacterial',\n",
              " 'flora',\n",
              " 'are',\n",
              " 'called',\n",
              " 'saprophytes',\n",
              " '(sapro-',\n",
              " '+',\n",
              " '-phyte,',\n",
              " '\"rotten',\n",
              " 'material\"',\n",
              " '+',\n",
              " '\"plant\"),',\n",
              " 'though',\n",
              " 'it',\n",
              " 'is',\n",
              " 'now',\n",
              " 'believed',\n",
              " 'that',\n",
              " 'all',\n",
              " 'plants',\n",
              " 'previously',\n",
              " 'thought',\n",
              " 'to',\n",
              " 'be',\n",
              " 'saprotrophic',\n",
              " 'are',\n",
              " 'in',\n",
              " 'fact',\n",
              " 'parasites',\n",
              " 'of',\n",
              " 'microscopic',\n",
              " 'fungi',\n",
              " 'or',\n",
              " 'other',\n",
              " 'plants.',\n",
              " 'The',\n",
              " 'process',\n",
              " 'is',\n",
              " 'most',\n",
              " 'often',\n",
              " 'facilitated',\n",
              " 'through',\n",
              " 'the',\n",
              " 'active',\n",
              " 'transport',\n",
              " 'of',\n",
              " 'such',\n",
              " 'materials',\n",
              " 'through',\n",
              " 'endocytosis',\n",
              " 'within',\n",
              " 'the',\n",
              " 'internal',\n",
              " 'mycelium',\n",
              " 'and',\n",
              " 'its',\n",
              " 'constituent',\n",
              " 'hyphae.[2]',\n",
              " 'Various',\n",
              " 'word',\n",
              " 'roots',\n",
              " 'relating',\n",
              " 'to',\n",
              " 'decayed',\n",
              " 'matter',\n",
              " '(detritus,',\n",
              " 'sapro-),',\n",
              " 'eating',\n",
              " 'and',\n",
              " 'nutrition',\n",
              " '(-vore,',\n",
              " '-phage),',\n",
              " 'and',\n",
              " 'plants',\n",
              " 'or',\n",
              " 'life',\n",
              " 'forms',\n",
              " '(-phyte,',\n",
              " '-obe)',\n",
              " 'produce',\n",
              " 'various',\n",
              " 'terms,',\n",
              " 'such',\n",
              " 'as',\n",
              " 'detritivore,',\n",
              " 'detritophage,',\n",
              " 'saprotroph,',\n",
              " 'saprophyte,',\n",
              " 'saprophage,',\n",
              " 'and',\n",
              " 'saprobe;',\n",
              " 'their',\n",
              " 'meanings',\n",
              " 'overlap,',\n",
              " 'although',\n",
              " 'technical',\n",
              " 'distinctions',\n",
              " '(based',\n",
              " 'on',\n",
              " 'physiologic',\n",
              " 'mechanisms)',\n",
              " 'narrow',\n",
              " 'the',\n",
              " 'senses.',\n",
              " 'For',\n",
              " 'example,',\n",
              " 'usage',\n",
              " 'distinctions',\n",
              " 'can',\n",
              " 'be',\n",
              " 'made',\n",
              " 'based',\n",
              " 'on',\n",
              " 'macroscopic',\n",
              " 'swallowing',\n",
              " 'of',\n",
              " 'detritus',\n",
              " '(as',\n",
              " 'an',\n",
              " 'earthworm',\n",
              " 'does)',\n",
              " 'versus',\n",
              " 'microscopic',\n",
              " 'lysis',\n",
              " 'of',\n",
              " 'detritus',\n",
              " '(as',\n",
              " 'a',\n",
              " 'mushroom',\n",
              " 'does).',\n",
              " 'A',\n",
              " 'facultative',\n",
              " 'saprophyte',\n",
              " 'appears',\n",
              " 'on',\n",
              " 'stressed',\n",
              " 'or',\n",
              " 'dying',\n",
              " 'plants',\n",
              " 'and',\n",
              " 'may',\n",
              " 'combine',\n",
              " 'with',\n",
              " 'the',\n",
              " 'live',\n",
              " 'pathogens.[citation',\n",
              " 'needed].',\n",
              " 'As',\n",
              " 'matter',\n",
              " 'decomposes',\n",
              " 'within',\n",
              " 'a',\n",
              " 'medium',\n",
              " 'in',\n",
              " 'which',\n",
              " 'a',\n",
              " 'saprotroph',\n",
              " 'is',\n",
              " 'residing,',\n",
              " 'the',\n",
              " 'saprotroph',\n",
              " 'breaks',\n",
              " 'such',\n",
              " 'matter',\n",
              " 'down',\n",
              " 'into',\n",
              " 'its',\n",
              " 'composites.',\n",
              " 'These',\n",
              " 'products',\n",
              " 'are',\n",
              " 're-absorbed',\n",
              " 'into',\n",
              " 'the',\n",
              " 'hypha',\n",
              " 'through',\n",
              " 'the',\n",
              " 'cell',\n",
              " 'wall',\n",
              " 'through',\n",
              " 'endocytosis',\n",
              " 'and',\n",
              " 'passed',\n",
              " 'on',\n",
              " 'throughout',\n",
              " 'the',\n",
              " 'mycelium',\n",
              " 'complex.',\n",
              " 'This',\n",
              " 'facilitates',\n",
              " 'the',\n",
              " 'passage',\n",
              " 'of',\n",
              " 'such',\n",
              " 'materials',\n",
              " 'throughout',\n",
              " 'the',\n",
              " 'organism',\n",
              " 'and',\n",
              " 'allows',\n",
              " 'for',\n",
              " 'growth',\n",
              " 'and,',\n",
              " 'if',\n",
              " 'necessary,',\n",
              " 'repair.[2]',\n",
              " 'In',\n",
              " 'order',\n",
              " 'for',\n",
              " 'a',\n",
              " 'saprotrophic',\n",
              " 'organism',\n",
              " 'to',\n",
              " 'facilitate',\n",
              " 'optimal',\n",
              " 'growth',\n",
              " 'and',\n",
              " 'repair,',\n",
              " 'favourable',\n",
              " 'conditions',\n",
              " 'and',\n",
              " 'nutrients',\n",
              " 'must',\n",
              " 'be',\n",
              " 'present.[4]',\n",
              " 'Optimal',\n",
              " 'conditions',\n",
              " 'refers',\n",
              " 'to',\n",
              " 'several',\n",
              " 'conditions',\n",
              " 'which',\n",
              " 'optimise',\n",
              " 'the',\n",
              " 'growth',\n",
              " 'of',\n",
              " 'saprotrophic',\n",
              " 'organisms,',\n",
              " 'such',\n",
              " 'as;',\n",
              " 'The',\n",
              " 'majority',\n",
              " 'of',\n",
              " 'nutrients',\n",
              " 'taken',\n",
              " 'in',\n",
              " 'by',\n",
              " 'such',\n",
              " 'organisms',\n",
              " 'must',\n",
              " 'be',\n",
              " 'able',\n",
              " 'to',\n",
              " 'provide',\n",
              " 'carbon,',\n",
              " 'proteins,',\n",
              " 'vitamins',\n",
              " 'and',\n",
              " 'in',\n",
              " 'some',\n",
              " 'cases,',\n",
              " 'ions.',\n",
              " 'Due',\n",
              " 'to',\n",
              " 'the',\n",
              " 'carbon',\n",
              " 'composition',\n",
              " 'of',\n",
              " 'the',\n",
              " 'majority',\n",
              " 'of',\n",
              " 'organisms,',\n",
              " 'dead',\n",
              " 'and',\n",
              " 'organic',\n",
              " 'matter',\n",
              " 'provide',\n",
              " 'rich',\n",
              " 'sources',\n",
              " 'of',\n",
              " 'disaccharides',\n",
              " 'and',\n",
              " 'polysaccharides',\n",
              " 'such',\n",
              " 'as',\n",
              " 'maltose',\n",
              " 'and',\n",
              " 'starch,',\n",
              " 'and',\n",
              " 'of',\n",
              " 'the',\n",
              " 'monosaccharide',\n",
              " 'glucose.[2]',\n",
              " 'In',\n",
              " 'terms',\n",
              " 'of',\n",
              " 'nitrogen-rich',\n",
              " 'sources,',\n",
              " 'saprotrophs',\n",
              " 'require',\n",
              " 'combined',\n",
              " 'protein',\n",
              " 'for',\n",
              " 'the',\n",
              " 'creation',\n",
              " 'of',\n",
              " 'proteins,',\n",
              " 'which',\n",
              " 'is',\n",
              " 'facilitated',\n",
              " 'by',\n",
              " 'the',\n",
              " 'absorption',\n",
              " 'of',\n",
              " 'amino',\n",
              " 'acids,',\n",
              " 'and',\n",
              " 'usually',\n",
              " 'taken',\n",
              " 'from',\n",
              " 'rich',\n",
              " 'soil.',\n",
              " 'Although',\n",
              " 'both',\n",
              " 'ions',\n",
              " 'and',\n",
              " 'vitamins',\n",
              " 'are',\n",
              " 'rare,',\n",
              " 'thiamine',\n",
              " 'or',\n",
              " 'ions',\n",
              " 'such',\n",
              " 'as',\n",
              " 'potassium,',\n",
              " 'phosphorus,',\n",
              " 'and',\n",
              " 'magnesium',\n",
              " 'aid',\n",
              " 'the',\n",
              " 'growth',\n",
              " 'of',\n",
              " 'the',\n",
              " 'mycelium.[2]']"
            ]
          },
          "metadata": {
            "tags": []
          },
          "execution_count": 30
        }
      ]
    },
    {
      "cell_type": "code",
      "metadata": {
        "id": "3MqmhNFaLhsz",
        "colab_type": "code",
        "outputId": "43f7a6e6-8a7b-4364-e4e6-25c8928b806f",
        "colab": {
          "base_uri": "https://localhost:8080/",
          "height": 34
        }
      },
      "source": [
        "len(list1)"
      ],
      "execution_count": 0,
      "outputs": [
        {
          "output_type": "execute_result",
          "data": {
            "text/plain": [
              "396"
            ]
          },
          "metadata": {
            "tags": []
          },
          "execution_count": 29
        }
      ]
    },
    {
      "cell_type": "code",
      "metadata": {
        "id": "WP0FPSpmL49t",
        "colab_type": "code",
        "colab": {}
      },
      "source": [
        "import seaborn as sns"
      ],
      "execution_count": 0,
      "outputs": []
    },
    {
      "cell_type": "code",
      "metadata": {
        "id": "L0rnfBgqNLub",
        "colab_type": "code",
        "outputId": "df587ae2-4479-424e-8780-76e25439d916",
        "colab": {
          "base_uri": "https://localhost:8080/",
          "height": 594
        }
      },
      "source": [
        "# plotting only first 150 words with their occurence\n",
        "sns.set(rc={'figure.figsize':(20,8)})\n",
        "s=sns.countplot(list1[:150])\n",
        "q=s.set_xticklabels(s.get_xticklabels() , rotation=90)"
      ],
      "execution_count": 61,
      "outputs": [
        {
          "output_type": "display_data",
          "data": {
            "image/png": "iVBORw0KGgoAAAANSUhEUgAABJEAAAJBCAYAAAD2oCSnAAAABHNCSVQICAgIfAhkiAAAAAlwSFlz\nAAALEgAACxIB0t1+/AAAADl0RVh0U29mdHdhcmUAbWF0cGxvdGxpYiB2ZXJzaW9uIDMuMC4zLCBo\ndHRwOi8vbWF0cGxvdGxpYi5vcmcvnQurowAAIABJREFUeJzs3XmclWXdP/DvDMOgwCgKI6KR+bhv\nRGWZT2Vp4oKSCxgqpuKCZu7hkigauAHKkzviAmbYkwKiAspTUbiEWPkkyuMWbpiKCBhgyjDL7w9+\nc5hh5sx1DwwHsPf79fL1cs71Pfd13efcy3V/zn0ORTU1NTUBAAAAAE0oXt8DAAAAAGDDJ0QCAAAA\nIEmIBAAAAECSEAkAAACAJCESAAAAAElCJAAAAACShEgAAAAAJAmRAAAAAEgSIgEAAACQJEQCAAAA\nIEmIBAAAAECSEAkAAACApJL1PYCsFi/+JKqra9b3MAAAAAA2esXFRbHFFu2a9ZyNJkSqrq4RIgEA\nAACsJ77OBgAAAECSEAkAAACAJCESAAAAAElCJAAAAACShEgAAAAAJAmRAAAAAEgSIgEAAACQJEQC\nAAAAIEmIBAAAAECSEAkAAACAJCESAAAAAElCJAAAAACShEgAAAAAJAmRAAAAAEgSIgEAAACQVFKo\njpYvXx7XXnttzJw5M9q0aRPdu3ePoUOHFqp7AAAAANZCwUKkESNGRJs2bWLatGlRVFQUH330UaG6\nBgAAAGAtFSRE+uSTT2LSpEkxY8aMKCoqioiITp06FaJrAAAAAFpAQUKkefPmRYcOHeLWW2+NWbNm\nRbt27eK8886LvffeO/MyOnZsvw5HCGwoqiorolVJ6Rq3AwAAsG4UJESqqqqKefPmxe677x6XXHJJ\nvPDCC3HmmWfGb3/722jfPls4tHDhsqiurlnHIwXWt/Lysvjl2IPztp948rRYsGBpAUcEAADw+VNc\nXNTsG3YK8q+zdenSJUpKSuLwww+PiIgvf/nLscUWW8Sbb75ZiO4BAAAAWEsFCZG23HLL2GeffeKZ\nZ56JiIg333wzFi5cGNttt10hugcAAABgLRXsX2f7+c9/HpdddlkMGzYsSkpKYvjw4bHZZpsVqnsA\nAAAA1kLBQqSuXbvG/fffX6juAAAAAGhBBfk6GwAAAAAbNyESAAAAAElCJAAAAACShEgAAAAAJAmR\nAAAAAEgSIgEAAACQJEQCAAAAIEmIBAAAAECSEAkAAACAJCESAAAAAElCJAAAAACShEgAAAAAJAmR\nAAAAAEgSIgEAAACQJEQCAAAAIEmIBAAAAECSEAkAAACAJCESAAAAAElCJAAAAACShEgAAAAAJAmR\nAAAAAEgSIgEAAACQJEQCAAAAIEmIBAAAAECSEAkAAACAJCESAAAAAElCJAAAAACShEgAAAAAJAmR\nAAAAAEgSIgEAAACQJEQCAAAAIEmIBAAAAECSEAkAAACAJCESAAAAAElCJAAAAACShEgAAAAAJAmR\nAAAAAEgSIgEAAACQJEQCAAAAIEmIBAAAAECSEAkAAACAJCESAAAAAElCJAAAAACShEgAAAAAJAmR\nAAAAAEgSIgEAAACQJEQCAAAAIEmIBAAAAECSEAkAAACAJCESAAAAAElCJAAAAACShEgAAAAAJAmR\nAAAAAEgSIgEAAACQJEQCAAAAIEmIBAAAAECSEAkAAACAJCESAAAAAElCJAAAAACShEgAAAAAJJUU\nqqMDDjggSktLo02bNhERMXDgwPjOd75TqO4BAAAAWAsFC5EiIm6++ebYeeedC9klAAAAAC3A19kA\nAAAASCronUgDBw6Mmpqa+NrXvhYXXnhhbLbZZpmf27Fj+3U4srVXU1kZRSX5X85UO5BdeXnZ+h4C\nAADAv52impqamkJ09P7770eXLl2ioqIirrnmmvjkk0/ihhtuyPz8hQuXRXV1QYa6RsrLy+LDUb/I\n277VmefHggVLCzgi2DiVl5fFL8cenLf9xJOn2ZcAAADWUnFxUbNv2CnY19m6dOkSERGlpaVx/PHH\nx/PPP1+orgEAAABYSwUJkf71r3/F0qUr7xyoqamJqVOnxm677VaIrgEAAABoAQX5kZ6FCxfGOeec\nE1VVVVFdXR077LBDXHnllYXoGgAAAIAWUJAQqWvXrjFp0qRCdAUAAADAOlCw30QCAAAAYOMlRAIA\nAAAgSYgEAAAAQJIQCQAAAIAkIRIAAAAASUIkAAAAAJKESAAAAAAkCZEAAAAASBIiAQAAAJAkRAIA\nAAAgSYgEAAAAQJIQCQAAAIAkIRIAAAAASUIkAAAAAJKESAAAAAAkCZEAAAAASBIiAQAAAJAkRAIA\nAAAgSYgEAAAAQJIQCQAAAIAkIRIAAAAASUIkAAAAAJKESAAAAAAkCZEAAAAASBIiAQAAAJAkRAIA\nAAAgSYgEAAAAQJIQCQAAAIAkIRIAAAAASUIkAAAAAJKESAAAAAAkCZEAAAAASBIiAQAAAJAkRAIA\nAAAgSYgEAAAAQJIQCQAAAIAkIRIAAAAASUIkAAAAAJKESAAAAAAkCZEAAAAASBIiAQAAAJAkRAIA\nAAAgSYgEAAAAQJIQCQAAAIAkIRIAAAAASUIkAAAAAJKESAAAAAAkCZEAAAAASBIiAQAAAJAkRAIA\nAAAgSYgEAAAAQJIQCQAAAIAkIRIAAAAASUIkAAAAAJKESAAAAAAkCZEAAAAASBIiAQAAAJAkRAIA\nAAAgSYgEAAAAQJIQCQAAAICkgodIt956a+yyyy7x2muvFbprAAAAANZQQUOkOXPmxN/+9rfYdttt\nC9ktAAAAAGupYCFSRUVFDBkyJK666qpCdQkAAABACykpVEc33XRT/OAHP4gvfOELa/T8jh3bt/CI\nCq+8vCxzbU3liigqab3G7WuqprIiikpK17gdCqE5+xIAAAAtoyAh0v/+7//GSy+9FAMHDlzjZSxc\nuCyqq2tacFQtK8tF7YIFS5u1vA/uuCpv+9Y/vqpZy2tOv+/cclze9i+e8+t10i/Uaul9CQAAgIaK\ni4uafcNOQb7O9uc//znmzp0b3//+9+OAAw6IDz74IE499dR4+umnC9E9AAAAAGupIHciDRgwIAYM\nGJD7+4ADDohRo0bFzjvvXIjuAQAAAFhLBf3X2QAAAADYOBXsh7Xrmj59+vroFgAAAIA15E4kAAAA\nAJKESAAAAAAkCZEAAAAASBIiAQAAAJAkRAIAAAAgSYgEAAAAQJIQCQAAAIAkIRIAAAAASUIkAAAA\nAJKESAAAAAAkCZEAAAAASBIiAQAAAJAkRAIAAAAgSYgEAAAAQJIQCQAAAIAkIRIAAAAASUIkAAAA\nAJKESAAAAAAkCZEAAAAASBIiAQAAAJAkRAIAAAAgSYgEAAAAQJIQCQAAAIAkIRIAAAAASUIkAAAA\nAJKESAAAAAAkCZEAAAAASBIiAQAAAJAkRAIAAAAgSYgEAAAAQJIQCQAAAIAkIRIAAAAASUIkAAAA\nAJKESAAAAAAkCZEAAAAASBIiAQAAAJAkRAIAAAAgSYgEAAAAQJIQCQAAAICkzCHSPffc0+jjY8aM\nabHBAAAAALBhyhwi3XbbbY0+fscdd7TYYAAAAADYMJWkCmbOnBkREdXV1fHss89GTU1Nru3dd9+N\ndu3arbvRAQAAALBBSIZIgwYNioiI5cuXx2WXXZZ7vKioKMrLy+Pyyy9fd6MDAAAAYIOQDJGmT58e\nEREXX3xxDB8+fJ0PCAAAAIANTzJEqlU3QKqurq7XVlzsH3kDAAAA+DzLHCLNmTMnhgwZEq+++mos\nX748IiJqamqiqKgoXn755XU2QAAAAADWv8wh0qWXXhr7779/XHvttbHJJpusyzEBAAAAsIHJHCL9\n4x//iAsuuCCKiorW5XgAAAAA2ABl/jGjHj16xNNPP70uxwIAAADABirznUjLly+Ps88+O772ta9F\np06d6rX5V9sAAAAAPt8yh0g77rhj7LjjjutyLAAAAABsoDKHSGefffa6HAcAAAAAG7DMIdLMmTPz\ntu27774tMhgAAAAANkyZQ6RBgwbV+3vx4sWxYsWK6Ny5c/z+979v8YEBAAAAsOHIHCJNnz693t9V\nVVVxxx13RLt27Vp8UAAAAABsWIrX9ImtWrWKM888M+6+++6WHA8AAAAAG6A1DpEiIp555pkoKipq\nqbEAAAAAsIHK/HW27373u/UCo08//TQqKiriyiuvXCcDAwAAAGDDkTlEGjFiRL2/N91009h+++2j\nffv2LT4oAAAAADYsmUOkb3zjGxERUV1dHR999FF06tQpiovX6ttwAAAAAGwkModIy5YtiyFDhsTU\nqVOjsrIySkpK4rDDDovLL788ysrKks8/66yz4t13343i4uJo27ZtXHHFFbHbbrut1eABAAAAKIzM\ntxJdffXV8emnn8Zjjz0Ws2fPjsceeyw+/fTTuPrqqzM9f9iwYfHoo4/GpEmT4pRTTonLLrtsjQcN\nAAAAQGFlvhPpqaeeit/97nex6aabRkTE9ttvH9ddd1306NEj0/Pr3q20bNky/6obAAAAwEYkc4jU\npk2bWLRoUWy77ba5xxYvXhylpaWZOxs0aFA888wzUVNTE3fffXezBtqxY7Yf8K6prIyikvyrlWpf\nl8rL01/7W5/L29D7bY7qyoooLml626ytSdVmWRaFtTFsg5VVFVHSKv92k2r/PFtRVRGtm1j3VPuG\noqJqRZS2ar3G7QAAsLHJnKb06dMnTjnllDj55JNjm222iffeey/Gjh0bxxxzTObOrrnmmoiImDRp\nUgwfPjzuuuuuzM9duHBZVFfXJOvKy8tiwR1j87f/+ORYsGBp5n6zynJR25x+W3p5G3q/La28vCz+\nfGevJmu+fsZjsWDB0igvL4uZow/PW7fvgMkbxTp/XnyetsFfPHBw3vbzj5+2UazHulBeXhb9Hz4k\nb/uYo57YKF6b8vKy6Dnp4rztU48cvlGsBwAA/56Ki4sy37BTK3OI9OMf/zg6d+4cjz32WHz44Yex\n1VZbxWmnndasEKnWkUceGYMHD47FixfHFlts0eznAwAAAFBYmX9Y+5prrontt98+xo4dG1OnTo2x\nY8fGDjvskLu7qCmffPJJvP/++7m/p0+fHptvvnl06NBhzUYNAAAAQEFlDpEmT54ce+65Z73H9txz\nz5g8eXLyuZ9++mmcd9550atXrzjiiCNi7NixMWrUKD+uDQAAALCRyPx1tqKioqiurq73WFVVVYPH\nGtOpU6d48MEHmz86AAAAADYIme9E2nvvveOmm27KhUbV1dVxyy23xN57773OBgcAAADAhiHznUiD\nBg2KM844I7797W/HNttsE++//36Ul5fHqFGj1uX4AAAAANgAZA6Rtt5663j44Ydj9uzZ8f7770eX\nLl2iW7duUVyc+WYmAAAAADZSmUOkiIji4uLo3r17dO/efV2NBwAAAIANkNuIAAAAAEgSIgEAAACQ\nJEQCAAAAIEmIBAAAAECSEAkAAACAJCESAAAAAElCJAAAAACShEgAAAAAJAmRAAAAAEgSIgEAAACQ\nJEQCAAAAIEmIBAAAAECSEAkAAACAJCESAAAAAElCJAAAAACShEgAAAAAJAmRAAAAAEgSIgEAAACQ\nJEQCAAAAIEmIBAAAAECSEAkAAACAJCESAAAAAElCJAAAAACShEgAAAAAJAmRAAAAAEgSIgEAAACQ\nJEQCAAAAIEmIBAAAAECSEAkAAACAJCESAAAAAElCJAAAAACShEgAAAAAJAmRAAAAAEgSIgEAAACQ\nJEQCAAAAIEmIBAAAAECSEAkAAACAJCESAAAAAElCJAAAAACShEgAAAAAJAmRAAAAAEgSIgEAAACQ\nJEQCAAAAIEmIBAAAAECSEAkAAACAJCESAAAAAElCJAAAAACShEgAAAAAJAmRAAAAAEgSIgEAAACQ\nJEQCAAAAIEmIBAAAAECSEAkAAACAJCESAAAAAElCJAAAAACShEgAAAAAJJUUopPFixfHxRdfHO+8\n806UlpbGdtttF0OGDIktt9yyEN0DAAAAsJYKcidSUVFRnHbaaTFt2rR47LHHomvXrnHDDTcUomsA\nAAAAWkBBQqQOHTrEPvvsk/u7e/fu8d577xWiawAAAABaQEG+zlZXdXV1/PrXv44DDjigWc/bcvNN\no6ikVd72msqqJtvrKi8va1bfLaWl+23O8moqV0RRSes1bl/Tfjd0WdelOetcVVkRrUpK17idtPLy\nsqisqoiSVvlfx9r2rHXrw+dpX4qIWFFVEa2beC1T7XU157WpqKqI0iaWm2pvWL8iSlvlPx6m2uva\nGN7jiqrKKG2VfzqQaufzo6KqKkpb5Z9Lpdr/3VVUVUdpq/yfz6baN9a+Afj3UvBZ4dChQ6Nt27Zx\nwgknNOt5RSWtYsEdv8rbXv7jE2LBgqWZJuwLFixtVt9ZtHS/62J5/7j1rLzt2559+3p9/Vpa1gu3\ndbHO5eVl8Ye7D8vbvv9pUzaK13B9yfp+lJeXxZj7Dspb0/+k/8nV3fXLg/PWnX7itI3imLAxKC8v\ni7MnHpK3/dajn1hn+9yhj/wwb/vjRzzY/OVNOjf/8o68+XN3vDxs4si87VOOvnCjWA/WXnl5WfQa\nPylv+2N9jrQtNKG8vCx6T5iVt31C733W2etXXl4WP5zwf3nbH+y9u/cOgAaKi4uiY8f2zXpOQUOk\nYcOGxdtvvx2jRo2K4mKfhgAAAABsLAoWIo0cOTJeeumlGD16dJSW+ioPAAAAwMakICHS66+/Hnfe\neWd86UtfimOPPTYiIr7whS/EbbfdVojuAQAAAFhLBQmRdtppp3j11VcL0RUAAAAA64AfJgIAAAAg\nSYgEAAAAQJIQCQAAAIAkIRIAAAAASUIkAAAAAJKESAAAAAAkCZEAAAAASBIiAQAAAJAkRAIAAAAg\nSYgEAAAAQJIQCQAAAIAkIRIAAAAASUIkAAAAAJKESAAAAAAkCZEAAAAASBIiAQAAAJAkRAIAAAAg\nSYgEAAAAQJIQCQAAAIAkIRIAAAAASUIkAAAAAJKESAAAAAAkCZEAAAAASBIiAQAAAJAkRAIAAAAg\nSYgEAAAAQJIQCQAAAIAkIRIAAAAASUIkAAAAAJKESAAAAAAkCZEAAAAASBIiAQAAAJAkRAIAAAAg\nSYgEAAAAQJIQCQAAAIAkIRIAAAAASUIkAAAAAJKESAAAAAAkCZEAAAAASBIiAQAAAJAkRAIAAAAg\nSYgEAAAAQJIQCQAAAIAkIRIAAAAASUIkAAAAAJKESAAAAAAkCZEAAAAASBIiAQAAAJAkRAIAAAAg\nSYgEAAAAQJIQCQAAAIAkIRIAAAAASUIkAAAAAJKESAAAAAAkCZEAAAAASBIiAQAAAJAkRAIAAAAg\nSYgEAAAAQJIQCQAAAIAkIRIAAAAASQUJkYYNGxYHHHBA7LLLLvHaa68VoksAAAAAWlBBQqTvf//7\nMW7cuNh2220L0R0AAAAALaykEJ3svffehegGAAAAgHWkICFSoZSXl2Wuq6msjKKS/Ktf2561rqX7\nzb68FVFU0rqJ5TXdvvrystZVV1ZEcUlp3pra9vVVl9W6WOesy6uqrIhWTdTXtv+71WXRnPcta11l\nVUWUtMrff2171rr11W+W/mtrVlRVROsmamvbs9Zl0Zz3pKKqIkqbWG6qveHyVkRpq/zHw1T76str\n6X4rqiqjtFX+439te0vXZV+P9TO+LONcd31XRWmrVk3UrWz/vNRlsXJb2LDXI3tddZS2yn9Tfm17\n1rosVr5+LdPvuu27JkpbFTVRt7J9RVVNtG6irrY9a11lVU2UNFFX276+6qqqaqJVE3W17Z+Xuuqq\nmihuoq62PXNdZU0Ul+Svi4hcTap2fdfVVNZEURN1te0tX1cdRSX59+HadnX56qqiqCT/+aG2vdB1\n67PvmsqqJsfVmM9ViLRgwdJME/vaugWj7spbU37m6XXqbm+i7qxm9zv/juvz1nT+8aXNXt57t1+c\nt2abs4Y3e3lZ69645ci8Nf9xzqRc3Su3HZG3btefPJKre+n2H+St2/OsR3N1/zuqV966r5z5WOb1\nqLsuWeueuuuwvDXfOX1Ks5f327t75q3pcdrUXN0T9+SvO+TUVXWT7z00b93hpzyeq3ukiboj6tRN\nGHNI3rre/Z/I1f2mibq+deoeGHtw3rrjT562zrbVrHWj7s8/vjN/tGp8t/4qf93ZJzR/PW74df7l\nDTxu1fKu++/8dT87dlXdkN/kr4uIGNx3Ve3lD+V/764+ZtV7d9H4/HUj+jyxzt6Tox7J3+/DRzS/\n30MfOS1vzeNH3L3O1qPnpMvz1kw98upVdQ8PyV931OA6ddc2UXdZru6wh4fnrZty1MXNXo/DJt6c\nf3lHn1un7rYm6n6yqm7CqPx1vc+sUze6yfFN6T2gTu09TdSdmqs7fMKYvHWTe/evU/fLJupOXFU3\n/lf56/qcUKfugSbqjq9T95sm6vrWqXuoibpjcnW9xk/IW/dYn97N3hZ+MP6xvDWP9ulVp25KE3WH\n5eqOGP9E3rpH+hySqzty/G/z1k3q06NO3fQm6g5YdYyZ8GTeuod775erO3rCM3nrJvb+VrNfvz4T\n/pq3Znzvr9Wpe6HJ5Y3v/eVm99134ut5a35z9E65uhMmvp237ldHb5erO/fheXnrbj6qa65u0MP/\nyFt3zVHb5uquffj9vHWXHdUlV/dfD3+Qt+6Co7bO1d0xcX7euh8f3TlXN2bih3nr+h+91aq5zIQF\neeuO712eqxs/4aO8dX16d1o1J3sof90Rx6yqm/qb/HU9+66q+59f56876LhVdX8Yl3899u+3aj2e\nuj9/3Xd+tKpu5n356/Y9aVXdX+7N/zpHROx9yqrX+m9356/tftqqupfuzP8e73nGqvf41dvz1+1y\n1qq6uTfn37Z2OHfVtvXOyPx1X7xwVd37w/Jv010uWbVNvz/infx1F30xV/fBDXPz1m09cIdVdTe+\nmr/up7usqhs5J3/dhXusuob9r/zHo84XrDoWzf9F/uNb5/NXHd/m3zQrf915+9Sp+1MTdf+5qu7m\n/MfzzueuOp5/eMsf8tZtdc7+deryn2+2OmfV+ebDW/Ofv7Y6+5A6dZPz1q2sPXxV7W2P5K/7yRGr\n6m7Pf27f6qzeder+u4m6Y5scV2P862wAAAAAJAmRAAAAAEgqSIh09dVXx3777RcffPBB9O/fPw47\nLP9XggAAAADY8BTkN5Euv/zyuPzy/L8HAQAAAMCGzdfZAAAAAEgSIgEAAACQJEQCAAAAIEmIBAAA\nAECSEAkAAACAJCESAAAAAElCJAAAAACShEgAAAAAJAmRAAAAAEgSIgEAAACQJEQCAAAAIEmIBAAA\nAECSEAkAAACAJCESAAAAAElCJAAAAACShEgAAAAAJAmRAAAAAEgSIgEAAACQJEQCAAAAIEmIBAAA\nAECSEAkAAACAJCESAAAAAElCJAAAAACShEgAAAAAJAmRAAAAAEgSIgEAAACQJEQCAAAAIEmIBAAA\nAECSEAkAAACAJCESAAAAAElCJAAAAACShEgAAAAAJAmRAAAAAEgSIgEAAACQJEQCAAAAIEmIBAAA\nAECSEAkAAACAJCESAAAAAElCJAAAAACShEgAAAAAJAmRAAAAAEgSIgEAAACQJEQCAAAAIEmIBAAA\nAECSEAkAAACAJCESAAAAAElCJAAAAACShEgAAAAAJAmRAAAAAEgSIgEAAACQJEQCAAAAIEmIBAAA\nAECSEAkAAACAJCESAAAAAElCJAAAAACShEgAAAAAJAmRAAAAAEgSIgEAAACQJEQCAAAAIEmIBAAA\nAEBSwUKkN998M/r27RsHH3xw9O3bN956661CdQ0AAADAWipYiHTllVfG8ccfH9OmTYvjjz8+Bg8e\nXKiuAQAAAFhLJYXoZOHChfF///d/MWbMmIiIOPzww2Po0KGxaNGi2HLLLTMvp7isXdPtxUX/v659\nC9eVZazbLGPd5pnqWpV1yFi3Rca6pl/rVXWdMtWVlG2Vqa51C9eVZq1r33Rd3do2idrm1m3SwnWb\nrqe6tu07t2hduxaua9+uZevKWrhusxau2zxrXdum6+rWdkjU1tZtkbFuy4x1HTPWlW+arW6rTcsz\n1nXMVtc22/Fyq7bZjr9btc12PN+qbbbzQ/a6bOel7HXZzoctX9f0+bo5tc2vyzb3aPm6tht43abr\nqW6TFq0rb9umhetKW7iudZN1zaldVdf09L+2rlPbVpnqtsxY1yFj3eYZ6zbLWFfWtunPzHNzhYx1\n7TLWtc1Yt2kL123SrmXr2rRwXWn79D0MWWtz1xAZ60rKstZl27Zabba+6rLtw9nrsh07ijPXZTu+\nFZdlrct2/M1el+38kL0u2/krVbdmy8x2zk7lKM1VVFNTU9OiS2zESy+9FJdccklMmTIl91jPnj1j\nxIgRsccee6zr7gEAAABYS35YGwAAAICkgoRIXbp0ifnz50dVVVVERFRVVcWHH34YXbp0KUT3AAAA\nAKylgoRIHTt2jN122y0mT54cERGTJ0+O3XbbrVm/hwQAAADA+lOQ30SKiJg7d25ceumlsWTJkths\ns81i2LBh8R//8R+F6BoAAACAtVSwEAkAAACAjZcf1gYAAAAgSYgEAAAAQJIQCQAAAIAkIRIAAAAA\nSUIkAAAAAJKESAAAAAAkCZH+v5EjR8aYMWPiX//61xo9v7q6OmbMmNHCo1pl4cKF8be//a3RtqVL\nl8bIkSPj9NNPjxNPPDH3X3OXd8IJJ0RExIgRI1pm0BFRVVUVl19+eYstD+qaOXNmpsc2dM3ZT5Yt\nWxZz5sxZxyNi0aJFUVFRkfu7oqIiFi1atB5HREubO3dupsfefvvtgvfZ0pYtW5bpsTVZbiGPR1VV\nVXHzzTcXrL9CcFxZ9z4vc4UszLuzaeq6CkgrWd8DyOpPf/pT7LXXXlFWVhYREUuWLIk5c+bEvvvu\n22j9O++8E++8805UVVXlHvvud7+bd/mdO3eOuXPnxhlnnBH3339/nHfeeckxbb755jFkyJCIiCgu\nLo5f/OIXTfbR3HU5/vjj484774yampo48sgjY7PNNov99tsvLrnkknp1l112Weywww7x1ltvxXnn\nnRcTJkyIPfbYo0G/qeUtXLjCoDpEAAAgAElEQVQwFi9eHE8//XScc845UVNTU+/5m266ab2/X3vt\ntfjCF74Qbdu2jYiITz75JN57773YaaedcjWtWrWKV199Nfma1FVRUVHvfavt95vf/GYUFRXlfV5j\nE4JPP/00Pvjgg3rL23HHHevV1NTUxPjx4+Ott96Kiy66KN5999348MMP46tf/Wqjy1td7fj+/ve/\nN7ledfttbDmNLXN1VVVV0apVq0bbRo8eHT/84Q+jQ4cOERGxePHimDBhQpx22mlN9tWUmTNnNtgu\nG3vsz3/+c+y+++7Rrl27eOihh+LFF1+M008/Pbp27drk8i+55JIoKyuLU045JbbZZpvo3bt3k+/x\n+PHj6/09fPjwePjhh5OP1cq3baUC4NX36+XLl8ejjz4a8+bNi8rKytzjF198cZPLySfrfjJjxowY\nPHhwtGrVKqZPnx4vvvhi3HbbbTFq1Khm9Xfuuec2+TrfdNNNzVpeXZMmTYr9998/Nt9884iI+Pjj\nj+PJJ5+MH/zgB7marPvcsmXLom3btlFcXByvvfZavP7669GjR48oLS2NiDXfj7I444wz4pe//GXu\n78rKyjjzzDPjwQcfbNYYm/taL126NN58881Yvnx57rGvf/3rDZ43derU2G+//aJ9+/Zx0003xezZ\ns+OCCy6IPffcM29f119/fVx66aVNr3gzffjhh9GhQ4fc+tZ6/vnnY8SIETFv3ryoqqqKmpqaKCoq\nyh2n//znP0dEROvWraN79+7N7nfkyJGxxRZbRN++fXPnoLry7et1DRw4sMGxorHHzjrrrPj0009j\nn332iW9+85ux7777xlZbbZVrHzduXJNj7devX7P7bI7BgwfHCSecEDvvvHPemh/96EcN+mjssYiV\n57JZs2ZFxMrz7g477NDoMrMcj4477rj49a9/Xe95jT0Wkd6XIlYeK5988sk499xz865rU+bMmVNv\nfvTWW2/Fz372s5g/f35Mnz495syZE9OnT49zzjknV9PcfXjhwoVx//33Nzg/rF73wgsvxPnnn5/7\nEPLFF1+MBx98MIYOHVqvLutr+MYbb8Qdd9zRoN/Vz5sREW+++WZss8020aZNm3jqqafi5Zdfjr59\n++aO2xHZ3o+s69vcc3tEtvlb1rlHaq6Qmr9FRJSUlMSXvvSlTMfe5hwTmrMejc2Dy8rKonv37nHR\nRRdFeXn5Gs2761p9XtaYcePGRXl5eRx00EH1Hm/sdSwrK4vOnTsn+823zLpefPHF2HrrraO8vLzR\n9pkzZ8bcuXPjhBNOiI8++iiWLl0a22+/fa4963VV1vHNmzcvxo8fH7NmzYoPPvgg2rRpE7vuumsc\nfPDBcdBBB0VJyarL7CzznjU5r0c0/Z6NGTMm+vTpE2VlZXHRRRfFiy++GJdffnl8+9vfbnKZqXNs\nrXxzgPVlwYIF9baPxsZXVVUVffr0yXTeXdPrm3xSc6PmHjuyvL9rcvzNYqMJkVY/AbRv3z7vxeKN\nN94YDz30UOywww5RXLzyZquioqImA55+/fpFRUVFbiObPXt2cpIyevToen/vuuuuMXv27OjWrVuL\nrMu//vWvKCsri0ceeSR69eoVAwcOjCOOOKLBwe7tt9+OW265JX7/+9/H4YcfHgcddFCjdyKllnfQ\nQQfF9773vaioqGgwqS8qKoqXX3653mOXXnpp/OY3v8n93bp167jkkkti4sSJ9eq++c1vxpAhQ+LI\nI4+sdyBafTLw29/+NoYOHRoLFiyIiMjtWLX9TpgwISJWbuwff/xx9O3bN3dQrjvxqTVu3Li44YYb\nokOHDrmdp6ioKH7/+9/Xq7vuuuti4cKFMWfOnLjooouiXbt2ce211za6U33lK19psCOWlJREt27d\nYt68edG6deuoqamJ999/P9q3bx9FRUWxdOnS6NKlS0yfPr3J5dRV97V+7rnn4sEHH4xnn302Fi5c\nGCUlJbHLLrvEQQcdVG/SN2XKlBgwYEDueVtssUVMnjw5c4jUp0+fNQ5phgwZEo8++mi8/vrrMWbM\nmPjBD34QgwYNqncR3pgePXrE22+/Hddff33cfPPNuW3xj3/8Y7zxxhvRp0+fiIiYOHFivYnA22+/\nHW+99VYsW7asXgC0dOnSRoOF1LZ19913R8TKC88XX3wxdzH22muvRbdu3RocO84777xYsWJFdOvW\nrdET50knnRT33Xdfgwnf6ieLurLsJzfffHOMHz8+Tj/99IiI2GuvveKdd95p+ML+f5999lksWLAg\n2rRpU++id//998/7nOY444wz4s4776z32L333htHHnlk7u8OHTrEvffeWy9EyrrPnXjiifGrX/0q\nPvnkkzj11FNj5513jqeeeiquv/76iGjeftTYeE8++eTYZJNNYsCAAQ0CrIqKinrBQ9u2besFO1nH\n2JzXeurUqTFs2LBYsmRJbLXVVvHOO+/Errvu2uh57o477oiePXvG7Nmz4+mnn44TTzwxrr766vjv\n//7vvMuvDQaa0thxoCknnXRS/POf/4wTTzwxzjzzzNzjgwYNirPOOiu6d++eOw/XVXueqL0Aaq7V\nP/ipldrXI1be+bFo0aJYvnx5zJ07N/eBydKlSxu9G3nKlCmxYMGC+NOf/hTPPvts3HjjjdG+ffuY\nOnVqRES89NJLEbEyuH/uuedyIfvMmTNjn332iX79+mXuM9+HJU0dO7bffvs455xzolOnTtGvX796\nFy+VlZWxYsWKqK6ujs8++6xev40dKydNmhQ33nhj7ph35513xsCBA+vtv7WyHI8+++yzen9XV1fH\nP//5zwbLikjvS7W+973vxT333NPgWJklNL7pppvqzd2uuuqq+PGPfxw33nhjRETstttucfHFF9cL\nkWr34dmzZ8fs2bNzr8XkyZMbne+dc845scMOO8S+++6b90OfiJXHwbvuuisGDhwYEStfv8ZC3qyv\n4YUXXhiHHHJIHH300U32GxFx/vnnx/jx42PevHlx5ZVXxre+9a245JJL6gWAWd+PLOub5SK9rl/+\n8pfxX//1X8n5W2rukXWucOSRR0bnzp0bfHhaV3V1dfzxj3/MdOzNckxoznrU6tevXyxZsiR69+4d\nESv311atWsWmm24aV1xxRe79yzrvbszq87LGzJ8/P5588sm455576l0HDBgwIN5///3ch+RLly6N\njh07RmlpaYwcObLJY32+ZdZ14403xquvvhoHHnhgg7B19OjRMWPGjFiwYEGccMIJUVlZGZdddlm9\nsDXrdVWW8Q0ePDjmzJkThxxySAwcODA6deqUO74//fTTMXr06Ljqqqty65xl3rMm5/WIpt+ziRMn\nRv/+/ePZZ5+NRYsWxbXXXhtXX311MkTKd45dXb45wOoOPfTQKCkpiQEDBkSvXr3Wui7f/O3000+P\nSZMmNTm+Vq1a5eZ0bdq0ydtHxJpf3+Rbj9TcqPbYkVWW9zfrtVVzbTQhUu0EqlZxcXG9TyfqeuKJ\nJ+J3v/tdtG/fPu/yhg0bVu+gUVlZGeeee27uAHz44YfHUUcd1eSY3njjjXp/z5kzJ4477rjYbrvt\nom3btrkxrz4hz7outV+lmDVrVhx22GFRXFzc6Am69iK2devW8fHHH8fmm2/e6O3RqeVdcMEFccEF\nF0S/fv1i3Lhx8cknn0RERLt27Rpd/6qqqmjdunW9cTS2HlOmTImIlRtvrcYmA8OHD49f/OIXeXes\nbbfdNiJWfvpZN6i64ooronfv3g1Cv3vvvTcmT56ce14+s2bNikmTJuXe7y222KLRi8WIla9RmzZt\nok+fPlFTUxMPP/xwLF68OLp27RoPP/xw3H///TF06NDYe++949BDD42IldvjX/7yl3rLeeWVVyIi\n4vbbb4/S0tJcIPbQQw/FihUrcnWnn356tGnTJnr27Bk//elPcyepN954I5566qk4+eST44ILLoj9\n9tuv0clPvn2kMbfeemvu/5sb0pSUlERRUVE8+eSTcdxxx8WPfvSjeOKJJ5J9HnjggfX+/sY3vhER\nK79S+eCDD+b2k/333z+OPfbYXN3zzz8fEydOjI8++igXAEWsDGQbm4Sntq3aE+SFF14Yl112WXz5\ny1+OiJUXDffdd1+D+rfffjsef/zxvOtV+5XQ2uAzi6z7yeqfwK0eYlVXV8ekSZPioYceildeeSXa\nt28fFRUVUVJSEgceeGCcfPLJyWNbVnUvtJqy+naYdZ+rqamJtm3bxpQpU+KHP/xhnHPOOfVOxln3\no3zjvfDCC+O9996Lxx9/vNE7DxctWhRbbrllRKz8tL26urrZY2zOaz1q1KiYOHFinHrqqTFp0qR4\n5plnYtq0aY3W1oYEzzzzTBxzzDHRq1evuPfee5tcflMXSLXq3kmQxeOPPx6LFi2Kv/71r/Ue32ST\nTZqcAB511FFRVFRU7xzSHKtfhNVK7esREY899ljcd9998eGHH+YCkIiVgVZjoXvtBwPvvfde/OMf\n/4gOHTrE1772tVz7ddddFxErL6AeeeSR3CeU8+bNi2uuuaZZfTbnmFGrf//+0b9//3jyySfjgQce\niOuvvz769OkTxx57bDz44INx6623RlFRUb0LuPbt20f//v0bLOvee++NiRMn5o4zCxYsiFNPPbXR\nECki//Ho7rvvjrvvvjuWLVtW787Vzz77LO92kdqXatWeq0aMGBFFRUWNBoX5rP7h39KlS2O//faL\nkSNHRsTK+djq22TtPvyb3/wmxo0bF5tssklERPTt2zdOPvnkBn0sWbKkwQVuY1asWNHgor5u3819\nDaurq5u8iKurdj1nzJgRxx13XJx++ulxxBFH1KvJ+n5kWd/ac3tW9913XzzxxBPJO1hSc4+sc4Ud\nd9yx3oVnY2o/HMly7M1yTGjOetR68skn46GHHsr9femll0bv3r1jwoQJcdhhh+UezzqfaMzq87LG\nXHjhhRHR8Jzy/e9/P/bZZ5/cMn73u9/Fs88+Gz169Ihrrrmm3tizLrOusWPHRnV1de7cX9fkyZNj\nwoQJccwxx0RExNZbb93gK7tZr6uyjO/AAw/MfRulrl122SV69uwZH3/8ccybNy/3eJZ5z5qc12vH\nkk/t+s2aNSt69eoVX/3qVzPNBfKdY1eXbw6wurFjx8b8+fPj+eefb5G6fPO31ffjfOPbfvvto1+/\nfnHwwQfXC1pXX+81vb4ZO3ZsfPjhh82eG9UeO7LK8v5mvbZqro0mRGrXrl288MILuYu7F154Ie/t\ndeXl5U0GSBERH3zwQYwbNy769esX1dXV8dOf/rReGvfTn/40OabVa2q/g/zJJ59EUVFR3vFlXZdv\nfOMb0bNnz6iqqoqf//znsWTJkkYnxV/60pfi448/jl69ekXfvn2jrKys0a+zZV3eddddF3379s1N\nyHbfffcYMWJEg1v3SkpKYt68ebnH33nnnUYPxnXvwGnK5ptv3uiF3OqWLVtW7+Ju0aJFjf62Q3l5\neTJAioho06ZNvVCvsQvFWtOmTasXYJ144olx9NFHx8SJE2PMmDERsfLWxyuuuCJXc8ghh8Qdd9zR\n6PJ++9vf1rvL4NRTT42jjz46NxG85JJLGp1kduvWLbp16xYDBgyI9957LyJWbgdjxoyJk08+OWpq\namLs2LHxxS9+sUGfVVVVceWVV8bVV19d7/Gtt9469//NDWkqKyvjhRdeyN0FUNvP6hq7VffCCy9s\nsL3+85//jOXLl+cm6xUVFfU+eT3qqKPiqKOOiokTJ8bRRx/doJ/VZd22Xn/99dx+GRHRrVu3eO21\n1xrUde3aNZYtW5b3OFN710+W7a9Wlv2kXbt28dFHH+W211mzZuU+8at17LHHxle+8pX42c9+Fnvs\nsUdun1y4cGE89dRTMXjw4Nhmm21i2LBhMXz48Eb7yfq1vMZusS4vL4//+Z//yd3yPW3atOjYsWO9\nmqz73PLly6OioiKeeeaZ3G+2NXbMSu1H+cZbux8dcsghDZb5ox/9KI477rjchdUjjzxS706/5o6x\nsrIyJkyYEC+//HK9iWPdCUNJSUl07Ngxt+9861vfihtuuKHBsiJWXhBMnTo1pk6dGrfffntERKPB\nWV353u/Vl5tF3WPwlltuGT169KjXvt9++8WMGTPy3gFc+341506kN998Mz744IPYZJNNYqeddmp0\n/8uyr5900klx0kknxahRozJddH/961+PnXbaKfr27RsjRozIe2H73nvv1TtPdu3aNd59991m9dmc\nY8bqunfvHnPnzo1XXnkl/va3v8X48ePjlFNOiVdeeSWGDBkSgwcPzrScusFQvq+NRDR9POrbt28c\ncsghMXTo0Hr9tm/fvtE7hyOy70uNXUA2JuvX41asWJFbh/nz5+cNHxcvXlzvua1bt47Fixc3qNtp\np51i/vz5yQCktLQ0N1+MWPlVoLqfijf3NezevXu88sorseuuuzbZb8TK1/qjjz6KP/zhD3H++edH\nRMOL96zvR9b1jVgZ2t11110NjoOrf6q/9dZbZ1peau6Rda5w2223JfuqrWnOsbepY0Jz1qPWkiVL\n4uOPP673swW189+6AWTWeXdE9nlZY3c2r36+eO6552LQoEG5vw888MC45ZZb4vLLL29wR11E/a+f\nLVy4MJYsWZK8M6K4uDh23333Bo9vsskmDQLg1ceX9Tooy/j222+/JsfZoUOH3PsUkW3ek3Xbyvqe\nRax8XUaPHh2TJ0+OBx54IGpqahpdZnN+2iMiPQdYXefOnaNz587Jb+tkrWtq/pZlfFVVVbHTTjs1\nuCFkdVn3zXzrsddee9V7PDU3quuNN96IV155pd7vc9a90z9i1fs7ZcqUGDduXN73NyJ9bdVcG02I\ndNFFF8VPfvKT3AX13//+93p3TtTVvXv33G29dU/Idd+wYcOGxamnnhqdOnWK6dOnR8eOHTPfbjt3\n7txGfyNg6623joEDB+bClz322KPRH6nOui5XXnllvPLKK9G1a9do3bp1LF26tMGFf0TkLjL69+8f\ne+21VyxdujS+853vJJe3bNmyRpd35ZVXxjHHHBO9e/fO3W0zePDgXEhS6+yzz47jjjsu97rOmDGj\n0eXVWrhwYb1Jw+rf2+3Ro0c88MAD0bNnz3rv2+q3qJ900klxxBFH5G4xnzFjRpxxxhkN+vvP//zP\nGD58eBx22GH1lrd6KLPzzjvHo48+GjU1NfHuu+/G6NGj633KXNenn35aLzibN29e7qsItRfrNTU1\n8Ze//CX23nvviIj461//mvci+bPPPou33347tttuu4hYGcTVvdNn9bHWPShGrJw01D530KBBcdFF\nF8XIkSOjqKgovvKVrzR60Zjl+/J77bVX7LnnnvHcc8/FPvvs02RtxMpb4wcPHhz77rtv7LTTTvHm\nm2/mxlVXY7fqDh06tMGtuoceemj07ds3evbsGfH/uPvy+JrO7f0nCWpKUYTWVE2/RIsUQYzVSI2Z\nBImYp9RQUyQhYo6QRojeujQxxFyJIREJSksRamj09oaSaEkILSGCJCI5OWf//jifd9+9z37P2WtH\n3Nv+ns/H594er3P28A5rPWutZ8EYSWD/X4pmzZqhuLhYtVaZOrdq1KiB5ORkkTg4fPiwbAx7nra2\nthg6dCh69eolcypMyReKfoEUalokQUFB8Pf3x7179zBmzBjk5OQoCMqYmBjZHGGoX78+vLy84OXl\nha1btwKAxTp3U1BIEMCo0TZ9+nRx77OxsRGNIQbqmhs0aBB69OiBFi1aoGPHjqIBawq1dcSgRRtg\n2LBhaNasmZiJt2LFCm40nXqNS5YsgV6vx6VLl+Dn54fU1FRxj2CoVq0aBEFAixYtsGvXLjRp0sRs\ns4fFixdj8+bN4nXm5OSYXatpaWn48ccfARiJKdP7dXFxETM6Hj16hL59+4rZHaaRa6qOS0JCAmJj\nY1GrVi3xvqTlWNRoW1FREbZt24YDBw6gWrVqqF+/PsrKypCbmwtHR0dMnjwZzs7O4vumrHVWuj5u\n3DiLOncMU6ZMwcWLF7FlyxZcuXIF3bt3R9euXRXrrEGDBtiwYYMYCT948CAaNGggG8MIJHPnoTnt\nAnOZzYAx/X3Pnj04f/483NzcsHv3bjRt2hRFRUVwc3PD+PHjRRJCTSuqefPm+Oqrr+Dr6wsA2L9/\nv1ntB0v7ka2tLWxtbREREYHatWuL+yQTqOftUdS1BBgJxVu3bsHV1RXFxcXQ6XQyhw2glWONHDkS\nM2bMQEFBAdavX49Dhw4hICCA+5tdu3aFv7+/mEmQnJwsW3NMO6moqAgeHh7o0KGD7PpNNZGmTp2K\nSZMmIS8vDyEhIUhLS5PZjLa2tuIebYlcZHOmvLxcLE+Q/i5vzowbNw4DBgxAt27d0K5dO+Tm5ioC\nEtT38fz5c9L9AnQNz5kzZ2LhwoX4+OOPzdrxgLG0nGJ7eHt7W9RKpZC3bMyiRYuwZcsW0t5L2RO0\n3MeYMWPg6ekpXvfZs2cxefJkFBcXK5x9KkFjyS6jZDZLv9NgMODnn38Wr+Vf//qXaP+akjWm5Wc6\nnU5WfqZFbwgw+mDp6emwsrKCwWBATEyMTKMVoPtVlOtjyM7ORmhoqEVdNYBm91DnFtWWBoxn7Tff\nfIN58+ahYcOGyM3N5WaWUmUGqDYAVRuOokvHvi8iIgJ//vkn9uzZg8zMTPzrX/+Cn59fha6PaoOw\ntens7Gxxbebl5SE8PFxmwy9cuFAkXJk/IAiCRduIYefOnUhISMCjR4/Qrl07pKeno3PnzgoSib3f\noKAgNGzYEHfv3jWb6UT1raiwEig5bX8RPHv2TFTS/+ijj8xGs8aMGaP4zMrKShHpePbsGUaNGgVH\nR0dueqk59OnTR5YiyjBhwgQMHjxYrFVOTExEamqqgnxRuxdm4JoTja2oWCxFSBEAPD09kZycrPoZ\n+07mnPTs2ZO7sC5cuICQkBDk5+fD2tpaNPZMFwwvemYuRT0zM1MUZu3SpQtat26tGOPi4sL9PlOn\nqKioCF988YUYuXFxccGCBQu4ZXzHjx/HkiVL0LZtWwiCgOvXr2P58uXo2bMndu3ahalTpyI9PR1z\n584V31NpaSnWrl3LdZJPnDiBxYsXixkS169fx4oVKxSpqdRNEYDodFoiCNauXYvi4mKz9fJSp5Kn\n6SN9hnq9HgcOHBCdDksYMmQIkpKS8PXXX6N+/frw8fERPzPFqVOncPnyZQDGzbdPnz6KMe7u7jh8\n+DB+//13zJ49Gx4eHvjxxx8Va106tyyVP9y6dQvBwcH47bffYGVlhVatWiEyMlIkc8wR1wwzZsyQ\n/ff69evN6hdcu3ZNpj9hqkVy9uxZrhZJYWGhmObboUMHvPnmm4rr0Ov1mD59ukKv6FUQGhrKJUGW\nLl3K/f3s7GwAxpRh0wxF3poLDQ3lztlnz57B1tYW1tbWKC4uRlFRkSJCTV1H7u7uSElJwcWLF7F5\n82Z8/vnnCA8PV+i4aQXlGtlvs/8tLCzE9OnTZVoDFy5cQNu2bZGfn49ly5ahsLAQgYGB6N69e4Wv\nbcuWLTh06JBY6nD06FF4eXlh0qRJ3PFeXl4WyzpGjBiB8PBwBAUFieMGDx4slk8w3L9/n/vvpWXJ\nlsDWwdChQ+Hp6YlBgwbJnC+DwYArV64gPj4eXbp0wdKlS8W1zWBurbM9x8HBgftvzJVFlZWV4ejR\no/jqq6/w4MEDXL9+Xfb3Dx8+xMqVK2VGZGhoqGwuXLx4EfPnzzd7HrI9zxx4RKa7uztGjx4NDw8P\nhX0QHx+PESNGiFHUvLw8i3tgfn4+wsPD8eOPP8LKygrdu3fHokWLuKQPoL4fDR8+HDt37hSv68WL\nFxg/frxCoJ6BspYSExOxadMm6HQ6nDx5Erdv30ZYWBi2b98uG8fe8/79+/HgwQOxHCslJUU2Lj09\nHT/88AMEQYCLi4uC3GXQ6XSIj4+XnUs+Pj5i9oOaSCuvtDU3NxdpaWkQBMGsDeXr64u9e/eazZio\nyJwxhV6vh16vV5RHU96Hufvm3a+HhwcOHz4svoeysjKMHTtW4fxGREQgJSUFLVu2lGmbmp7tvKAu\n77Po6Gjs27dPoZXKvq+srAxbt27FH3/8gb59+8rsjRUrVsiyy7WAsidouQ9Abv927tyZaztLCZAT\nJ07gwYMHCAgI4AraW7LLfHx80KFDBwwePJib2Xzw4EGMGDFCPF/S09MRGBgoZjq8fPkSa9euRZs2\nbXDixAnZnPDw8BDLz9hZwuaFVG+oQ4cOCr2h69evy/SGAGPp7fz583H58mVYWVnByckJa9asUWRC\nUwTb1a5PivHjx2PixIlYu3YtkpOTYTAY4O7urjgTtfgaatBiSxcWFmLTpk3IzMy0mP3n6ekplttZ\nul+qDTBy5EjY29vD0dFRZgOa7gvU5zdt2jT07t0b33zzjbh3DB06VPP1XblyBZ06dTJrg1AyhHgY\nP348nJycZITx5cuXxXPJnE3EYEpku7m5Yd++ffDz80NycjJu3ryJDRs2vFLjG4DmW1Hxt8lEAoxp\n6pSXa0kAzDQzgKVnskVNUUc3R+48efJEFKsCjMavOeEtS/fi6+uLpKQkUTSWGXta6v55oAgpAsZo\nwe3bt/Hee+8BMBJF5mqGW7ZsqZp6GhUVhe3btyMgIABJSUk4cOAAN52XmqIOAE2bNoVer+dGsBio\n6by1a9e2mEElRf/+/dGpUydkZGQAABwdHcUDikWYnZyc8P3338ucaHNdC/r164eOHTuK3/fRRx9x\njXVLApwsM8pcdxHe4ahWL68lFdrGxgYJCQkkEklLGriLiwuXCJSCWqtMnVv29vZITEwU08NNy2UY\nSWTO4DMFVb8AoGuR2Nraqu6DNjY2ePr0KQwGg8VU7ZKSEmzcuFFGBE+dOpVLVF+9elUkQaZMmYKR\nI0di+vTp4t+bkt/sQGRpuOw7mfNPWXOCIODEiRNienVBQQHy8vIUBni/fv3QqVMn/Pvf/wZgfh1R\nasejoqIQHBxstiOT6SiOqeUAACAASURBVAFu2iWpVq1amDx5ssJYZ9F0GxsblJSUwNbWFvn5+eLf\n6/V63L17F926dYOtra3CITYFNXqXnJyM+Ph4cS6zMj1zJJJaOZuajgtDkyZNUFRUhDt37nD3aWmZ\nLO8a2Bzfu3cvd/+0trZG586d0blzZ5SVlZH2HwZmaFP3hePHj+PChQu4cOEC9Ho9unfvzu0M26hR\nI9X286tXr7Z4HjKHn2r4A1AY0VIwvQOKVhQATJ48WeGImHNOAIii3QBfT4sqUA/Q1/vOnTtx8OBB\nUbvivffew+PHjxXfRy3HcnJyMkscSVG1alWMGTOGG6gEtOmfAcbAwYABAzBy5EiL4xwdHTFjxgy4\nubnJHE62RrToDVHIW1ObgonUM5i+Dy33TdXw/O6773Dq1CmRjDAHarfDY8eOWdRKXbZsGUpKStC+\nfXusWbMG58+fF8uyTLVZqGcD0+5R2xO03AdgDIqplSxS9IEYLNlllMxm6ftzcnLCd999x7V/TeeJ\npfIzLXpDqampcHNzw8uXLxEXF4eSkhIYDAYuOcME2+vUqSMjE3laUZTyOICmqwbQfA3q3NJiS1Oz\n/6gyA1QbgKoNR31+Dx8+hJ+fnyi6Xq1aNe5+rnZ9SUlJ6NSpE9cG4TXh4lV0sIoCqR3w6NEjWSB5\n+vTpMiJMa6l6tWrVULNmTRgMBgiCgFatWiEnJ0cxTktXTsDoW5mzkbXiL08iVaTLESBP3+/Zsyd6\n9OgBgC5auWrVKri7u3MXs7Q2UQo18oV6L1oNXCooQooARHHtNm3aiNchXUTBwcGIiooym3bPm7gt\nW7ZEeXk5rKysMHz4cHh7e3NTxgsKCmSOoGl6OqDeVrgimVwXLlzA3bt3ZQvQnKhcgwYN0LNnTzGK\nUVJSovjOK1eukOu8GzRooEqWWNoUw8PDERsby9VrMXc4aiGJKOjatSu+/fZbs7XJDNQSHOqmqKVW\nmVL+wGrC79y5g6CgILM14VSDj6pfwGBOi6QiHZvUHA/AGGHV6/UIDQ0FYHy+YWFh3DRfNRKER34z\nSMlva2trfPnll6SAgJbOic+fP4fBYBDfr/S5M1Bqx1nGILWrGrVzUp06dfDs2TP06tUL/v7+qFev\nnswZ00LGArSuUgxSx0lNL1CqjcaDmo4Lg9o+bSnYY/p7WsZQytO04sSJE3B2dsbkyZPRtGlTs+NK\nSkoQGxuL3NxcrF27Frdu3UJ2drYiI45yHlIMfzWNK2l5rZpWFK+Lm5WVFZ4/f272LJVmAAqCgNDQ\nUG4GIEWgHqCv96pVqyocRF6gi1KOpcUAp5at8BxB5nR4e3uLjs+pU6cQGRkJFxcXeHt7my2jZ3un\nlJjmOTt+fn6IiYkRs8ufPn2Kzz//XBYUpZC3VJtix44dGDdunCZtPaqGZ7NmzRTlSlJo7bCoppXK\ngiSA8TmyJhsrV65UBBqkZ0NpaSmOHz/OzRiinHVa70OtPTgDlQABLJdQ8RzNy5cvy4hL0zEso40F\nRgB+MNNS+ZkWvaG4uDi4ublh1qxZSEpKsrjfUwXb1a5PCqqu2qZNm+Dj4yOzBw8ePChrrECdW1rK\n2akdvKkyA1QbgKqVRn1+pvvB8+fPuQLhatfHiDyqDZKfn4/09HTxXDt58iTatWuHY8eOYeDAgZg2\nbRoAYym4qazCu+++q/g+qsxFjRo1oNPp4ODggKioKLz99tvcs1NLV04tVS0U/OVJpIp0OTJN3//i\niy/E9H3GBKplEtjb28Pf35+7eBk5ZQo18qUi91KZoAgpAsbN+8iRIyKZ4+joKDskxo0bB4DespUt\n/EaNGuHUqVNo0qQJ18lKS0tDcHCw+PxCQ0MRFRUlEoAMam2Fqc4sQ0hICK5du4YPPvhAdQGeOHEC\n4eHhFttHU+uoAeMcYTXaUnLS9BotbYqsZEkrMVQRQUNzSEpKwrZt21C9enXUqFHDrGHToUMHmT7O\nu+++y00Tp26K1FplafmDq6srHj58yC1/kDoxQUFBCidGq8GnRb/AkhZJRfYMiuMhNZwBoGPHjma7\nMKmRIFrIbwcHB2RkZKgKJ1K7uCUlJSE2Npb0ftVqxxmhqxZd19o5adOmTbCxsUFAQAAOHz6MoqIi\nRW07lYwF6NG7tm3bYsGCBWJE+sCBA1xBdAZzTQAY1HRcGCjt36X3kp2dLXu3nTt3BvCf91G/fn2L\nnX0Y2L4vRZUqVdC+fXusWLFCDPJoASPqXrx4gRcvXpgtFV62bBkaNmworoHGjRsjMDBQRqpQz0OK\n4U/RNKNqRcXExGjq4gYA69atQ3x8vHhu5OTkYNq0abL7pQrUA/T1XrduXWRnZ4vvOTk5mUt+zpgx\nA2PGjBHLsWrWrIn169fLxmgxwJcvX04ibhs2bIhr167JSkhtbW1x7NgxZGZmik1YvvrqKzx9+hQp\nKSlYuXIliouL4e3trdB4pDo7L168kMkT1K1bV+yyq+W7qDYFm0datPWoGp4tWrTAuHHj4OrqKiOJ\nWXBPa4dFNa1UafCpevXqWL9+PYKCghAcHKxw3EzPBm9vb7OZnWpnndb7UGsPzkAlQADjuU+xyxgi\nIiLMZibu2bMHa9asQd26dcX1aS6YuXjxYsyfP19saMLKz6SgELeCIIilujxCU0pmUgXbzV0f76yj\n6qodOXJEtvfVq1cPqampsvdMnVtUWxqgZ/+FhITgiy++wKNHj+Dj4wMXFxduIx01G0CrNhz1+X36\n6adYsmQJiouLkZiYiG+++UaUitByfQzUoHFeXh4SExPFvfXzzz/HzJkz8c0338DHx0ckkUpLS+Hp\n6SkSb0wbbPbs2bL7HjVqlFmZi8WLF4uBtqVLl0Kn0yEkJATR0dG4d+8ed35r6cppqaqlIvjLk0gV\n6XJESd+fOnWqeJAzhIeH47vvvgNgTOk2JxdlrnORGvlSkXupTFCEFBneeusts5F45oBQU6jHjh2L\nZ8+eYfbs2QgMDERhYSEWLFigGLdu3Trs2bNHJO6YPo0piQRYbnOuNZPrX//6F1JTU0mtpqOiolRL\nArSkES9btgxz5sxBREQEtmzZgj179nBTcKmbIrXWWwvRRQGV5KAK7VE3RVdXV5nD0rJlS65uEbX8\nQc2J0WrwjR49Gk5OTqJ+wciRI8U0dNNOScuXL0d4eDg8PDxELRKWzi3dM3Q6nZgq/t5775mN1mpx\nPJgTYE7EGaCRIAxPnjyRZRTWq1dP9ve//vor/Pz80KJFC9SsWdOsaDA1vXrHjh2k99uyZUssXLhQ\nNKCaN2/OFeUH1Oeq1s5JzEG1trY2+9yoZCz7Pkr0bvHixdi4caMYfevevbusDFErPv74Y7z33nui\njsu0adO4xC1geZ9mOHr0KCIjI/H8+XPY2dnh7t27cHBwEPdxreR4QEAA3njjDQwbNkxsDFFQUIBm\nzZph6dKl5HUhRW5uLgIDA3Hjxg1YWVmZ7VialZWFyMhInDt3DoCxtNF0zlLPQ4rhb6rBxoNpMCUs\nLIxbHj9jxgzMmDFDUxe3N954QxZ4ePfddxXlR1SBevZ9lPUeGhqKwMBAZGdnw8XFBdWrV1eU5QO0\nUlMtBjiVuM3MzMSuXbvEd+jr64vx48djx44dirVft25djBkzBu7u7oiOjsaXX37J3ZPMZddLYTAY\nZJnRxcXF3BJD6f2YI28BdR1NVipJmYemKCsrEzOQdDqd4hzT6XRo3rw5tzsqoL3D4tWrVwHIz0Vp\nUKVBgwayznY2NjZYu3atSCJYgpWVFR4+fMj9O9OzjoGddVrvQ609OAOVAAHoJVQMlqR04+LikJqa\nqurnGAwG5Ofnq5afUYjbL7/8EidOnLDYFZuBKtgOGM8vtesDjDqCTZs2xQ8//ICSkhJERkZyy2N5\nz02ty5e5uZWfn4/du3crKih474yS/adFZkDNBpD6jm5ubqrfR31+/v7+OHz4MJ4/f44zZ86IQVqt\n18egFjRmePjwocyme/PNN/Ho0SNZwwjAqB8lXZvm7p0qc9GqVSsARpLekm6zlq6c1FJEKv7yJBID\nNYWTQS19//Hjx9i6datsUUtLM8xF4wEotEyksES+VPReKgu+vr6yUol33nmHK/pNBTUNnC2k9u3b\niyQdD+Xl5bLML3t7e64BRGlzrgVq5RtSUNpHa0kjLisrQ7du3SAIAuzs7BAQEIChQ4cqIrWUTZFF\ngCi13lqILgqoxOjMmTNhb2+Pbt26WYz6UjdFU02fHj16YNq0aYp0Zmr5g5oTo9XgA9T1C+Li4jBx\n4kTk5ORg3bp1Fr/LVLSytLQU0dHRZuekmuPBjIrBgwdDEAQcO3bM7N5HIUGA/5S4MCOFV+JiSuAD\n/DVCTa+mvl8tqbxqc5V1n1ITL9dS/qsl44wSvdPr9UhJSRGjTpWBzZs3w9/fX6bjwj6TgrpPx8TE\nIDExEZMmTcKhQ4dw/vx5HD9+XPx7JvL/1ltvkTKRjh8/LhNKHzt2LLy9vZGYmFjh827JkiXw8fGR\nNc3gdSw1JclKS0sVjgP1PKSW/QCWuw5qLYunEEgsu6lv3774+uuvRcIuMTERffv2VYzv2rUrqcsn\ndb23bNkS+/fvR05ODgRB4Ir3A7RSUy0GOJW4ffz4scwGqFKlCgoKClCtWjXZHNHr9Th79iwSExNx\n5coV9O3bF7t371Z8n6Xseinc3NwwYcIEsVvR3r17ze7nauQtQNfRLC0txeHDhxW2IC/gSsnmBtQ7\nJ2ntsKhGHoeFhSnsNmtra6xevVrhDEpJF0EQkJWVZbb5Ae+s42Hq1Kmq3VkBentwKgEC0EuoGCxl\nyjZs2JBkD1pbWyM4OBgpKSkWy88oxG2LFi3g7++Pxo0bqxJsP/zwA3744Qfk5OTI7GTe82QktPT6\nTIlpBicnJ7GKwtyzfvfdd7Ft2zaMHz8egiBg+/btaN68uWwMdW5Nnz4dH3zwgaotDdCy/7TIDADG\nclNzWm5ateFYR2QpcSTtkiyFh4eHRf+coXHjxuL3mZuP1MzX999/H4sXL4a3tzcAY7DP3t4eZWVl\nsv2fet9UmYuZM2dixYoVsnHLli1TEIUZGRnkrpzUUkQq/jYkEjWFE6Cl7/v4+Ciif9JDy1xXBCko\nY3jQci+VCVO9hpycHK5eAxVqaeDU7jsMb731FhITE2ULlVePHRgYqNrmnAKmE/Duu+9i/PjxZtOm\npaC0j9aSRsyeW506dZCZmYlGjRqhoKBAMY7iuFEjQIA2oosCc5o9psQoVWjPdFM0l6lC1fShlj+o\nOTFaDVcKYZySkoKJEyciPDxctbtPWFgYoqKixEh+eno6li1bhsOHDyvGUhyPzz77DA4ODuL1fPbZ\nZwqDWasGGqXEpU2bNiTRYF56Na+Mlvp+taTyUueq2jvWUv7bpEkTlJeXy0RJzWWaUaJ3WnWWKDh6\n9KiCMOJ9Rt2nq1Spgvr164sR2R49eshKGrRmIpWUlIjCwIAxi4hl2KkZ2+ZAbZrh5OSEmJgYlJWV\n4dKlS9i2bRtX746iwUct+wGMpNaECRNw8eJFPHnyBKtWrUJ4eDh69uwpjqlMrSjT7CapUWtlZSXL\nTCksLMTmzZtx48YNVYFw6noHIBrw0k6QLMJKKTVl77O8vJxsgFPLLrp06YLPPvtMdIJSUlLg5OSE\n4uJimY3x8ccfo1WrVvDy8kJUVJRZEWmqOP6UKVNgZ2cnrpkRI0aYJfzVyFuArqM5e/Zs6HQ6tG/f\nXlXDjJLNDZhvbsPWiVbZArXSFZ52CfsuU1tVSrrY2Nhg0qRJcHR05P57dlardc017c4aGxvL7c6a\nkJBAag+uhQChllCxs6lv374oLy/nnk3du3fH6tWrMXjwYNl64mXEt2jRAvfu3bOoM0chbtl+36ZN\nG26DGelvUwXbASUJrdfruaXHt27dwrx588SMNdOuvgwLFy5EcHAwoqOjYWVlhQ4dOijKk6hzq6Sk\nhNsZVw2WGghQZQaomj5qLe8Ztm/frthXeJ9RteaowVZq5uuqVauwYcMG0R7s0qULgoODYW1tLdOY\nKy8vx8GDBxVnnak/QpW5yM3Nlel61qtXjysJwPwfCqhVLVT8bUgkagonYEzj3LBhAzd9f+7cuYiO\njsY777yj+HdSUslcVwQpKGN40HIvlQmKXoMWqKWBU7vvMISFhSEoKEhs1dymTRvu5HZ0dMTOnTtV\n25yr4dq1awCMRq5p2nRhYSGXRGKZIuZKAgBanTfDoEGDUFBQgM8++wx+fn4wGAyYNWuWYhzFcaNG\ngABtRBcF0gyK0tJSpKSkcA0MqtAeb1PkERhUTZ8FCxaQyh/UnBithiuFMH7jjTcwdepU3L9/X6yd\nlsI06iAtBbFkEFAcj4CAAISFhaFLly7w9PTEwYMH8fDhQ9kYrRpolBIXarcQaudEanmLllRe6lxV\ne8dt27aFXq/H4cOHVe/l6tWrmDVrlugclJeXY/369dxnQ43eadFZsoTz58/j3LlzCt2JoqIibpo+\ndZ9m99qiRQvs2rULTZo04ZZVzp49W7EWeJ/NmTMHw4YNE8Wer1+/juXLl6O4uLjCz4DasTQgIABb\ntmxBrVq1EBUVBRcXF0VW6fz58/Hrr7+SNPgY1DqHUboOVqZWlJbsJupaZzBdI7wMWTXdFUqpaUFB\ngWq2iymoZRdLlixBfHy8SMr07NkTI0aMQNWqVbFv3z5x3P79+/H222+Tfpsqjj9kyBBSRFyNvAXo\nOpp37tzBsWPHSPdByeYG/mOfseu4dOkSHB0dRbtMq2yBWukKby8xBRvDnq8aMQTQS2Gp3Vmp2apU\nAoQHXgkV9WxiLdWlXXLNZcQXFxfDw8MDnTp1kj1D6XugELdamsuoCbYD2vUOFyxYICutOnz4MBYs\nWCBb64BRB2/nzp0W5w11bjk6OiIrKwutW7e2eC9aoFZ6yUDV9Jk3bx6cnJzELocHDx7EvHnzRK3K\nq1evIiMjAwUFBTLSuKioiNtpjqo1Rw22UjNfa9eubdb+lSY6LFmyBHq9HpcuXYKfnx9SU1O55wNV\n5kKv10Ov14vnu06n4zb2ohLVgDY5Agr+NiQSNYUTMD7A4OBg7t8xpvjQoUOic8RDVlYWt4UvgyAI\npK4xPGi5l8oERa9BC9TSwLVqTzRv3hz79u0ThSDNpYRu2LAB3t7er/z8mAHJa19szgijGCxa0oiZ\nYGnv3r1x+fJllJaWygxELY6blgiQlnp5CkzJq9mzZ8PHxweff/45AO1Ce9RMFUCu6WOui9B7771H\nKn8ALDsxbJ6EhYWhW7duCkPQFBTCOCYmBj/++COysrLQp08fi2N79OiBw4cPi4ZlSkqKLNvAFGqO\nR3Z2NmxtbfHtt9/C2dlZzOCUkkhaSBDAfIkL6/hUo0YNcrcQgJa1QS1voaTyap2rlHdsY2ODrKws\ni2MAYOXKlVi1apV49ly4cAErVqxAfHy8Yiw1eqdFZ8kSWMmgqe6EnZ0d13hfuXKlqD1h+pkUs2fP\nRlFREYKCgrBs2TIUFhZyI6y8CNzt27cVn/Xv3x9OTk4ybcL69esDALkE1RTSphmsxIAncKnX6zFt\n2jRRaJOHX375hazBRwWl6+Dr0IqiQMtaHzNmjOIs5n2mlnVLKTW1tbUl6zoyUInbqlWrYsyYMRgz\nZgz3e65cuYJOnTrh5s2bXM0fU9uGKo6vRduGQt5SdTSbNWuGoqIi1c6PAC2bG1BG7/Py8rgt36lQ\nK1356aefVLsdsiARI4aYPWiOGALopbCA+e6sUqgFCrUSIAC/hMrU/6GeTVoyRymlSRTiVktzGTXB\ndkC73uGLFy9kGX+enp7cILq56gzpeqfOrREjRmD06NFo3LixagYlFdTSS6qmj1rL+4cPH+LatWso\nKSmRkca1atXiEvxatOYowVZq5iu1XJcFtd3d3TFlyhSMHDnSrP6kmswFYAw+BAQEiOflzp07udnI\nVKKagZUi5ufnIzc39/9vEomlzQmCoJrCydrtWUqDbdu2LTp16oTS0lLZJmn6fZa0Chi0psZruZfX\nAYpeAwWsrIWaBq62cbJUVF4aKqAkQYqKiuDj4wN7e3t4e3ujf//+Farp5LU0BoxZSObICAomTZqE\n0aNHo0+fPqolYizFOicnB8HBwXj48CFu3rwpRuq0OG5aIkBaiK6KIDc3V6YxplVojxq9lmr6AMbI\nhLl0+3/84x+y9GJe5JHqxNy4cQNxcXHQ6XRwdnZG9+7d4ezsLDqrDBTCuG7duhg0aBDq16+vqhvC\nCAF22JeVlaFu3bpITExU7CEUx4MdiD/99BN69+6N6tWrc7NpqCQIYCR5AaXjwjo/3bhxg9wtJDg4\nGFlZWXBwcODut6brlGWYsmiNqWNCSeXVOlepQQFnZ2eEhYXBy8tLtpal+1tJSYnsXOrWrRu++OIL\n2fdojd5VVjfQLl26oEuXLvj0009J0c/09HTFZyzyJgW7X1tbW0U3PQDYt28fEhISkJOTIyspKyws\n5HaTLCkpQc2aNWXPUSo2XBH07t0bqampyMjIAKBsmsHQp08f9O3b12K7di0afFRQug6+Dq0oCihr\nXetZTM26tVRqWpHy7VcpuwD+sycmJSWhU6dOXEeTl6VtKbteCi3aNhTy1lRHs0mTJrK5wkgXW1tb\nDB06FL169ZLZmTxNJEo2Nw92dnbIycmxOMYS1EpXzOm7SMGExLUQQ9RSWEvdWQF6WblWAgSglVCp\nnU2s1N+c7czbf6kaMk5OThazMdXsdelvqwm2A/8hoT08PNCoUSPVzKUPP/wQ6enp4jVeuXKFS/JK\n13tZWRlu3LiBDz74QLbeqXMrODgYU6dO1ZTRqgZqRgtV00et5T1rjHP+/HluowBTULXmqMFWaqY7\ntVyX+aE2NjYoKSmBra2tzA9ioMp/zJ07F7GxseI669OnDzdgp2U/GjlyJGJjYyEIAry8vPDmm2+i\nd+/e5EoDU/zlSSQtBvBvv/2GgQMHyhhNU0RERCAwMBDjxo3Dpk2bzI5bvXo1XF1d0adPn1cSbZai\nsoz5ioKq16AGrZNNbePUkorKfj8oKAhnzpzBoUOH8MUXX8DV1VVzlIq1NAag2tJ43Lhx2LFjh2Lx\n8whAX19f7NixA+Hh4fD19cXw4cMV3akYpCnWwcHBihRr5rj169dPVOo3By0RIC318hRIn4vBYEB5\nebks40Cr0B41ev3ZZ5+hdevWuHjxIgBjiWnv3r0V49SyGLQ6MczYfvDgAU6fPo21a9fizz//VBjC\nFP2Ca9euoW3btmYJpLKyMuTm5sLe3l7THkLpymVvb4/Jkyfj9u3bCAwMVKTAS0EhQQBath5VNPjq\n1as4cuSIWSPJXFmhOceEksqrda5SNSpYBO706dOya5XubzVq1MClS5fEuXD58mWF8a01etekSRNy\nRz8KJk6cCA8PD4wcOZIb6Tp27BiOHTumKM8sKiqSlTVSgj6A0SBs0aIFVqxYIXNKa9euzSWzeGVb\nAFSdVDXUr18fPXr0EMt/eMTUt99+i9TUVLFd+5AhQ+Dl5YXGjRtXSIOPCtZ1kIHXdfB1aEVZQk5O\nDt59913SWmdnsZWVlcWzmAWaqFm3lkpNb968yc02561frcStGpnD9mRq9pel7HoptLSeVyNvAeOz\nSEhIkDWu8PHxkV0XYJx/PEKXB2r5mfQ5C4KAq1evcolbKtRKV7R0mKMSQwC9FFbanRUwPmupTUst\nK2cEiJOTk4Jo5TVAYNdoSoSaZtipnU1aS/0B43NcsWKFuNZ69OiBhQsXyt4zjzRjOjiTJ09GrVq1\nuL/J+22DwYABAwaQqxhSU1MRGRmJoUOHYsSIEYrSdnZtOp0Oo0ePlpElvLPJdL3//vvv2Lp1q+KZ\nUObWG2+8YXZtVxTUjBaqpg+15f2KFSswevRoeHl5WcxmVNOakyZqmAZb69WrxyW1KZnu1HLdOnXq\n4NmzZ+jVqxf8/f1Rr149rhwCVf6jatWqYtdUS9CyH7148QK2trZITk6Gu7s7goKC4OnpWWESyUqo\nSCrK/whUQ5iXVmv6WXFxscXsiytXruD777/HmTNnYGdnh759+6Jv375cLaWKoDKNei2/uWXLFpw6\ndQqCIIh6Da/622rlZ6ZgG6dWPQIebt68ibi4OKSkpODXX3+t0HdQWhrn5eXBzs4O9+/f5/49Lyp6\n69Yt7N27F8eOHUOPHj0wduxYRXTC09NTTLFmmUTu7u4ynR/AcvcdU+Tn58vStHlz1rSET6/Xw93d\nHUePHrXwFMxD+lyqVKmCBg0acA0lqtDesGHDcODAAXh7eyMuLg516tRB//79ceLECU3XxbIYbt++\nLTPiWRYDq93+5z//KTox0i2ROTGsLI/h2rVruHDhAi5cuIBHjx6hQ4cO6NatGwYOHGj2uUghnS+z\nZs3Cixcv4ObmBkdHRzRo0AClpaXIzs5GWloazpw5g5CQEIvltRXFy5cvce7cObRu3RrNmjXDw4cP\nkZWVxSXieISzuUy3goICsZzoo48+kokDmiI9PV0UDTbdiz777DNER0eTyiSooO691LmqZU9QQ0ZG\nBmbPni2SCzqdDl999RU3qkmN3mnt6KeG/Px8JCQkYP/+/bC3t8eoUaNkTnNmZiauX7+O9evXy/Td\nateujW7duonv8quvvsKsWbO47e0B9e5MFDADraCggOs8UUHtKCXFzZs3sW3bNhw+fBi//vqreJ+F\nhYWKwFRhYaEY0KgIKKL3x48fx5IlSxRaUT179sSuXbsqXOpnDizLiQVgAMtrHVA/iy0FvXh7Ea9U\nnWHw4MEWA4nS9fv999/j5MmTOHXqlOwaatWqBU9PT7Rr187s9wBGJ2bSpEkKJ5IXuOF9VlRUhI0b\nN4rBkm7dumHatGmq+6JOp8PgwYNl5yaVvAWAyMhI3LhxQ2x2cujQITg4OCicMV6TGd5ner0ew4YN\nI2mJSvcFGxsbNG/eHD4+PhbPEksoKirCF198IQbbXFxcsGDBApLd+sMPP8j2uCFDhmDt2rUyYigw\nMFCW6ceQlpaGL0jplgAAIABJREFUefPmKUphLZWhWwKvfJL3mTmZBt6zp4zVcjZRMXPmTLz//vsY\nMWIEBEHAvn37cPPmTdleuGbNGty5c0csV0pOToadnR1evHgBnU6nWYbB0p7Aw7179xAfH49Dhw6h\nY8eOGDlyJJydnQEYiTRLoJTLenh4yLR6qHMrOjoaTk5OXFutopgwYQIGDx4sy2hJTU3lZrRkZmaK\nmcWdO3fmlmapPWdGet+4cQO7d+/GqVOn0K9fP4waNYobNNfpdIiPjxefe5cuXUStOcC8LcZgapOF\nhITg2rVrimwuU9uDaocy/SKDwYDDhw+jqKhIlRhj8PHxETW0tOzRgLb9aNCgQTh69ChCQ0MxePBg\n9OjRA15eXqL/qRV/GxJJiyFM2RCpDgJgJD1OnjyJkydPQqfTwcXFBX379sUHH3zw2u/lrwzWkeDm\nzZuwsrIy25GAB9ONE6ALpz59+hSpqalITEwUo72enp5kgcrKAqsnlUZOpbh9+za++eYbfP/99+jV\nqxd+/vln9OrVS9YNim0cbBEbDAZ4enoqSCRGLF28eBGbN2/G559/jvDwcNkmceHCBYSEhCA/Px/W\n1tbQ6XSoW7euLKIqrZeXOjKsXr6imgM3b95E06ZNxcjkixcvcP/+fYVY9/jx4+Hk5CSWWB08eBCX\nL19WREKDgoKwaNEiJCUlIT4+Hra2tmjWrJmYCs9w+/ZtxMTEKCIJzHn6448/kJuby03tbt26tYLo\nohCKgLGeuUOHDpg7dy46d+6sOl4NGRkZSEhIwOXLl/HgwQPUqFEDrVq1gqurK4YNGyYeQunp6YiO\njsbdu3fNdntjCA8Px4wZM2Qpxxs3blRo0lQ20tLSEBwcLLa7zcrKQlRUFInwMMWtW7cQFBSETp06\nqZZJUKBl76XOVS24cOECbt26hdGjRyM/Px/Pnz9XRPClJFfLli3NaucMGDCAFL3z8PDAokWLZCKT\nYWFh3I5+WqDX63Hy5EmsWrUK1tbWGD16NEaNGiVmhhw9ehSDBg2S/ZsLFy7IyFCDwYC0tDRSZPj2\n7dv4+uuvFboEFA0IptdQUXz66aeIjIwkdVQ1GAw4c+YMkpKS8NNPP6Fv376ylHktzh0VUmemtLQU\nR44cgZ2dHebOnSsbl5+fz9WKeh0YNGgQZs+ejTVr1nC1Nv4bmpDr1q1Dx44dub9VkWd+7ty5Cjn/\nPDKHdw3mgjmzZs1C7dq1xWhzYmIinj9/jq+++koxTqptk5mZiW7dumH58uXiGC3krbu7O5KSkkTC\nT6fTwdvbW2GfaJnTo0aNQlxc3Cu1lf5vY9GiRbI1fPbsWcyfP1884zIzM80SQ/v370fr1q3FshZz\npbCmWV89e/bE8OHDFeSw2rNmOpqHDx+WEUtFRUXIyMiQOYssw840Q6moqAgpKSlITU0VPyssLET1\n6tVVzyae7h3vM8AYRE1OTrb4ma+vLxISEsT/NhgMGDFiBBISEjBo0CCyoDvDggUL4Ofnp9qBzBQ/\n//wz5s6di2fPnqFp06ZYunSposROrQxMKu1hMBhw9epVnD59WmbHU+eWs7Mznj59WqmyKJT38Trx\n/PlzHDx4ENu3b0fTpk0xbtw49OvXr0LfRely279/f5I+YWBgIK5du0Yq160IcnNzMX78eDEIojXA\npmU/WrZsGS5fvgy9Xo/U1FSUlJRg/PjxXMKJgr98ORsDRW1dS0kKTzU+ODhYjJhJ8f777+P999/H\nlClTkJeXh5MnT2LdunXYvHnza7uX14HKdiqpHQl4GydvQVOFUwcMGIBPP/0UCxcuNKs78bpAqSc9\nfvw49uzZg8ePH2PUqFE4cuQIatWqhfLycvTr109GIlG7A1C670RFRWH79u0ICAhAUlISDhw4gHv3\n7snGVKRenoKQkBDZQV+lShXMnz9fsTGpCe0xUNtbz549G56enhgyZAg382nevHnYvXs3evfuTYoK\nUQgkwJjhdPHiRWzcuBH5+fno2LEjunfvrjjwqLXP7du3Jxk1CxcuxJw5c9C2bVtVZzY9PV3RHpSn\nSaMFFBJk3bp12LNnj0gm37p1C8HBwRUikcLDw9GoUSPY2tpy36+552vOoNKy91Ln6p9//omoqCiF\nCLxpVsSmTZtw5swZPHr0CKNHj4ZOp0NoaCj27t2rOJ9Y+nh5eTnKy8u5ehLr1q3D7t27sWHDBovR\nO4De0Y+KkpISJCcn45tvvkHz5s0xfPhwXLp0Cf7+/mIa9ebNmxUk0urVq2UOkLW1Nb788ksSoTB3\n7lwMGDAA3t7eFsuvpM+SnTeFhYVab1EGakepiIgIHDlyRGzbvnr1apGwfF0afIAy4t2zZ0/4+fnJ\nPnsdWlGWMHfuXCQkJODx48cK7R9T3R8t5eIAPeBkqdS0IsLmPXv2xO3bt5GZmSnrkmMq6soTKu7e\nvbv491rFj3/77TeZs9yxY0dF1isgL6OrUqUKJk6cqAhyzZo1S1NZj/R9mO61T548wZMnT1BaWopb\nt27J5jSvwyJgdOhGjRqF/v37y5xtFl3XGoWn4lW+z1Q3haqRBgDXr1/H1q1bRf3E4uJiODs7o0GD\nBrJxq1evVmR95eTkiI4qtaRSi44mtTRaEAT4+vri6NGjqrIKVC08wLg/5+fni2R2fn6+QquqoKAA\npaWlIulYVlaGZ8+ewcrKStH1lQJqBzL2W0ePHsXevXuh1+sxZ84cDBo0CBkZGZg3b56Y1UYtA5Pu\ng1WqVEHz5s0VexZ1br0OeRRq6SXV5qGUK0rx73//G5cuXUL16tXRq1cvxMfH4+jRo/jyyy8BGM/Q\ngwcP4saNG7LfNSVVqJ0EqfqEauW65jKBGUznlpr8B8vgpmZja9mPli5diszMTDRr1gxVq1ZFYWEh\nSRfKHP42JBKgbghT6+oBuoMgRVxcHCZOnAg/Pz+FgaYVlW3UU1DZTiW1I4HaxqlVOPX06dMVOjwq\nA5R60sTERPj7+ytIjypVqigistTuAJTuO4BxsysvL4eVlRWGDx8Ob29vWTvUitTLU6DX62VGebVq\n1UTtECnUhPZ4sLQ+qlSpgsmTJ5v9+/z8fBQUFOD8+fMyx43B1IHKzMwUN1mpk2BatsJIH09PT/zw\nww/YtGkTEhISFOOotc9UvPnmm1zngQfe85dmcGiFJRLE9Dek2Yj29vYV/t0HDx5YjDRWxJCi7r3U\nuRoaGopBgwbhxo0bWLNmDfbu3YvmzZsrxqWmpuLgwYNiZlPjxo1FMUqpjo/pHDVXNtWmTRusXLlS\njN75+/tzo3daO/qpISwsDCdOnICLiwvWrFkjOhXu7u4YMGAA7ty5g5ycHBQVFckCCObIEgcHB2Rk\nZKiSqAaDgVRyJdXHsLGxQYsWLV45+47aUapu3bpm27Zr0eB7VRQVFeHx48eyz16XVpQ5MNHUiIgI\nsxFVBlaSQl3P1ICTpe8zDXZRsHPnTiQkJODRo0do164d0tPT0blzZwWJpCZUrDWYY2dnhydPnoiO\nQUFBAVdr4+zZswgLC0PVqlXh6emJgoICTJkyRaGdQiVve/bsCX9/f7Hs5NChQ7K9IyUlBTt27EBe\nXp7MdrC1tTV7Luv1evzf//0f930BNG3TikD6faWlpbh06RIcHR25JJI0WPL48WOuLVq/fn3ZezYH\nU/3E6Ohorn7iuXPnZFlfAwcOhLe3t0giUQkfLTqabI2qZdhZWVnh7bffxrNnz8wGG6laeFJMmjQJ\nXl5eYlfaM2fOIDAwUDZm4MCB8PX1Fe2e48ePo3///iguLq5QyTi1AxlgLHns2rUrQkJC0KFDB/Fz\nJycnGflLFTamaqCpzS29Xo+wsDCL3ScrAmkXUuA/GS2moNo8S5cuxfvvv4+QkBCxXHHJkiWK0u2t\nW7ciISEBzZo1w5gxY/Dxxx/DysoKU6dOxaeffiqOW7JkCfR6PS5dugQ/Pz+kpqZybTi1ToJa9QnV\nNIm06glJzyVL8h/s2tU0mwD6fmRlZYU2bdqIQWAAFS4RBv5GJBLFEGYCVJSSlGbNmikcBN4ikCIl\nJQUTJ058hbsworKNeioq26mkdiRQ2zipwqnmIkkMryJMSgUjFi5duoTBgwfD2tpasfgtbeymmg7U\n7gCU7jvM+GjUqBFOnTqFJk2a4NmzZ9zvO3r0qIIw4n1GRZUqVWSirXfv3uVuilShPSp69eplsTNW\nv3790KdPH5SVlSkisjznfNmyZZgzZw4iIiKwZcsW7Nmzh6uZEBYWhosXL+Lly5dwdnbGnDlzxDp5\nKUyNnNmzZ8PHx0ehsUSFm5sb9u7di4EDB1p0ZgGgXbt2CA8Ph7+/PwRBwJYtW1S1OyzBEgkixVtv\nvYXExEQxopqUlFRhQdTWrVuLemQ8aDUitey91LlaUFCA4cOHY+fOnejQoQMcHR3h6+urMDyqV6+u\nyH5gTn2bNm2QlJSEsWPHmhVENAe16J2Wjn4UNGnSBEeOHOE6Ezt37sT58+eRmJioyECpXbu2LAuT\ngRoZ/uijj5CZmanaFpcq3KsF1I5S06ZNQ3Z2Nr7//nu4urqiqKgI5eXlqFu3rib7RCukkVCDwYB7\n9+4piCnpc5FqRb1uqBFIAMT1LV3PvHJxrQGnijiZlrBv3z7s378ffn5+2Lp1K27evCl2o5SCkS7m\nyltYMCciIgK1a9cWHZiysjIZWcRQr149eHp6ik7C6dOn4eTkJDp4zG7Kzs6Gra0tvv32W3Tt2hUL\nFiyAj48PV4CXQt4GBwcjISFB7Fbs6uoqdigDjBlk48aNQ0xMDFlTSy26rjUKT4Xp9+Xl5XHL902D\nJeXl5WKwRGvGHKDUT+zZs6dZfUNLWV9UwoehVatWOHfunCJrQ3ouXblyBZ06dYJer+d2UZbaVbVr\n18aQIUPQu3dv2Xxmc69ly5bo06cPrl69KpJC7N+Zu18vLy988MEHYjnu2LFjFRIIAQEBcHR0FMfM\nmDFDtKMroiNH7UAGGMkgc7bHypUrxf+vJmxM8V20zC0bGxs8ffoUBoNBNSNdC3r37o0jR47ISp55\nthvV5rl79y7Wr18v/vesWbO43ZPv37+Pr7/+miuFIpWwuHr1KlJSUuDu7o4pU6Zg5MiR3C6Vap0E\nGQlbWFio6NRXWFioOSuyS5cu0Ov1WLp0Kcmfa9KkCUk3dP78+fj111/NduCryH5EkT3Rgr8NiaTF\nEKYYaOYcBEuoLPmoyjbqqahspzIzMxNjxowRybfc3Fy0atVK3Exnzpxp8d+zA6pJkyZo0qSJrP6a\npaxKF05lR6Yqgi5dumDQoEHQ6/VYvnw5nj9/rtjECwsLsXnzZsXhrfVQkYLSfWfs2LF49uwZZs+e\njcDAQBQWFioMeFYvn5eXJ4swFBUVvdL8njFjBvz8/MR3eubMGe5m6u7uLiO/KC3ULaFbt26YPn06\nrK2tuXXhAQEBYnRlz549qiLwZWVl6NatGwRBgJ2dHQICAjB06FBFGnjr1q0xfvx4VeLZFLm5udyW\nn1TUr18fixcvFo1fSwK/oaGhWLlyJby8vGBlZYU+ffogNDS0wr9tiQSRIiwsTGwbDRgJEq3ilwyF\nhYVwd3dHhw4dZKSZKdmoll5dka4d1LnKnknNmjXxxx9/oEGDBooW5oCRdEtPT4eVlRUMBgNiYmJE\ng5l1cPrzzz9VjXkGavSustPemUNaVlYmC0zUqFEDdnZ2GDJkCIYMGSIjEi2BGhnOyMhAYmIiWrZs\nKZsLvDKE33//XaZ3SNHpswQqMZWUlITY2FjodDq4urqKjqpUR6uyCSRAHgm1sbFBs2bNzDo/gLGz\nz7BhwzB06NBXEhyvbKiVi0sDTvPnz0dRURGsrKzQqFEjbtYFteyCimrVqqFmzZowGAwQBAGtWrXi\ntp1n5S1s3pgrb5kyZYrMLigvL8fUqVMVWVJMUoFB2iFNChYU/Omnn/Dxxx+jRo0aZp1MCnnLIv7S\nzHuprhlr6z5u3DhuliEvuFFSUoLY2Fjk5uZi7dq1uHXrFrKzs+Hq6goA3P1PisrS0rKzs+O+O0vB\nEq0Zc4CxSQhFP1Et60s6jlJSuWbNGly9ehW///47+vbti5MnTyrInKSkJHTq1IlbQWBacvp///d/\nCoJHCgcHBzg4OMDFxYWc2XDo0CEMGDBANWPKxcWlQp2keaCWngHGOULJBFErA2O+S0FBAS5fvizL\nkOnatStGjRqleW45OjpixowZcHNzk9mzr7I+NmzYAG9vb9WMFqrNQylXBCyfidLEBHbu29jYoKSk\nBLa2tlx7Wq2TICOUzemLMWjJirSxsUFWVpbqOOA/uqEffPABBEFAaGgoVzf0l19+sajZVJH9iCJ7\nogV/GxKJ8pC0sHIeHh5iNBqgObNBQUEar5qP11HLSoHUqQSMKdev4lSqlQhIGWhTmB5QgNHht5SK\nXdmRqYrAtJ60qKhIQZaEhobC3t4eOTk5mD17Ng4ePKioxaUcKlJQiCk2h9u3by9GDk2hpV5eCz75\n5BPs3r0b58+fB2DsZmDaOh3Q3j5dDUuWLEFERAQ+/PBDixGZiIgI+Pr6imSLOcOBHfx16tRBZmYm\nGjVqxI3W+/r6Wrwu1t5arfZZK6Kjo7Fz507V+wWMEcDKXDOWSBApmjdvjn379mnu2siDm5sbaW9W\nS6+uyJ5LnatOTk54+vQp/Pz84O3tjWrVqmHAgAGKcYsXL8b8+fPx22+/wdHREU5OTqIRoEU/hoEa\nvavsbIzvvvsOK1asUO1U5u3tjbS0NJlQLE8Xi0WGeRkYUlDPqkOHDmHt2rXiM4uNjUVQUJDsvH9d\n2LFjBw4ePCju3++9956irOx1oEuXLjIhUd5zfB1aUZUNtXJxFnDauHEjgoKCxDn34YcfcvdzatkF\nFTVq1IBOp4ODgwOioqLw9ttvm3WKKOUtZWVlMuemZs2asvOdgdp+3t7eHpMnT8bt27cRGBiIly9f\nmh1LIW9NNcxMP6tIW/dly5ahYcOGIsHWuHFjBAYGiiQSj9CQfmdFnWRp4E4QBFy9epW7TiwFS+zs\n7DSXElH1E3lZXzw7g1pSycT9vb29ERYWhs8//1zxzsPDw2EwGLBw4ULVDE/qHKxdu7ZY2m9JtwYA\nTp06hcjISLi4uMDb25urB0qxfbWAujYB9UwQBmkZmLQDHwO7988++wzJycniPpWbmytmNGmdW2xt\nSeUEXmV9AMZgso+PD+zt7eHt7Y3+/ftzBfB5Nk///v0V4yjlioAxiSMqKgq5ubkWG8bUqVMHz549\nQ69eveDv74969epxy3pDQ0O5nQQZqPqEWrMinZ2dERYWBi8vL5l/JQ0AAHTdUDXNJhYo4lWRWJIn\nUZM90QThbwSdTifcvHlTuHnzpqDT6RR///DhQ0EQBOHevXvcPwzl5eXCP/7xD9Jvbt26VXjx4oWQ\nmJgobN++Xbhx48Z/5V7+TiguLhaKi4tf+Xs8PT0FQRCEY8eOCYsXLxZevHghuLm5KcYZDAZh7969\nwsyZM4WZM2cKCQkJgsFgeOXfp+D27dvCy5cvBUEQhLNnzwqxsbHC06dPZWPc3d0FQRDEay8tLRV8\nfX253+fv7y/cvXtX/O+7d+8KU6ZMUYybMWOGsG7dOsHV1VVISUkRxo8fL0RFRcnG7N69W/EnOTlZ\nyM7OVnxfVlYW/aYJyM/PF0pLS8X/Li0tFfLz87nj5syZI3Tt2lXo2rWrMHfuXO44KoYOHUoaN378\neGH//v2CwWAQ9Hq9cODAAWH8+PGKcXFxccKTJ0+EM2fOCB999JHQvn17YcuWLZqva8iQIYIgCMKY\nMWPE/efBgwdCeXm55u+Swtw84oE3H3bv3l3h387LyxMmTJggfPjhh0Lbtm2F8ePHC48ePVKMS0pK\nkq2JgoICITk5ucK/SwHbO9ia0+v1wrBhw7hjqXtvRebq/fv3VdfWixcvhKKiIu7frVq1yuK/rQj+\n+OMPISAgQBg4cKDg4uIi/qkoXF1dhStXrgh6vd7iuM2bNwuDBw8WNm7cKGzcuFFwc3PjrqVffvlF\n6NOnj9C7d29BEAQhIyNDWLRoUYWvz93dXcjLyxP/Oy8vT9yTXzfYnGPzURAEwcPD47X/bkZGhtCn\nTx+hX79+wqeffip88sknwrVr12RjWrduLTg4OAitW7cWPvjgA2HgwIHC6dOnX/u1acHAgQMFQRCE\nBQsWCOfOnRMEQf4sGaT7ucFgMLufa9kXKMjKyhKKi4uFx48fC6GhocLMmTOF69evK8bx3rm5z6R7\nyuPHj7k2T1xcnPD8+XNBEAQhKChI6N+/v5CWlqYYV1JSInz33XeiTfHgwQPhzJkzFu+Jt6fl5OQI\np0+fFlxdXYXTp0+Lf1JSUoT+/fsrxickJMjsGEtg70T6Xv8b6zMkJET8s3DhQiE2NlYoKChQjJs5\nc6bw008/CV5eXoJerxc2bNggzJ07VzbGx8dHdf8zxYMHD4S9e/cKn3zyieDg4CD7Oy0+yeDBg4Xi\n4mJxPmVlZQmzZs1SjPP29hYEwTjHysrKBEEQuHPL0udSFBYWCpGRkcKQIUOEIUOGCKtXrxYKCwsV\n4xYsWCDMmzdP+Pjjj4WYmBjBzc1NWLZsmdnvLSgoEHbu3CkMGTJE6NevnxATEyP7e4rtqwXUtSkI\ngtCvXz/x2akhPz9fOHXqlJCUlGTWThg8eLDqZxWZW5WJ8vJy4eTJk8LMmTOFbt26CYsXL7Y4Xs3m\nuXnzprBr1y5h165dws2bN7ljBgwYIBw+fFi4e/cu12eXXpsgGPfxpKQkYdeuXdw5+Pz5c6GsrEzI\nysoSsrKyFO9w/fr1QuvWrRV/OnXqJPzzn//kXuOPP/4oxMfHW7SlP/nkE8Ufnq3F2+94ny1ZskQY\nOXKkEBcXZ/F3vby8SJ8JgiAMHz5cEARBmDhxonDy5EkhMzPzlezBv00mEkVtncrk2tjY4OzZsyLL\naAm7d+9GQkICmjZtimbNmmHPnj2YOXMmt4NGZd7L64BAbCFKhVpa6O+//27x35uys9RUbLUuFq8T\nc+bMwYEDB5Cbm4ulS5eiR48emD9/PmJiYsQxjP2uWrUqnj59ijp16nBTPQFjC3pp9LRZs2bc1MI7\nd+5g/fr1OHnyJNzc3NCvXz+MHTtWNiYtLQ0//fSTmNV08eJFODo6Ijo6GjNmzJDVbFPq5bWAmpZP\nFdqjwtXVlaQRJK1Zt7KyUtSsMzAdkd69e+Py5csoLS212D7dHF6+fCmWJ/HWQUWjRc7OzoiKilII\n/JquJUCbkCgFDRs2RFxcHEpKSmAwGMxmGMXFxcmionXr1kVcXJymTJAdO3Zg3LhxXFFHQNlalZpe\nrWXvVZurvPKNevXqoV69etyuV35+fti7d6/sc/YZA0U/hoEavavsbAxqp7Lk5GTEx8eL62fMmDHw\n8/NT6LNERERg8+bNYqZvu3btuNpJWiLSDRs25P7/1426desiOztbPFOTk5PJHWBeBWpCosDr0Yqq\nbFDKxQF1DRIG6r5ARX5+Plq1aoWaNWuKGQQ8+QFqlyO2Jjw9PSEIAg4fPsyNHicmJmLChAm4ePEi\nnjx5glWrViE8PFxR7lS9enUxowcw6iPyIvWAUUttzpw5MBgMOHPmDK5evYp9+/ZhxYoV+PnnnzXp\nmt24cQNxcXFiB7Lu3bvD2dlZLGORQipgCxjPJoFTSi8IAg4cOIA7d+4gKCgI9+7dQ15eHmnv4WHy\n5MmKrM1bt24pSq94GaOsWyyDllIiin6iFp+EWlJZq1YtlJSUoEOHDggJCUHDhg3NCly3aNEC9+7d\nQ9OmTc3+bmhoKGrXri1mMyUmJiI0NFSW4QHQdWsY6tatizFjxsDd3R3R0dH48ssvZVINFNtXC6hr\nE6B37wKM2Z+ffPIJhgwZosgKY2jQoAE2bNgglkoePHhQ0aWPOrcqe30w2NjYwMXFBU2bNkVcXBwO\nHjzI1Q4rKSnBgwcPoNfrYW1tjd9//11mh+r1ekyfPh2xsbEWyyAB475F8anZe7K2tjb7jAVCJ0Gt\n+oTUjDTWrU8NVN3QsrIyhWaTFBWRJ+HJnrxKRdLfhkSiGEkAXXCsT58+2Lp1qyLtzNTwf/PNNzF0\n6FCMGTMGgNF4mThx4iuRSNR7qWxUNvmilhZqqTzKyspKoUtATcVW62LxOmFtbY2qVavizJkz8PPz\ng7+/v0Io7t1338XTp0/h7u4OX19f2NramiUIKYcKQCOmrKyskJKSgnfeeQeAUQ9i+fLl2L9/PyZM\nmCAzuin18lpATcunCu1RwcSDly9fblHwVs1wYKLg5ohPHkljCRUpT6KAtaKXdizjrSWALiRKBYUE\nMQeeqL8lMILMkuilFNSSMi17r9pc5ZVwMPDmoOl+ptfrzQrfU7Bw4UJMnz4dH330kcWzjiqCqQZG\nmlE7lQGQEbDmyFidTqdYXzwNAEqZMGAsp/zqq6/EUpD9+/dz9S5eB0JDQxEYGIjs7Gy4uLigevXq\nsgDD64KakChDZWtFVTao7YepjiB1X6BCrbyLgdrlaNiwYWjevDlOnz4NKysrhIeHc3Vz2L1dunQJ\n7u7u6Nix4ytrdFoib7Xqmpl2IFu7di23AxlgfCcxMTEoKyvDpUuXsG3bNq7eTUREBPLz8/Hrr78i\nKCgItWrVwqpVq7gaaBQEBQUp3hPvM0qwREspEVU/keqTUEsqo6OjYWNjg/nz52Pbtm0oLCw027ik\nuLgYHh4e6NSpk+y3peN/++03md3RsWNHbqdYqm4NYDwDz549i8TERFy5cgV9+/bF7t27ZWO0BGUt\ngUkMzJ0712LpGaC9e5cUltZlZGQkVq5cKfqPzs7OiIyMlI2hzq3KXh8A8PTpU6SmpiIxMRHFxcUY\nMmQIvv/+e8W4PXv2YM2aNahbt64YMDG1Q7WIf/fu3dtigxwG08AZg5TIp3QSZKDqE6ppE0kh7ezI\nOqCZNn1guqFLly4Vu6XxdEPVyugqIk9CkT3Rgr8NiUQ1kgAak8uiyVFRURadz5kzZ8qY3bfeeuuV\nD28t91Log6p8AAAgAElEQVSZqGzyRS0aSGVlGSIjI3Hu3Dm0bt0aNWvWxMOHD7n1s4DlLhavE6Wl\npXj8+DF++OEHzJkzB4Dy0GBRqwkTJqBdu3YoLCxEr169uN9HOVQAGjF17949kUACgLfffhv3799H\nw4YNFQY2pV5eK6SaJuYE9KhCe1RQo+tqRn14eDhiY2O5G685ksYStLS31gKta0oKc0KiVFBJkIYN\nG+LEiROi5sPx48e5EWlLYB2ABg4cyI0em6JXr16wsbGBl5cXunTpgj/++AM6nU4xTsveqzZXqXNv\ny5Yt2LJlC4qKimS//fLly1cKRlCjd5WVjWFKmkkJSd7Z2bZtWyxYsEAkyA8cOMDt3lmtWjUUFxeL\n+/jvv//O1WGgRqSXL1+O8PBwMfOtR48er0SeakHLli2xf/9+5OTkQBAEtGzZ0mLksrKgJiQK/G+1\noqigth+mkjRMS4ntC0VFRaoivjzcuXMHOTk5KCoqkgk/m2poMFC7HBUWFiItLQ2//fYbXr58iatX\nrwJQZtdVr14dmzZtwpEjR7Bnzx4IgsDd37SAQt4eOXIE9erVQ58+fSzaWVo6kAUEBGDLli2oVasW\noqKi4OLiomgSAhgJs0OHDonadPXq1eMGptTw5MkTPHnyBKWlpbh165ZM/4R16DJFYWEhsrOzZb8n\nJfeordoBdf1EBqpPsnTpUuh0OoSEhCA6Ohr37t3jzn1pMNJSJhCg1Ijlwc7OTmbjFRQUcLPcmG5N\n7969LerWAEafrFWrVvDy8kJUVBQ3U0pLUNYS5s6di8TERGzZskV1bUqzuC1lgvBgKUuqUaNGiswt\nU1DnVmWtDykGDBiATz/9FAsXLuTqUzHExcUhNTVVVW9RzReXNjyJjY1FrVq1uA1yGKiBM7VOglpB\nzUgz7eyo0+nEzo5SaNENtSTs3qVLF3Tp0gX9+vUjn2vl5eVISEiQBZN8fHxEXkAr/jYkEsVIYqAw\nuVQHYPbs2WjevDm++OILNG3aFElJSa8c1dRyL5WNyiRftKSFUtjZ6tWrw97eHllZWWjWrBlq1arF\nbT9L7WLxOjBu3DgMGDAA3bp1Q7t27ZCbmwtbW1vZmJs3b6Jp06aoWbMmnJycUFxcjOzsbG5KJ+VQ\nAYybRWFhoUViqn79+oiJiVGkSOr1esW7rlatGqpUqQIrKyvodDo0atQIDx480Po4RPDS8nmEDFVo\nr7KhZtSz8tdXIWl4qEwCSYr8/HyZwSAlDxlMhUQzMjIsChebg1YSJDQ0FNOnTxcjKzY2Nti4caPm\n3wXo0WNpNsA777yDxo0bY+jQoYpxWvZeLXP1yZMnsnat9erVE//O19cXAwYMwIoVK2SRr9q1a6tG\nyiyBGr2rrGwMreVQixcvxsaNG8VMku7du3OdmalTp2LSpEnIy8tDSEgI0tLSuFE5akS6fv36MmHx\n/wZYlypGKLD1yLonve7zXU1IFDAa/omJiWJ536NHjzBp0qS/FIlEbT+stp9rLTVVg5byLr1ej2HD\nhiEpKUm1yxE1uy4iIgLffPMNgoKC0LBhQ9y9e/eVCGiARt6OGDECO3bsQHh4OHx9fTF8+HDZ3sZA\n7UAGGDM8p02bhmnTpomf3bp1SxEseOONN2R2S0WDTSkpKdixYwfy8vJkpYK2traYPHmyYvzRo0cR\nGRmJ58+fw87ODnfv3oWDg4PiLFEjmrSCur8yZ1FaUsnD7du3ERMTo3BAeZkqjRs3VpB+pmuuXr16\n8PT0FOf06dOn4eTkJBJYzEHftGkTXrx4AVdXV9jb26OwsNBs6dH+/fvx9ttvW7xfLUFZS2ASA3/8\n8QeuXr0qkhCMuJWeo6/SkMRS5h5VUoQytyprfUhx+vRpsyWPUjRs2JDUsEPNF9fa8IQaOFPrJKgV\n1Iw0S50dTXH37l3cvXtXllFlastRy+j27duHGTNmiAGXgoICbNy4kdvEJywsDPfv3xfXZHJyMjIz\nMyscaLMSXjWt5r+EjIwMrpHEi2xSsHLlSsUD5n3m5eWF4cOHY8uWLXj+/Dl69OiBpUuXao6sS1HZ\n90JFZGQksrKyZORLq1atZO2BteDs2bOYP3++IhpoSuhI2dkTJ07gwYMHCAgIULCz0vbIJ0+exO3b\ntxXtkQHjZhkfH4+LFy8CMGYT+Pr6qqZMvg7o9Xro9XrZxuLt7Y2EhAQxqldWVoYRI0YgMTFRHHPt\n2jWL77usrAy5ubmiYbV8+XJcuHBB1Bzo1q0bnJ2dZdGmhw8fYuXKlSLD3LVrV4SGhqJevXrIyclB\n69atxbFjx45FbGwsIiMjUVhYiIYNG+LKlSvYv39/hZ/F5cuXRRKmb9++Zg2q3377TXaNlbnZvyp+\n/PFHtGvXTiQGnz9/jl9//fWVSv0qE1QnC5ATWDY2NmjRogV8fHw0ExeFhYV49uyZJhJEr9eLnaIq\nko3BosezZs3C+vXrZdHjkJAQHD9+XDbe09MTycnJss88PDzE8j8GrXsvZa6eOHECixcvFp2/Gzdu\nYMWKFTJtEnZPtWvXFn+7rKwMRUVFmok9afTu6dOnqtE7Kf74448KZ2OY3os50gwwvv8DBw6Qo/C5\nublIS0uDIAjo2bMnt7NjUFAQFi1ahKSkJMTHx8PW1hbNmjXjEkaUtsyVCdYq2MHBQZZFYC6b4HVA\np9PJ1pxpVglvPfA++1/C29sba9euVbQf1to5RvoeTPEq74Na3jVq1CjExcVxM+qkYM/f3d0dKSkp\nKCsrw9ixY1+7tAFgJMW//vpr5ObmolevXiJ52717d8XYW7duYe/evTh27Bh69OiBsWPHyvbMjIwM\nXLx4ERcuXLDYgQww31bb9LNFixahS5cu2Lp1KzZs2IBNmzbB2toay5Ytq9D9xsTEYOrUqarjPDw8\nsG3bNkyaNAmHDh3C+fPncfz4cZmTRSWaKhPm9AEZTLMs3N3d4enpiQ8//FB2/rJumFJQ3omabiUr\njz5z5gyWLFkCGxsbnDp1ClevXsWGDRtUy3rnzp2L6Ohos39fVlYmc7i1EsHff/89EhISkJ6erjjv\nraysuJpqlZ21ERkZqZAUcXBwkL076tyqzPVx7NgxDBw4UBZ4lIKdnUzu4ejRo3j58iUGDx6sqs1J\nhfT8eu+997jPeN26dejYseMrdaCrCMwFg03JRh8fH+zbtw9eXl44dOgQAP4Zu3btWuzfvx/29vai\n38qbg/379yeV0Ul/z9JngDHb7OjRo+LvlpeXY/DgwQqbmoq/TSZSy5YtceLECYtGEgNPp8P0s/T0\ndMW/++mnnxSf7dmzB7Vq1apUA1TLvVQmqC1EqaCmbFPZWWp75D///BMjR47EyJEjK3ztFUVJSQli\nY2ORm5uLtWvXIicnB9nZ2TKHUa/Xy95ntWrVFJowLFrj5uYGR0dHNGjQAKWlpcjOzkZaWhrOnDmD\nkJAQkUQy1RyIjo6WaQ4YDAZkZmaazWqSEkiAtnp5CnJzc7FmzRrxen755RdFy2UtQnv/K5jqW9Su\nXZurefG/QlRUFLZv365wsqRghgCPGElNTdW8l9na2sLW1hYREREKEoTXlj07OxvvvPMO3n//faSl\npeHUqVPw9fXVRF5pjR7XqlUL//73v+Ho6AjAKBrL01Oi7r1a5uq6desQHx8vZlbm5ORg2rRpChKJ\nKj6vBq3RO/Y+3njjDdy6dQs3btxAo0aNKpwFZUqahYaGKkgzGxsbJCQkkM4X1opWup/z2tNSI9Ih\nISG4du2aavSuMsH2h/+2eLVpBhTbb8vLy1FeXi5ztP6XWlFaUBnthyv7PTDNvPbt23N180ydp5Yt\nW2LUqFHo37///2vvzqOiuLI/gH8bEBdAXGJ0xhgXImHCmNGYRX8KowiOG6sIEgPGKIpbCBHjGmMA\nQcXdoKhEEjOgGGVzj4ZIkom7xjWaKAqSiRuKgIJs9fuDUzVddEG/aqrpbnI/53iOtG3zgKL6vfvu\nu1d0H6p972XNrsvJyRECPtqySlj985//RI8ePYTg7dSpUyWDt8D/stabNWuG5s2bY86cOXBychKy\nsF599VW8+uqr8PT0xHfffYfNmzcLbd55co+VzZ07F0uXLsX9+/fh5+cHFxcXnTY8+d+R8ePHS2ao\n1Q5GWFhYoH379sKcbcCAARqFtePj45GamqoRaNIn1vqAPAsLC8n3SnVyjmmy1tBbt24ddu3aJdy/\ne/Xqhby8PK3/j39Pru2bb75BVFQU7t+/DwA6B+Z1KTHw6aef4r///a9iWRssJUVYr63p06cjLi5O\n9Psxffp0ncb122+/Yfjw4aJjfFJqny44ePCg8Hepsg8sa3GgZj0+a9YsIQvq2bNnWLVqlVBKRu6x\nt5KSEmzYsEGUaDB16lSdmuQA7JlpnTp1wunTp6FSqVBdXY34+HjJ+ePBgwdx5MgRreNhPUYnVXNU\n/X1CXZs2bVBeXi58rysrK3U6ocAziSASS7V1dfXV7jhw4AAOHDiA33//HaGhocJzSkpKJNP4WrVq\nhR07dijW0Uzu16KUqqoqxMXF4f3330dAQIAir8east2iRQuNhZrU948vEqZOahEwduxY2NnZwcfH\nB//617+07vYpafHixejQoYMwSe3UqRNmzZolWkBZWFgIk06gJm2x9texbt06XLhwASkpKYiLi8Od\nO3fQsmVL2Nvbw9XVFUlJSaIbjLaaA2ZmZlizZg1zhF7OeXkW2oqsA/IK7RkK/6bEMzMzk10UWt+0\nLbIiIyPh6Oio+P2FNQjC0sFQm/Hjx2P8+PHMu8ezZ8/G9OnThcXc9evXNXZO5dx75VyrzZs3Fx3N\n7datm+R7CWvxeW3U08hZdu+U+HmoYw2avfXWWzh48KDWo3P79+/XCBhJPabu9ddfr/Pfzp07x1wE\n09T5+/sjLS1NqFfFk1poGbJWFCv++u3YsSOysrLQuXPnBhWfB7RnzbGQWzOvqqoKPXv2RE5OTr2v\ny1rv5cMPP8SwYcPg4+OjWGCUJXh76NAhJCUl4cGDBxg3bhz27dsHKysrVFZWYujQoUIQiaUDmdyN\nAWtra8mi6nLV/h1Rz06TCkbwi9OuXbviq6++QufOnTWCXCyBJqXJbYTg5OSk9biz3C58rB19a3fE\nrN2RT0pdh2JiY2OxZs0arXVwWMkpMXDq1ClR1sbw4cMxcuTIBn1+bSVFWK+tadOmMWX0seC7Ai5Y\nsEAjsKG+4S+33ANrHc2IiAjExsYKWXKnT5/G4sWLhQweuRtnrJ0E5cjJycHVq1eFI+oANI5psnR2\nBGp+P+oLIMkt7N6rVy9ERUUhODgYHMchISEBvXr1knzNnj17wt/fHyNGjABQE9Cq/Vw5TCKIxFpt\nnaV2R/fu3TFo0CBcvHhRqHUB1Nw0pY6sKN3RTE7leCXJaSHK+nr8IkhbEIc1OsvaHvno0aP4/vvv\nkZaWhujoaLi5ucHHxwd9+vRR5Gurz7Vr14QC4EBNBkTts8gzZsxAQECA8OadnZ0tORnid+9YsNQc\ncHBwwIULF5heU855eRasLZfltMY1BNaMFkNhWWRFR0cjLS0Nv/32G7y9vTFq1ChF7jWsQRCWDoas\nQkJCmOqp9enTB/v27cPPP/8MoGaxWPtrlnvvZb1WhwwZgo0bN8LX1xccxyE1NRVDhgxBWVkZOI4T\nfc9Yis+z0rZ7x1Py5wGwB83S0tKQmJiIFi1aoGXLlhq7hqztafldyNrq2oWU05ZZKXLHqBQ5GVCG\nqBUll9Lth1my5ljIrZnHunPNml1XXV3NFEyXgyV4m5qaiuDgYI0xWVhYiBpxsHQgk7sxsHnzZvj5\n+YnqfOzevVtrdk1tcrMEQ0NDUVJSgvDwcCxevBjFxcVCJjiPJdCkLwUFBYiJicEff/yBpKQkXL16\nFefOndPYHO7fvz+mTZsGMzOzOrM25HThY+3oa2VlhQcPHgj3wxMnTmjUDZVSu2wFz9bWtsFt63Wl\ndNYGSz1XbddWZWUlKioqUF1dLcwxVCoVioqKJDPt5AgMDNQIQkk9BtTUfj158iSAmvc/9WxMXZqJ\nqB+zrL1JJHfjjLWTIKtt27YhJSUF9+/fR69evXD69Gm88cYbGkEkbZ0d+Wy/3r17CxsD6utnfm4p\nt7D7/PnzsWTJEnh5eUGlUmHQoEEa75vqr/nKK68ITXYcHBwa1KTBJIJIAFu1dZYCpg4ODnBwcICL\ni4tk14/a9NFOXunK8axYW4iyYk3ZlorOShVOZW2PbG5ujsGDB2Pw4MEoLCzEqlWr8PbbbzdK3Yna\nOyrPnj3T2EEZPHgwvvrqKyF7bfLkyXWmibPauXMnjh8/jg0bNtRZc+Dy5csICAhA165d0apVK+HN\nRSowFBoaCk9PT3h7eyuys8laZF1Oa1xDUM9o4TgON27c0FoLoDFJLbJq76z5+PjAx8cHt2/fRnp6\nOsaOHQt7e3tMnToVDg4ODfr8LEEQlg6GrFi7XQA1k01t15Gcey/rtRoXFwcAGsdBP/vsM9FOt3rx\neaAmSF5XG1YW2nbveEr+PAD2oJm23UPW9rSsu5ANacvcUHJ3SpUWFxcHHx8frUVqG7tWlBzV1dWw\nsbGBra2tYu2HWbPmtNG2OJOaQ8n9XteXXde7d29cvXq1wfdvgD14C9Qcrakr697FxUX4u5yyCCEh\nISgtLcWdO3dEWb61jwTu27dPdB9o27Yt9u7dKzuIxGOtg8ovem1sbDQCG6dPn8brr7/OFGjSl4UL\nF8LZ2RnJyckAahbSs2fP1ggiLVq0CDExMXB0dNSawePl5YWvv/4aubm5CA8PR35+Pu7duycK3rB2\n9A0PD0dwcDDy8/MRGBiIW7duYePGjaLnSNUEVV+PlZeX47fffkOPHj3g5uaG5ORkjBgxQrTgboxm\nRHVlbfDvNXLvnSwlRaZOnVrvtRUfHy/MLXr37i08bm1tjQkTJuj0dUoFpoC6u08mJSUhPj5eSMTY\nvHkzQkJChKxGuc1EBgwYgMzMTCFLds+ePZLNklg3zlg7CbLauXMnvv76awQEBODzzz/Hr7/+Ksz7\n1AUFBcHX1xdDhw6V7Limnu0HiDvxqc8t5RZ2t7a21vp/GlIsvj4mE0RiqbbO1+7gd42kbN26VYjq\nsqaHKt1OXunK8azUW4jyGlJkkjVlW1t0lienPXJhYSH27t2LtLQ0lJSUKJZhpc3rr7+O+Ph4lJeX\n48SJE0hMTBRNpngdOnRA7969dWpFKoWl5gD/hs53XKkvg4blvLwcrC2X5bTGNQSWjBZDGjVqFAAw\nLbK6dOmCd999F8899xzWrVuHgQMHNmgRwhoEYelgyEpOtwsWcu69rNcq6w63r68vunTpIuxGRUZG\nShY5laO+3Tuekj8PQBw0Uz8eUjtopq17C2t7WtZdSH6nrbi4WGP3rri4WK/BEvUxlpSUIDc3V7F7\nP4uSkhL4+fnVe8zbELWi5JB7JJsFa9acNlJHoXhScyjWrjqsLly4gNTUVHTv3l30c9Ulc5g1eAsA\nb7/9NuLj44X3wMLCQkyfPr3OArwskpKSsGLFCtja2oqKytY+Eij1vW7I0XLWOqjPnj1DZmamRv2p\njz76CHPnzoW5uTl8fHzQo0cPdOvWrc4MGn25e/cuAgICkJKSAqBmY1MqSGRra8vchXPp0qUoKCjA\n5cuXER4eDisrK0RHR4uuL9aOvq+++iq2bduGs2fPAqj53WndurXoOSw1Qa9duyb6nVM/ettYzQoq\nKyslsza01Q6SwlpSZM6cORgyZAi8vb0lr60ZM2ZgxowZiIiIEAVoGkJuYGrbtm1IT08XGkw9fPgQ\nAQEBQhBJfS1eWVkpvGfXFcjhs5b5NUx5eTnatGmD1NRUUfYc68YZaydBVpaWlmjVqhWqq6vBcRzs\n7e2Fa0Lde++9h9TUVMTExGDIkCHw8fERBbjkrn/kZGNq27SQ28yJlckEkYYPH67xxd24cUPyuXWl\nlh87dgx9+vSRlbqlj3bycr4WJSldbFLb+Vleeno6Bg8eLJqIfP/99xqthWsXrLx58yZsbGw0bjwz\nZszAmTNn4Orqivnz56Nv375KfDlMwsLCkJCQACsrK8TGxsLFxUVj4qVrd4r6sNQc6NSpE8LDw4U3\nV0dHR8mML4DtvLwcrEXWWQvtGRL/RsH/3ZisWrUKH3zwgTBpfPr0KT7++GOsXLlSeA7Hcfjhhx+Q\nmpoqFEzcuXNng4vosgZB/P39RbtrnTt3FtXGkoO1nhorOXUl9HGtvvXWW3jrrbd0/v/qWHfvav88\n/vrXv+r88wDE7yN79uzRSE/ng+rt27dn6vZob2/PVGtD2y4kv9NWV6ehxqCPez+LOXPmIDw8HNnZ\n2UhPT8fSpUvh6uoqWniZQq0oOUeyWcg5alofuXOnn3/+WdHvdUOO9NXGGrwFat5f1DdR2rRpgydP\nnjTo82/duhV79+7VGmTu1q0bEhMT8e6774LjOHzxxRf1Hperi9w6qKGhoaioqMCrr76qkXl+5MgR\nHD9+HGlpaRgxYgT69u0LX19fuLi46NyxS67an6eoqEgy4Obq6ort27dj+PDhWjN4Tpw4gfT0dOE+\n2bZtW42j6lZWVigtLUWfPn0wd+5cdOjQoc6ArI2NTb1zS7k1QQ1FyewN1pIiBw8exN69exEdHY0n\nT57A29sbXl5eGse0lQogAfIDU1ZWVqIO5e3atZNMDrh06RJmzpwpHNGrrKzE+vXrNTZY5GTysmyc\nvfTSS6LMRj8/P+bXl9KyZUtUVFTAwcEBsbGx+Mtf/iK5Nhg0aBAGDRqER48eYd++fViyZAmePHki\nKkAOsM8tWbMxWTaI5DZzYmUyQaTw8HCNiaHUY4D4gnz27Bn27Nkj3Hjl1s1RuqMZIO9rUZoSRSZ5\nrOdnt27dKjo72qZNG2zdulUjiDR58mT88ccfwi55cXEx2rdvD0tLS6xatUqIkA8dOhQrVqzQaUex\noZo1a4apU6di6tSpdT5H1+4U9WGpOfDJJ59oLW7NYzkvL1e7du20FllnLbRnKD/88ANmz56NV155\nBRzH4dq1a4iNjcWAAQMMPTQAEI51rV69Go8ePUJYWJjGWW9nZ2c8//zz8PHxwfTp06FSqfDs2TMh\nSNuQNqwsQRCO45CSkiIc5xwwYIDOb+Ks9dRYyenaofS1WlxcjC1btmgES6Rqh7HQtnu3ZcsWyZ0n\nc3NzmJub67zzpG7r1q0aQSS5xTdZa21o24WUm5KvD/q497MyNzeHi4sLXnjhBWzduhW7d+8WBZEM\nUStKrtpHsnm61upjPWqqNKW/1w3NWJTCErytrq5GaWmpEHh48uRJnV1/WHXo0EFrAAmo2aScPXs2\nVq1aBZVKhT59+tS5KVYfuXVQc3NzRfVUauvXrx/69euHkpISHDhwAImJiVi8eDHc3d1lFW3WlZub\nGxYtWoQnT54gNTUVycnJwpxP3Zo1awDUFNTnM3rquuabN28u2pyRWiDX7uibn5/foELFcmqCKrlu\n0dWHH36IVatWNeg1WEqKtGnTBu+88w7eeecd/Prrr0hMTMSQIUNw+fLlBn1uFqyBqQEDBmDBggVC\nHdS0tDQ4OTlpzDGjoqIQHR0t/J4dO3YMkZGR2LFjh+j1OnfuLMpY6t69u2RQlnXjTG4Rem0++eQT\nVFRUYO7cuVi1ahXy8/MlT1rw+E1ejuMkA7ysc0vWbEyWDSJ9BW6NPogkty0ooJlGHxoaCj8/P1H7\nw+LiYixatAhHjx6FSqXC4MGDsWjRItGui9IdzXT5WpSkVJFJJSbrUr8IQ4YMwVtvvSWMh9/1cXNz\nw5IlS4RdbQ8PD5SWluLmzZv1nqnXh6ioKMyYMUOUXrhhwwaNc/W6dKeoD0vgkrW4NSDvvLwSdCm0\nZwirV69GUlKSsLC+ceMGZs+ebTRBpJiYGGHH0NLSEkuXLtXISGvWrBkePXqEzz//HFu3btXoRlP7\n2AAr1iCIVDOC3NxcnWq+sXa7YMXStUNf1+r8+fNhZ2eHW7duITQ0FLt3727QkSdtu3fLli3Ty86T\nOqlJjouLC1QqFdq1a8eUicRaawOofxeST8kHoFitCF0ofe9nwR/vTk1NFXavjxw5AsCwtaLkquvn\nriulsq/Hjx+PL7/8UiPLvfbmi76+10oHoAG24O2oUaMwYcIEYf67fft2jc0/uf7v//4Py5cvx8iR\nI0UZMrXnbx07dsS2bduEubGuDS7k1kHt0qULSkpKtC6orK2t4evriw4dOmD9+vVISUlplCBScHAw\nMjMzUVRUhOzsbAQGBko2SpBz7dvb2yMzMxMcxyE/Px+bN2/WyPBfsmQJIiIi0KxZM2RkZODhw4ew\ns7PDxIkTG/w11UepdUtD8QGOhmAtKVJdXS28L546dUrvmbSs9zfevn37AEDj8T179ojmmKWlpaJ7\nSv/+/bF06VKNz3/x4kW8//77WjOWWI+9AeydBFnwGZutWrXCkiVL6nxeVlYW0tLScPr0abi6umLB\nggWi3yO5c0vWbEzWTQs5gVtWRh9EktsWVMrt27dRUFAgemzp0qXo2LEjjhw5gokTJ2LUqFGIjIwU\nLVCU7mimxNfSEEoVmZR7frZDhw745ptvhCLQhw4dEqVC8k6ePCkKxri6umL9+vVYuHChKHLLeqZe\nH06fPi2aiLRt21bjXL2u3SkairW4NSDvvLwS5BbaM5TKykrRotrOzq7BO69KKikpQVZWFnr27Ik/\n/vgDly5d0ggiyc0EYcUaBFGyGQFrPTVWLF079HWt5ubmYv369fj2228xatQoDB06FEFBQTq/nrbd\nu8Y4MiA1frnXH2utDW27kPqoFSGXoe79w4YNg5ubm8akFTBsrSi59JFxowR+0actcKuv77XSAWiA\nLXg7ZcoUPP/888Lv9NixYzU6EsmVnp4OAKIjHlLzt4kTJ+Kdd97BoEGDFKlFGh8fj+nTp6Nly5YI\nCgrClStX8OmnnwoBGD6zwMbGBqNHj4aTk5MoAKj+/pWTk4Pdu3cjMzNTyPptjM0w9Y3thgbz1M2d\nO7uJ2mkAACAASURBVBdLly7F/fv34efnBxcXF8yZM0f0HL68xMGDB9GvXz/MmzcPY8aM0XsQSal1\nS0M1pBkFjyWwFxMTg/3796Nnz57w8vLC8uXL9X7qgvX+xmN9j2/ZsiVOnDghZK+fPHlS8jjlkiVL\nmDKWWMfHmt3M6tatW5g3bx7u3r2LrKwsXL58GVlZWZg5c6boeV999RV8fHwQExMDMzMzjcC33Lml\nVDamVAaUITeIjD6IJLctKCCuiVRdXY3KykqNTJELFy5gz549ACBkIm3YsEHjtZTsaKbL16IkpYpM\nyp2sz58/H9OmTRNuVObm5pLf6+rqapw9e1aocXHu3DkhrVY9W4b1TL0+SGVQ1Q4yzJo1S2t3Cn1g\nLW4NyDsvrwS5hfYMpV27dqJ2t2lpaQ1q6aq00aNHw8vLCyEhIUJntuDgYGzZskXvn1tOEETJZgR5\neXnIy8sT/e7pWsuLpWuHvq5V/s29WbNmKCwshK2tLR4+fKjz67Hs3ulj50mdtrbQLFhrbbDuQhoq\ngASwdSbSh6NHj9b5Xm4MtaJY6SPjRgnPP/88gJr3R2tra+F3uby8XFQHUl/fa6UD0AB78JZvA68U\n1gWov78/vvzyS0RFRcHf3x9jxoxp0DGmn376CXPnzsXRo0fRsWNHrF69GpMnTxaCSPz8vnv37qJ5\nsrqUlBSkpqYiLy8P7u7u2LJliyId81gpvbHNs7a2RlRUVL3P4ee5p06dgrOzM1q0aNEoWexKrVsa\nSqkC6tqO5rVp0wY7d+7U2mlTSc8//zyqqqoQERFRb2MqddevX8eJEycA1Ky5pTKa58+fj9DQUOF+\nWVFRIXkEkjVjifXYm5zsZhaLFy/G1KlThdqjf/vb3/DRRx9pBJE+/fRThIeHC/GGV155BbGxsUI9\nUpbmX+pYszHLy8s1Ni0ai9EHkXghISFMFy0gjlZaWFjgueee08jIqL2wqaqq0jinCCjf0QyQ97Uo\nSakik7xFixbh0aNHohuiVLqwnZ0d9u/fL/rFl8qQ+eSTTxAWFia8QZSVlWHlypV48uQJ3n33XeF5\nrGfq9aFXr16IiopCcHAwOI5DQkICevXqBeB/bYDt7e0RHx8vnGF2dHTU6E6hD6zFrQF55+WVxFpo\nz1AiIiKE1qpAzZuFLnUY9CUqKgp/+9vfcOXKFTg6OiIuLq7RusOwBkGUbEawfPlypKeno3v37qKs\nQ12DSHK6dih9rXbr1g2FhYVwd3eHv78/bGxsGnTds+7eGbvatTaKi4s1atgA8opvGgpLZyJ9ePLk\nCRYuXIg//vgDSUlJuHr1Ks6dO4eAgACjqBXFSh8ZN0qaMmWKKKBVWVmJkJAQ7Ny5U/hYH99rpQPQ\nAFvw9uHDh4iMjBQCtHwtFF02VsrLy2FpaVnn96H2/HPo0KEYOnQobty4ge3bt2PUqFEYMGAAgoKC\n6u0ypM2pU6fg5uaGjh07itYBLEddjhw5ggkTJmDIkCEGK1Cv5Ma2ti576pkMdnZ2mDRpEnJycjBr\n1izJ9ZI+KL1uYSHVyUp9baNrPUGWo3n11VvVJ3NzcxQWFqK6ulprcDA9PR0rV64U5mGbNm1CeHi4\nRnZc9+7d8c0334jWflK/N6wZS6zH3lgD5KyKi4vh7Ows1MQyMzOT/Dq01aUdPXq05KYqv/6qXfuP\n4zjs2rULubm5CA8PR35+Pu7duyfq+AYoWwBeLhWnRI5eI6h90X7//feSF6268vJy0e61+kU5duxY\nrF27Fh07doSbmxs6deokFBvWN12+FiXUt2OiSwCBL0LMZ75oK0JcUFAg2l3861//qvGc8vJy0Q1H\nqp7EunXrUFZWpvVMvT6UlJRgyZIlOHr0KABg8ODBmDdvHmxsbODg4CB5npjXGC1Jjd3YsWMRGhoq\nWviuXbvW6Ba+fAeahh6fUpqhuj8BNVkWCxcuRFpaGnbs2AEbGxt06dIFq1evFj2vuroaKSkpwsKj\nf//+8Pf312nXcujQocjIyFBsoshvCtRFfSGhz2v19OnTKC4uhpOTk85dfTw9PZGRkaH1MdK41Hea\n6wvkK2nq1KlwdnZGcnIy9uzZg/LycowePRp79uzBZ599Jnnd88fP1WtFGpqHhwcyMzPh7u4ufB1B\nQUFG8/6g7XdOX99r1nuvHA8ePEDr1q1RVVUlBG8DAwNF87KZM2fipZdewtixY8FxHHbu3Ilff/1V\n631UCp+dxc+Tatfqq2t+lJOTg+TkZBw5cgROTk44e/YsnJycMHfuXFmff8KECXjxxRfxww8/IC0t\nDVZWVvD29hZOJPDkNF8wBPV5fEM3APkaTo8ePcLJkydF73VvvfWWKIuyrKwMP/74I15++WV06dIF\nd+/exbVr1+Ds7NzAr6h+Ul+v+sf6mFe///77TPUE5R6RGj58ODZs2KBxNK++Qu6NKTo6Gvn5+Rg1\napRo7lt7087DwwOff/65UP/v/v37mDhxotDkAqhZ/4wcORL79+/X+nkvXLggmbFUO5DHOicLCgrC\npk2bsGzZMhQXF6NDhw44c+YMU41GKX5+fkhKSoKfnx/S0tJw9+5dTJ06FampqaLnaXt/OHnyZJ2f\nQ6VS4Y033hA9Fh0djYKCAly+fBkHDx7Eo0ePEBwcLASbzpw5g759+wodk2tTqvt2vTgT4e7uzt27\nd0/4+N69e5y7u7vkcw8dOsQ5OTlxDg4OnIODA/fyyy9zDg4OoufcunWLKygo4DiO47Zt28b98MMP\ndX7ugoICLisri8vKyuIePnzYqF+LMfP29uauX78ufHz9+nXO29tb43k//fQT5+zszDk6OnK9evXi\nHBwcuH79+gn//uzZM47jOO7p06eSf2obPHiwxh8XFxc9fIW6iYuL47Zs2cIVFRVxjx8/5hISEriN\nGzcaelhGwcPDg+kxQzl58iRXUlLCcRzH7dy5k/v444+5vLw8A4/qf3x8fLh79+5xnp6ewmMjRoxo\n9HGcOnWKy8rK4ioqKkSPV1ZWcmvXrlXs8wQFBWl8jsaij2tV/b2Ef//Rlb+/P3f8+HHh4xMnTnD+\n/v4Nek1DuHHjBjd79mzO39+fGz16tPCHx9/jfX19DThKNocOHeLefPNN7r333uMmTJjA9evXjzt8\n+LDePy//vqt+X6h9rX766ad6H0dD8T93b29v7tGjR1x1dTXn5uZm4FH9j4eHh+j39sGDB9yoUaM0\nnqfP73Vd9159MOT79cGDB7nAwEBu+PDh3L///W/hfbmiooIbPHiw7NcrKCjgEhMTuXPnznEcx3G3\nb9/mdu/erfG8mTNncvPmzePOnDnDnTlzhluwYAE3c+bMhn0xRi44OFg0z8nLy+OmTJliwBFJy8zM\nbLTPdf78eW7+/Pmcq6sr9/e//5174403uHHjxnGJiYlccXGxTq+pfn/meXl5NXSoinnnnXc0/gQG\nBmo8T2q9KvXYe++9xxUWFmr9vEVFRVx5eTl37do17tq1a1x5ebnk81jvR/fv3+eePXvGPX36lIuL\ni+PmzZvH/fe//9U6jrqkpaVxkydP5v75z39y69at41xcXLg9e/ZoPM/Ly4u7ceOG8HFOTo7kmrio\nqIhbsWIFN2nSJC4wMFD4I/W1VVdXi64b9febBQsWcBzH/nPTB5M5zgaIu57U7oCiLjY2FmvWrEHv\n3r0ld7+rqqoQHR0tnEsMDAys87X01RmA9WsxZqxFiGNjY/HFF18gLCwMaWlp2LVrF/Lz84V/9/f3\nR1paGvr06cO006CvwsEsuFrtywcOHIgxY8aIMo4OHz4sqocwceJE+Pj4GKQOlrFhTVs1lIiICGRm\nZuK3335DYmIiPDw8sGDBAoPX5FBX+37RmGn1tbMsamfRKF2zYe7cuQgJCcGAAQMUKxjI2rVD6WuV\nfy/5+9//Do7jGvxewlpvwNiFhobC09MT3t7eksecDXm/l8tQRWBr/x4WFRVpFII1ZK0oVkof+VRa\nYGAgAgIChDo6GRkZmDx5ssbzlPxeV1VVwdfXV5hT1O5KqKucnBzEx8cjLy9PNG9TP1JRXV2NgoIC\noRFKQUGBZPt3fUhNTUVwcDCcnJxEj1tYWOhU36Rdu3aisggvvPACXnjhBY3nsTRfaGr++9//CnVb\ngJoOdepzdGOxdevWRuvmq496goY4mifHV199xfS8F198EevWrRO6Rn/99dei64dnbW0Nb29vODs7\ni45eqpcN4DgO/v7+2L9/v9AFrS5yCnUr2UnQy8sLL7zwAr777juUlpZi2bJlkvdh1rq0rMe2mzdv\nLlpb1r738nXMWH9u+mAyQSTWixao6TxV+8ygOv7sJ1fruJEUfUwK5XwtxkxOEeLu3bujsrISKpUK\nY8aMgY+PD8LCwgAAycnJKC0tFepI1EXumXp9kGpffuvWLdFNsaysDLm5uejatSuAmsLAxlZ7wlCM\nfeHLn6P+/vvvERAQgMDAQFEXGUMzVPcngD0IomTNhs2bN+P+/fv45Zdf6uw0KIecrh1KX6tKv5ew\n1hswdhYWFvV2J3VxcYFKpUK7du10TkdvLIYqAuvm5oZFixbhyZMnSE1NRXJyslCXwZTw3XEnTJiA\nXr16CUc+jYWvry+6dOkiHB+IjIzUe0c5c3NztGrVCs+ePRMd328obcFboGYDzMvLC4MGDQJQc5x6\n1qxZio2hPvUVn3VxcZH9emfPnkVsbCxu376NqqqqOtuXszRfaGqee+45xMXFYcyYMQBq6s8999xz\nBh6VptqBcVMTFxcHABo1//hu14YueREQEIDt27drfezTTz9FVFQUPDw8oFKp8H//93+IiIjQeL2e\nPXuiZ8+e9X5OlUqFv/zlL3j8+LHW7resczJ9dBJ8/fXXtQbwWevSsjZKsLe3R2ZmJjiOQ35+PjZv\n3qzRfRVg/7npg8kEkVgvWqBmQpWcnIwRI0bU2XnqH//4B6ZPn6717Kc+JoXqXwtQU6ywrq/FmEkV\nIeYnger4XdKOHTsiKysLnTt3xuPHj4V/5zOQpKhUKly5cgWA/IwlfWBpXx4WFgY/Pz/hPO+VK1cQ\nGRmp97GZAmNf+FZWVuL8+fM4fPiw8DOT6shnKIbq/gSwB0HUmxE0tGbD5cuXcejQIUVaPAPyunYo\nfa0q+V4iZ/fO2Dk5OSE7O7vO8/umkInEbxLUtdOsb8HBwcjMzERRURGys7MRGBgoZMuYGm3Zjob2\n1ltvCTvhjaV79+4YN24c/vWvf4kC8w3JyNQWvAVqduBfeeUVoZZHUFCQ1kWhUlgypeRYsGABpk2b\nVucJBZ6c5gtNxbJly7BkyRIhy6dfv35YtmyZgUelqaEdCQ3t6tWrhh5CvWoXS6+qqhKt1XjNmzfX\nqMem3qWSx1KsHmDLWALY52RKdxKUcy9q166dcO+oC2ujhOnTpyMuLg7379+Hn58fXFxcJOvqsf7c\n9MG43p3rUF1djUuXLjEXEeSfFxERUecihv+7eqROquuPPtIP27dv36CCiMaguroaT58+xc6dO7UW\nIQ4KCsLjx48RGhqKWbNmobi4GPPnzxf+nb+xbtiwAZaWlvD39wfHcfj6669RUVEhPI9P5zb0jVhb\n+/KhQ4eib9++oq51xtQm3lBMYeEbGhqKRYsWoX///ujZsydu3rwpZJQZA0N1fwLYgyBK/n5269YN\nT58+VazAOWvXDiWvVX0EGOTs3hk7vqGFmZmZ0HVFKkPAmNXe2FDfaVapVMyTaV1UVVUhLi4O77//\nvt6bc+ib0kc+lVZcXIwtW7ZoHIfV93HnR48eoWfPnsjJyRGNpSFBJG3BW569vb1B3q9ZMqXkaNGi\nBdNRqJdeeknUpMXPz6/Bn9vYdezY0agywuvCnwAgykpISEBCQgJKSkpEmdllZWWSvzOBgYGikh11\nPcZapJ4lY0nOnEzpToJK34tYj21PmzZN43vKNygA5P/c9MFkurOpf+Makz46A+zfvx/Ozs6wtrbG\n2rVrceHCBYSFhTWobakh8B1U6lNdXY0ffviBqUq81M/Yx8dHowK+IS1btgzXrl0TtS+3t7fHnDlz\nDDwy0zBx4kSsWrXK5Be+fyZ8ECQhIQEWFhaiIEhlZaXGAvnXX3/FCy+8IOwoPX36FL///rtOO9gf\nfvghLl++DCcnJ1FNJF13g+V07VDqWpXqRsRrSAZlaGgoLl68qHX3zti5ublh1qxZcHR0FO0Wdu7c\n2YCjMi2+vr46Z2gYE2PvXjRz5kzY2dlh3759oloW4eHhev28UnOjhs6Jjx07Vmfwtl+/fvVmfzZG\ngFfpOf/q1avx2muvaZ2LKn1s0JhJtbJXp2sre2JaiouL8fjxY0RGRorquVlbW4vmP5WVlaioqMDY\nsWORkpIizGmKi4sRFBSkUfrh/fffh7W1NXx9fQHU1DkrKirSOWDJOidTupOgPuMPUp16pb7PKpUK\nRUVFou8z689Nn0wiEwmomYhfuHBB0UJn2dnZQoS0X79+km8u6rvqe/bsUSS6t3HjRowYMQIXLlzA\njz/+iKCgIERFRRlNG1tWXbt2RX5+vmRxQp6ZmRnWrFnDFEQyhVpCs2fPRkpKCg4fPgwAcHV1FWpb\nEe1Y01YNJTExEb6+vrCxscHs2bNx8eJFLFy4EAMHDjT00AxGbpbF3LlzkZKSInxsYWGBOXPm6BQM\n7tGjB3r06KHjyDWtWrUK5ubmmDNnDhITE5Gfn1/nhEapa1VfmZMsu3emwNbWFsOGDTP0MEyaknXI\nDMlQNaVYsdayUAq/mKiurhay34GaxUND50aLFi1CTEyMRvAWqKmJA9Qc1ygsLBSyw3ft2tVoixPW\nTClWKSkp2LRpE6ysrOrNeHRxcYGHhwfefvttk6xVKsfmzZuZWtlTEKlps7GxgY2NDTZt2oSSkhLk\n5uZKZsbEx8cL9Zt69+4tPG5tbY0JEyZoPJ+1SD1rxhLrnKxFixai7NWOHTs2qK6Z0vcidVJ1lli/\nz+o/N15BQQFu3rwp+n/6ZDJBpMuXLyMgIABdu3YVXTy67r6tXr0aWVlZGDlyJICaxcW5c+fwwQcf\n1Pl/lOoMwEcb//Of/2DMmDFwd3fH1q1bG/y6je3Jkyfw8PBA3759RT+T2kXjWAOAxl5LSP3YQEBA\ngKGHY5KMfeGbmpqKCRMm4Pjx43j48CGio6MRFRX1pw4iyQ2CVFVVic6pW1pa6lxXSuljQHK6dhj7\ntarPI1KNydXVFdu3b8fw4cPrrGFI6qdeh4xnDIVa5TL27kWstSyUwi8mADAt2uSoL3jLZwFmZ2eL\ngv8ff/wxRo8erVj3zfoofcyVD4xpk5mZiZSUFAQFBcHOzg7jxo3TWuPEVK1btw4XLlxASkoK4uLi\ncOfOHbRs2RL29vZwdXVFUlKSxkKeNF3Z2dlYtGgRzM3NkZWVhYsXLyIuLg7x8fEAauYcM2bMQERE\nBFMHStYi9fPnz4e1tbVQnzI1NRXz58/X2OAz1JyssY/cy/0+v/3229i0aRM4joOXlxdat24NZ2fn\nRjkhYzLH2fjCfrXp2hnjX//6F9LS0kRHLry9vXHo0KE6/4+XlxfS09N1+nzqfHx8MGnSJGzcuBEb\nNmxAly5dMGrUKOzdu7fBr92Y6krv44968Tw8PHDjxg2mAGBBQYFR1xJqKscGiDT+d3zt2rXo2rUr\nvLy8DHaU1lSNHj0aa9asEXZx8/Ly8MEHH+iUiVRaWooNGzbgp59+AgAMHDgQISEhOi8m+Z/vwYMH\ncezYMaFrh7ZjucaIdffO2EkdGTfFAAhpOPVroTZDXhO3bt1Ct27dEB4ejoULFyItLQ07duyAjY0N\nunTpovcal6yLCTni4+Nha2tbb/B26NCh2LFjhzAPe/jwIQICAuqdJytFH8dcKysrRUV56yvaXlVV\nhW+//RbR0dEwMzPDO++8g3Hjxv1pjrqRP5/Ro0cjPj4ewcHBwlp3xIgR2L9/v06v98EHH+DMmTMa\nReo7deoE4H8ZRMOHD9c4siz1mKEY+5F7fl6bkZGBa9euITw8HJ6eno0yrzWZTCQ+WKStiDOr1q1b\ni94smzdvrrVArVJpywsXLkRCQoLQLvbWrVuN3u1DCbWDRXWpq/uRlPbt2+vUvrWxNJVjA4Zi7Avf\nFi1aYPPmzdi7dy+Sk5PBcZyouDvRbsaMGQgICBBSf7OzsxEVFaXTa0VGRqKqqkooxL9r1y5EREQg\nJiZGp9eT07XD2K9V1t07Y2foRglNhXpXs969e6Nt27YGHpF8xnotfPjhh0hNTcX9+/fRpk0bTJgw\nAb169RJqWeib0gEkAFizZg2Amm7BdQVvx48fDy8vLwwaNAhAzb18ypQpio9FitLHXC9evIj3339f\nyCSorKzE+vXrJY/tlJaWIiMjA8nJyXjxxRcxZswYnDhxAsHBwXovok6IIXXo0EH0sXotyvHjx+PL\nL7/UqJlWV2YOa5F61owlQ83JjP3IfXl5OQDgxIkTGDlyJMzMzBQpAM7CZDKRbty4gY8++gi//vor\nVCoV7O3tsWzZMp3P6kZHR+PGjRtCICQzMxM9evQQKpzr4+wj786dO0Ik1pTdunUL8+bNw927d5GV\nlYXLly8jKysLM2fOFD0vIyNDo92w1GOmQGqnlHbN2SldaE9pN2/eRHJyMt588024ubnh9u3bOHDg\nACZPnmzooZmUmzdvirKHdO1wV7t4P8dx8PDw0HmHJTQ0FE+ePEFOTg727t0LMzMz+Pv7IyMjQ+O5\nxn6tGvvuHWk8fFczfkH8yy+/GFVXM1M3YsQIhIaGYsWKFZKbYvqcLxra1atXcerUKQA1m7kvv/xy\no3xelkwpOcaOHYvQ0FBhjn/s2DGsXbtWoxZpREQEvvnmG7i4uOCdd94RdYIaNmyYRvFgQpqKoKAg\nrFq1CsHBwUhLS8OJEyfw2Wef4auvvgIA3Lt3D88//zx+//13yf+va2YOa8aSoeZkSt+LlLZ48WKc\nPHkSVVVV2Lt3L0pLS/Huu+82SlMqkwki+fn54e233xYCD5mZmUhKSsLOnTt1er3AwMA6/02lUul1\nt2HgwIHo06cPxo0bh379+unt8+jbu+++i/feew8rV65ERkYGqqur4e7ujn379omep4/OIsQ0GfvC\nt7i4GJs3b8bVq1cbtYUzkebu7o6UlBQh6+/JkycYO3aszkEkOV07jP1aHT9+PFavXi3avQsLC8MX\nX3xh2IGRRmfsXc1M3ZEjR5CSkoLTp09rdLPS93zxz0rpY66enp4amwVSj33++efw9fWVLCDOL6IJ\naYrOnz+PxYsXIz8/Hw4ODrh16xY2btwouudVVVVh2rRpomLO9fnxxx/xyy+/iObTtes58nXf6sI/\n31BzMmM/cs9xHK5evYouXbrA2toaDx8+xJ07d/DKK6/o/XObzHG2p0+fwsvLS/jY09MTCQkJOr8e\nH1k1hKysLOzfvx+rV69GcXExxo0bB09PT6M5JsGquLgYzs7OWLVqFYCaTmzqBXUvXryICxcu4NGj\nR0hKShIeLykpMekjQk3h2IChsKatGsr8+fNhZ2eHW7duiVo4E+1mz56N2NhYjB49WrI9tC61xNzd\n3eHv74+RI0eC4zgcOHAAHh4eOo9RTtcOY79W27ZtC09PT43du+XLlwMwno6HRP+MvauZqXN1dYWr\nqytiYmIwb948Qw+n0Zw9exaxsbG4ffs2qqqq9F5QVp3SRxtbtmyJEydOCKUjTp48KZlJwDdZKC8v\nFzWEaNmyJQWQSJPEd3q0t7dHfHw8Ll++DABwdHTUKPNibm6OwsJCVFdX11kKgLdixQpcvHgR169f\nx5AhQ/Dtt98KmYDqWJuEGGpOZqzHrMvLy2FpaYmysjJ069YNQM3PsmXLlqL5gD6ZTBDJ0dERp0+f\nFtrhnTlzRmNHSA6+XWlubi7Cw8Nx+/Zt3L9/H6+99ppSQ66TpaUlvLy84OXlhbNnz+LDDz/EypUr\n4e3tjWnTpqF9+/Z6H4MSzM3NUVFRISwY7969K7qp3L17F5cuXUJpaSkuXbokPG5lZaVzTRNDq31s\nYP78+XRsQAZjX/g2dgvnpmT8+PEAoGhHiMmTJ8PBwUFYtEyePBmjRo1S7PXrY+zXKmu9AdL0GXtX\ns6bizxRAAoAFCxZg2rRp6N27t9YFo7FbsGCBUBMJACoqKiSPwRw+fBiRkZG4f/8+ABhd1gEhSuvT\np49kjSNe7Wv/H//4B2bMmIFRo0aJ6hPXPtabnZ2NtLQ0+Pj4ICIiAtOnT6+zRi5LxpKxz8kam7+/\nP9LS0oSfn/rBssa6Z5lMEOnq1asIDAzEiy++CAC4ffs27O3thbORcne5lyxZgqKiIly4cAHh4eGw\ntrZGWFhYo3Xe+v3337Fjxw7s3bsX/fv3x5gxY3D8+HFMnDhRkQ5wjeHtt9/GjBkz8OjRI6xfvx7p\n6ekICwsT/p3fvfvxxx+bTIv01atXY8eOHRrHBiiIxMbYF76N3cK5KeGD+rp2zJQSFhaGiIgIvPnm\nm/D09MTu3btx9+5dYbdYn4z9WmXdvSNNX1xcHABg7dq1osc/++wzWgATnbVo0QLu7u6GHoYiiouL\nsWvXLhQUFACoaeLy66+/ajxv+fLlWLNmTZMInBHCgs+02bBhAywtLeHv7w+O4/D1119Lnhrh30+2\nb98uPKZSqTSCSJaWlrCwsIBKpUJFRQU6duyIO3fuaLwea8aSsc/JGltycjJKS0tx9uxZg43BZIJI\nCxYsUPT1zpw5g7S0NOGIXNu2bYUK5/o2ZcoU/Pbbbxg7dixSU1OF41Cvvfaazq0UDcHLywsvvPAC\nvvvuO5SWlmLZsmVCppi6kydPYsCAAUJk++nTp/j444+xcuXKxh5yg9GxgYYx9oVvt27dUFhYKByj\nsrGxoeNsMuXk5CA+Ph55eXlCNzRAt+NsN2/ehI2NDQ4ePIh+/fph3rx5GDNmTKMEkYz9WgXYdu9I\n02es6fbEtDk7OyM7O7tJFA5fvnw50tLShEz/6upq4TF1tra2jXIigRBjc/jwYdHvw8SJE+HjM460\nzgAADvJJREFU44OQkBDR81jLwVhZWaG0tBR9+vTB3Llz0aFDB8n1EmvGEs1txGpnkKlTqVS4cuWK\n3sdgMkEkJXe3AYgWN0BNwVX1ibg+eXt7w83NTbIF3969extlDErgO6ypB46kuq7dv38f48aNw+rV\nq4Xir8OHD2/s4SqCjg00nDEvfFesWAEAjd7CuSkJDQ2Fp6cnvL29G9xmlL9Pnzp1Cs7OzmjRokWj\n7g4b+7XKsntHCCG6SElJwaZNm2BlZQVLS8tGrYmktNpHdMzMzEQ1j/i6MG5ubkhOTsaIESOMshMT\nIfpSVlaG3NxcoZtuXl6e8HuhLiAgQJSFVNdjq1atgrm5OebMmYPExETk5+dLHiFlzVgCjHtO1tjk\nZpDpg8kEkYqLi7FlyxaNi0fXrhgDBw5EbGwsSktLcejQISQnJ+s9sMH/Mv7zn/+UzHoytTepL774\nQiNgJPVYTEwM0tPT4e3tDUtLSyxdutRku9LRsYGGMaWFr1RWHdHOwsICkyZNUuS17OzsMGnSJOTk\n5GDWrFkoKytT5HVZGPu1KqfeACGEyLV7924UFxejsrISbdu2BcdxMJGGzhqsrKxw/vx5/OMf/wBQ\n04mK7/oJQKOuSEREhFF2YiJEX8LCwuDn5yeUJrhy5QoiIyM1nld7HlZVVYXHjx9rPG/JkiWIiIhA\ns2bNkJGRgYcPH8LOzk4jk5w1Y8nY52SGwppBpg8mE0RSumuSg4MDVq5ciZKSEmzatAn37t3T+/Eq\n9dQz/o3KFN+k5HZdKykpQVZWFnr27Ik//vgDly5dMtkgEh0baBha+DZ9Tk5Oih2BWLZsGX788Ue8\n/PLLaNWqFe7evYtZs2YpMErtjP1albN7Rwghcl2/fh2LFi2Cubk5srKycPHiRcTFxSE+Pt7QQ5Nt\n9uzZmD59ulBT5fr166LW4jS3I392Q4cORd++fUXdp/lOaACQkJCAhIQElJSUiII3ZWVlkrXTWMsR\nsGYsGfuczFBYM8j0wWSCSEp3TUpISMCePXswfvx4pKam4tSpU/j444+xceNGBUct1lTepOR2XRs9\nejS8vLwQEhKC4uJizJs3D8HBwdiyZUtjDpsYAVr4Nn39+/fHtGnTYGZm1uAjEC1atBAVre/YsWOj\ntHQFjP9aZd29I4QQXaxbtw67du1CcHAwAKBXr17Iy8sz8Kh006dPH+zbtw8///wzgJoFsq2trYFH\nRYhxad++PVxcXCT/zd/fH8OGDUNkZCQWLVokPG5tbS35u8RajoA1Y8nY52SGwppBpg8mE0RSumtS\ns2bNYGtrK5yJfuONNxAVFaXIWJs6uV3XoqKi8Le//Q1XrlyBo6Mj4uLi8MUXX+h/oMTo0MK36Vu0\naBFiYmLg6Oho0t1tjP1aZd29I4QQXXXo0EH0MT8XN0W2trZNokg4IYZgY2MDGxsbbNq0CSUlJcjN\nza33RBBrOQLWjCVjn5MZirYMMn0ymRl+7a5JY8aMadBxtmbNmoHjOHTr1g1fffUVvv3220YrRNVU\n9O3bF2vWrBGOl9y4cQNHjhzReN7Tp08xcuRIzJw5E0DNcbjjx4836liJcVBf+NrZ2aGoqIgWvk2M\nra0thg0bhi5duqBz587CH1Nj7NfqkiVL8OzZM6hUKmRkZODw4cMm1d2TEGLcrKys8ODBA6EMw4kT\nJ2BjY2PgURFCDCk7O1tjTSdVf2fZsmUYO3YsvvzyS7Rq1QqPHz+WLEfAmrFk7HMyQ+IzyFxcXBot\ngASYUBBpxYoVaNOmDUaPHg13d3cMGTJE6KSkiw8++AAlJSWYPXs2srKyEBcXR2crZVq8eDEqKyuF\nY3qdOnUSnTHn8SnRrVu3BlCTEn379u1GHSsxDrTwbfpcXV2xfft2FBYWorS0VPhjaoz9WuV3744e\nPYp+/frhhx9+QHp6uqGHRQhpIsLDwxEcHIz8/HwEBgYiPDwcc+bMMfSwCCEGJLWmkzrmypcj6NKl\nC4CacgTOzs4az+Mzlr777jv079+/zowlY5+T/RkZ/XG28PBwTJo0CQ4ODigsLISnpyesra3x6NEj\nPPfccxgzZoxOr8sXBbOxsUFiYqKSQ/7TuHbtmlD4FqjZtaqurpZ8bu2U6GbNmul9fMT4sKatEtO1\nZs0aAMCnn35qko0DeMZ+rbLu3hFCiC5effVVbNu2DWfPngVQU1eIXzgSQv68lDzmytpAxdjnZH9G\nRh9EunLlChwcHAAAGRkZsLOzw9atW3Hnzh1MmTJF5yBSYmIifH19YWNjg48++ggXLlzAwoULmWr8\nkBq1bxrPnj2TbP9KKdGERwvfpq+pNBAw9muVtd4AIYToysbGhuoIEUIESq/pWBuoGPuc7M/I6INI\nzZs3F/5+5swZ4ULr1KmTcAHrIjU1FRMmTMDx48dRUFCA6OhoREVFURBJhtdffx3x8fEoLy/HiRMn\nkJiYKFnVv3ZK9K1bt/TaBY8YL1r4ElNh7Ncq6+4dIYQQQogSZs2aZZA1nbHPyf6MVJxU6ogR8fb2\nRnx8PGxtbTFo0CD8+9//xksvvQQAGD58OA4cOKDT63p5eSE9PR1r165F165d4eXlBW9vb6SlpSk5\n/CatoqICCQkJyMrKAsdxcHFxweTJk2FhoRmbLC4uppRogrKyMmHh26VLF9y9exfXrl2TPCdNiCHR\ntUoIIYQQAlFty6KiIly+fBkA4OjoiNatW6Nly5Z6/fw0JzM+Rh9EOnDgACIiItCsWTP06tULcXFx\nAICff/4Z69evx+eff67T644dOxYuLi7YtWsXkpKS8Nxzz8Hd3R179+5VcviEEEIIIYQQQohJcnBw\nEJ0A4utd8kyt7iVpOKMPIgHA/fv38eDBA9EFfPfuXVRVVeGvf/2rTq958+ZNJCcn44033sDQoUOR\nl5eHAwcOYMqUKUoOvUl79uwZMjMzcfv2beGsKgB89NFHBhwVIYQQQgghhBAlbdiwAZaWlvD39wfH\ncfj6669RUVGBkJAQQw+NNDKTCCIpafny5XB1dcVrr71m6KGYvJCQEFRUVODVV1+Fubm58PiMGTMM\nOCpCCCGEEEIIIUqSKv3i4+OD1NRUA42IGIrRF9ZWmoODA7744gvMmTMHb775JoYMGYIBAwaICngT\nNrm5uTrXpCKEEEIIIYQQYhrKysqQm5uLrl27AgDy8vJE9ZLIn8efLojk4eEBDw8PlJeX49ixY/j2\n228RHR2Nl19+GUOGDMGgQYPQrl07Qw/TJHTp0gUlJSWwtrY29FAIIYQQQgghhOhJWFgY/Pz88Pe/\n/x0AcOXKFURGRhp4VMQQ/nTH2aRwHIfz58/jyJEjOHr0KBXX1mL58uUAaupSXbp0CU5OTrC0tBT+\nnWoiEUIIIYQQQkjTUlBQgPPnzwMAevfuTckXf1IURCKyffbZZ/X+O9VEIoQQQgghhBBCmh4KIhFC\nCCGEEEIIIYQQrf50NZGIckpLS7Fhwwb89NNPAICBAwciJCQELVu2NPDICCGEEEIIIYQQojTKRCI6\nmz9/PqqqquDn5wcA2LVrFwAgJibGkMMihBBCCCGEEEKIHlAmEtHZxYsXsWfPHuHj1157DR4eHgYc\nESGEEEIIIYQQQvTFzNADIKbt6dOnwt9LS0sNOBJCCCGEEEIIIYToE2UiEZ25u7vD398fI0eOBADs\n378fnp6eBh4VIYQQQgghhBBC9IFqIpEGyc7OxvHjxwEA/fv3h7Ozs4FHRAghhBBCCCGEEH2gIBIh\nhBBCCCGEEEII0YqOsxGd5eTkID4+Hnl5eaisrBQe57u0EUIIIYQQQgghpOmgTCSiM3d3d3h6esLR\n0RHm5ubC42+++aYBR0UIIYQQQgghhBB9oEwkojMLCwtMmjTJ0MMghBBCCCGEEEJIIzAz9ACI6XJy\nckJ2drahh0EIIYQQQgghhJBGQJlIRGf9+/fHtGnTYGZmBktLS3AcB5VKhWPHjhl6aIQQQgghhBBC\nCFEY1UQiOnNzc8OsWbPg6OgIM7P/JbV17tzZgKMihBBCCCGEEEKIPlAmEtGZra0thg0bZuhhEEII\nIYQQQgghpBFQTSSiM1dXV2zfvh2FhYUoLS0V/hBCCCGEEEIIIaTpoeNsRGcODg7C31UqlVAT6Zdf\nfjHgqAghhBBCCCGEEKIPFEQihBBCCCGEEEIIIVrRcTbSIDdv3sSRI0cAAE+ePEFhYaGBR0QIIYQQ\nQgghhBB9oCAS0VlqaiqmTp2KmJgYAMDdu3fxwQcfGHhUhBBCCCGEEEII0QcKIhGdbdu2Dbt374aN\njQ0AoEePHnjw4IGBR0UIIYQQQgghhBB9oCAS0VmzZs1gZWUleszc3NxAoyGEEEIIIYQQQog+URCJ\n6KxNmza4efMmVCoVACAjIwOdOnUy8KgIIYQQQgghhBCiD9Sdjejs5s2bmDVrFnJyctCuXTu0aNEC\n8fHxePHFFw09NEIIIYQQQgghhCiMgkikQaqqqnDr1i1wHIfu3bvTcTZCCCGEEEIIIaSJoiASaZDS\n0lLcuXMHVVVVwmMvvfSSAUdECCGEEEIIIYQQfbAw9ACI6UpKSsKKFSvQpk0boS6SSqXCt99+a+CR\nEUIIIYQQQgghRGmUiUR0NmTIEGzbtg2dO3c29FAIIYQQQgghhBCiZ9SdjeisQ4cOFEAihBBCCCGE\nEEL+JCgTich2/fp1AMD+/ftRVlaGkSNHonnz5sK/U00kQgghhBBCCCGk6aEgEpHNxcWlzn+jmkiE\nEEIIIYQQQkjTREEkorP//Oc/6NWrF1q3bg0AKCoqwuXLl9G/f38Dj4wQQgghhBBCCCFKo5pIRGex\nsbGwsbERPra2tsby5csNOCJCCCGEEEIIIYToCwWRiM44joNKpRI+NjMzQ1VVlQFHRAghhBBCCCGE\nEH2hIBLRmZWVFc6fPy98fP78ebRq1cqAIyKEEEIIIYQQQoi+UE0korNz585h5syZQje269ev47PP\nPkPv3r0NPDJCCCGEEEIIIYQojYJIpEEeP36Mn3/+GQDQu3dv2NraGnhEhBBCCCGEEEII0QcKIhFC\nCCGEEEIIIYQQragmEiGEEEIIIYQQQgjRioJIhBBCCCGEEEIIIUQrCiIRQgghhBBCCCGEEK0oiEQI\nIYQQQgghhBBCtPp/19S4XeZEdgoAAAAASUVORK5CYII=\n",
            "text/plain": [
              "<Figure size 1440x576 with 1 Axes>"
            ]
          },
          "metadata": {
            "tags": []
          }
        }
      ]
    },
    {
      "cell_type": "code",
      "metadata": {
        "id": "XCkYNGrfNXWo",
        "colab_type": "code",
        "colab": {}
      },
      "source": [
        ""
      ],
      "execution_count": 0,
      "outputs": []
    }
  ]
}
