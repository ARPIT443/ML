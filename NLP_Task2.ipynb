{
  "nbformat": 4,
  "nbformat_minor": 0,
  "metadata": {
    "colab": {
      "name": "NLP_Task2.ipynb",
      "version": "0.3.2",
      "provenance": [],
      "collapsed_sections": []
    },
    "kernelspec": {
      "name": "python3",
      "display_name": "Python 3"
    }
  },
  "cells": [
    {
      "cell_type": "code",
      "metadata": {
        "id": "NKS_VH_-lVLY",
        "colab_type": "code",
        "colab": {}
      },
      "source": [
        "import requests\n",
        "from bs4 import BeautifulSoup"
      ],
      "execution_count": 0,
      "outputs": []
    },
    {
      "cell_type": "code",
      "metadata": {
        "id": "TZwLNh_dlxW6",
        "colab_type": "code",
        "colab": {}
      },
      "source": [
        "response=requests.get('https://www.consumeraffairs.com/travel/makemytrip.html?#sort=recent&filter=none')"
      ],
      "execution_count": 0,
      "outputs": []
    },
    {
      "cell_type": "code",
      "metadata": {
        "id": "UZ__Ga7tl3L_",
        "colab_type": "code",
        "outputId": "4e301ee3-a689-4413-9c21-805b90018b91",
        "colab": {
          "base_uri": "https://localhost:8080/",
          "height": 34
        }
      },
      "source": [
        "response"
      ],
      "execution_count": 0,
      "outputs": [
        {
          "output_type": "execute_result",
          "data": {
            "text/plain": [
              "<Response [200]>"
            ]
          },
          "metadata": {
            "tags": []
          },
          "execution_count": 3
        }
      ]
    },
    {
      "cell_type": "code",
      "metadata": {
        "id": "Y3ADhPfLl4wp",
        "colab_type": "code",
        "colab": {}
      },
      "source": [
        "data=response.text"
      ],
      "execution_count": 0,
      "outputs": []
    },
    {
      "cell_type": "code",
      "metadata": {
        "id": "m5mXqEwXl8GC",
        "colab_type": "code",
        "colab": {}
      },
      "source": [
        "soup=BeautifulSoup(data,'html5lib')"
      ],
      "execution_count": 0,
      "outputs": []
    },
    {
      "cell_type": "code",
      "metadata": {
        "id": "mjOU-fEQmB43",
        "colab_type": "code",
        "colab": {}
      },
      "source": [
        "coustmer_rew=[]\n",
        "for i in soup.find_all(\"div\",{\"class\":\"rvw-bd ca-txt-bd-2\"},\"p\"):\n",
        "  x=i.find_all(\"p\")[1]\n",
        "  coustmer_rew.append(x.get_text())"
      ],
      "execution_count": 0,
      "outputs": []
    },
    {
      "cell_type": "code",
      "metadata": {
        "id": "vuzqYz2emE9O",
        "colab_type": "code",
        "outputId": "610fcaaf-0121-4779-b28b-9d528be48d7c",
        "colab": {
          "base_uri": "https://localhost:8080/",
          "height": 541
        }
      },
      "source": [
        "coustmer_rew"
      ],
      "execution_count": 0,
      "outputs": [
        {
          "output_type": "execute_result",
          "data": {
            "text/plain": [
              "['Hi! I am Vishal **, A Research Scientist and Anesthesiologist. I want to share my memorable experience with MakeMyTrip and would love to recommend people for the same. The flight tickets were so cheap other than any other websites and tremendous so friendly support from Customer care. I had missed my flight due to visa issues and I was traveling to South Korea in a Very important International Conference. I missed the flight and the next flights were so costly to purchase around 1 lakh and more. The airlines were suspended my tickets and it was also non-refundable. I was stuck at Delhi Airport!',\n",
              " 'I had planned a trip on 7 June to a resort for two days (9 June to 11 June). During my booking by mistake I put 1 day prior to actual departure (8 June to 10 June). I called the hotel but they refused to help as the booking was online. Now since the booking was one day before, cancellation and modification option was already gone. I emailed the customer care but according to rules it was showing extra charges (same cost of two days again). Then I called the customer care number on the booking voucher, they talked to the hotel and changed the dates accordingly, mailing me the new voucher. The process was easy and smooth. I was so afraid that I have screwed up, but the guy on the phone really helped me. Thanks Suravjeet!',\n",
              " 'Booking ID - **. I booked a cab. The cab was in very nice condition, driver was polite. By mistake I paid double amount for the extra kilometer and the driver returned the extra amount sincerely using Paytm. Kudos to him. It was a nice and pleasant journey. Thanks.',\n",
              " 'I was awestruck by their concern and service. We had made a booking via Make My Trip for our Vizag tour. However our hotel cancelled our booking within hours of our reaching. But MMT team helped us throughout and made another booking within 1 hour time and that too in one of the best hotels in Vizag. We are very happy with the MMT service.',\n",
              " 'Perfect place for stay in Mussoorie. Beautiful construction and location. Soft spoken and cooperative staff. Clean and well-maintained rooms and hygienic and clean washrooms. Food is tasty. Overall stay is great. Would love to stay here on my next visit. For people searching for cleanliness in a hotel stay, this is the right place.',\n",
              " 'MMT is still a web portal and the whole culture is to not speak to customer and hide behind, whenever there are issues. The major issues we faced were:',\n",
              " \"Dear friends, Please think several times before using services from MMT (Make My Trip) as me and my mom had to go through a worst experience while travelling to the US. We booked return ticket from China Southern through MMT. We explicitly mentioned that we need Asian Vegetarian Hindu meal. The booking was made successfully with no issues. On the travelling day when we boarded the flight and during the diner time we were served Non Vegetarian meal. We are Jain and when enquired about our opted choice of meal it was specified by flight crew that they don't have any records of our choice of meal. So they can't provide what we opted for. My mother is sr. Citizen and we had to remain on almost starving conditions for over 13 hrs of journey while travelling to US from China through connecting flight. \",\n",
              " \"It would 30 hours from India to reach France and 30 hours back from Switzerland. They would promise to help you with Visa processing which they haven't. The flight list they give you isn't final. Keeps varying. Never trust these **. Avoid MakeMyTrip holidays at any cost. Better book your own flight and use Airbnb which would cost the same.\",\n",
              " \"Worst customer service ever. Don't waste your money and time. Once you book anything, you are hooked and will never get your refund. Customer service people will stay on calls for 2 hrs and won't do anything you request even within acceptable timeline. Pay bit higher price to get proper and very well taken care by other companies with good reputation. Their site is not secure as well which will cost you much higher since your identity and personal data is not secure if you try to live chat and fill the required info which can lead to anyone in the world to get scammed. STAY AWAY. Not a good site to do/give business. They are nothing but bunch of liars trained to waste your time.\",\n",
              " \"Booked a Jet Airways flight via MMT from Bangalore to London. Airlines got grounded. Tickets cancelled by airlines. It has been two months now and no information on the refunds. I had two more tickets booked via Airlines directly. Airlines refunded the money for those in 5 to 6 days. Only the ticket booked via MMT has not been refunded. These frauds are just sitting on customers money. Sale contract was with MMT and thereby they should be responsible. Don't ever use MMT.\",\n",
              " 'Did advance cab booking for 11AM from Lonavla to Mumbai. Got driver details and driver in turn passed other driver details who in turn have details of third driver. After coordinating for 1.30 minutes, MakeMyTrip executives is saying me that they will not be able to provide service and they will cancel the ride. While they mention they will refund the money, they feel it will solve all the problem of a family who were accompanied by two toddlers of 9 months and 14 months. After 2 hours of frustrating coordination, I had to cancel my booking and had to self organize other booking. When they can’t manage customer satisfaction they should only focus and concentrate on hotel bookings (hoping they would be handling this professionally).',\n",
              " 'I have booked one hotel in Ooty for two days with MMT booking ID ** for OYO 9080 Hillwood Cottages. My experience is horrible as rooms were in pathetic condition, full of mosquitoes, no proper reception to attend the complaint, no proper road to enter with taxi. I complain the same with MMT call centre, they told contact the Oyo as property belongs to them, they will make the adjustment if Oyo agrees. Oyo call centre give me new property with new booking. After that refuse to do the adjustment as I have made payment to MMT. MMT person refused to do adjustment as they have not received request from Oyo. At last I again make the payment. Now I want my refund back and don’t know to whom to contact to, MMT or Oyo or hotel as all are passing balls to each other.',\n",
              " 'I had booked my flights with MakeMytrip and I have still not received my money back. We all know Jet Airways has been grounded and it has been more than 60 days now that I had not received my money for international flights. On their assurance only I had rebooked my ticket with MMT where as post 60 days they do not respond to my calls and keep transferring. When we make a booking on MMT we pay them, then why do we need to wait for Jet airways to refund the amount. MMT is responsible for my booking, whereas now they state that they are only an agent. What is the point then of going through an agent if this is how they treat their customers. Very unprofessional service.',\n",
              " 'I had booked my flight ticket on 23/01/19 through Make MyTrip for 26/05/19 from Chandigarh to Mumbai the amount being 13,934 and the airline was Jet Airways. Everybody knows the airline closed and I had to bear the loss. Not only I had to pay 8000 extra amount 22,914 even after cancellation and me chasing Make My Trip for refund the past few months I have still not got my money back whereas I have heard others have. What I do not understand is if MMT earns pretty well from these airlines then why is it not paying its clients and chase the airlines for the refund. Why is it causing great inconvenience for its clients who have been with them like me for the past so many years whereas we are the ones who generate business for them. We really need to reconsider these service providers who in the guise of benefactors are like wolves who fleece you.',\n",
              " \"I booked a ticket for my mother through MakeMyTrip, she doesn’t have last name on her passport but While booking the ticket make my trip system allowed me to book the ticket but while printing they added Ms twice in the first name and first name into the last name. I checked with China Southern airlines and they said it's MakeMyTrip system which is generating extra Ms as per the gender of the passenger and only MakeMyTrip guys can rectify it. I am trying from last 7 days and all the representatives sending me to different directions and no one is giving me any solution. I would highly recommend not to book ticket with MakeMyTrip.\",\n",
              " \"I booked a trip to Nepal on Feb, 2019. My travel date is on May 10th, 2019! While booking, the staff were very cooperative till I paid the amount of 53500/- Later on April 24th I got a call from Makemytrip customer care saying my flight got cancelled (booked by them) and pay additional 40000/- to book new flight. I said them to cancel my package and refund my amount back. They agreed for refund and till date I didn't get any refund from them and no any answer from them!\",\n",
              " \"Really disappointed by MakeMyTrip (MMT) travels! We had paid 120000/- for 1 week package for 4 person. I have already told them that all the 4 are senior citizens and make sure that we get ground floor hotel rooms and the hotel room should be relaxable. They assured me that I can call anytime and they'll help me. But they didn't. When I was booking the package they were very co-operative and very nicely responsive. Until I paid the whole amount for the package. Firstly Mussorie hotel was good yet the washroom were not even working properly. Food was too poor and quality was just awful. Location was okay.\",\n",
              " 'Make My Trip is the worse travel company. I have trapped two time in it. I was willing to book bus ticket from Banglore to Mumbai for 24th June 2019 and when I was at checkout point. Payment was failed and I made the payment again. Payment done and what I have seen the date is changed and was the same date on which I have booked (13th June 2019). There was a rule written in the ticket that if the ticket will be cancelled up to 8 hour before the time of bus none of the money will be refund. It happen with me second time. It happen with me one more time when I have booked a hotel in Puri and the date changed unknowingly and my money got waste. That time I thought that it may be because of my mistake but now I am sure it is because of the technical problem with their website so I will suggest everyone not to use this website ever otherwise your money will also sunk.',\n",
              " \"I booked my Jet Airways flight tickets in the month of January 2019 via MakeMyTrip for Mumbai to Singapore... In the month of April 2019 all Jet Airways flights were cancelled and MakeMyTrip emailed us that refund will be processed in 7 to 10 working days... It's been 60 working days and we haven't received any communication on refund status. Also when we call customer service number, they just keep transferring your call and waste you time... never ever book tickets or packages via MakeMyTrip, absolutely cannot be trusted. Pathetic customer service, they just want to take customer money and sit over it. Customers think 10 times before booking via MMT, as if you book via other portals you may get the best service.\",\n",
              " 'They booked the ticket, deducted the amount from Bank after confirmation. But after some time they cancelled the ticket saying technical glitch and processed the refund. Till here it was good. After this I had booked from IBIBO. After around three hours MMT had booked the same ticket once again and then charged again, and my money was deducted from Bank. This time I had no whereabouts from where they had booked the ticket. I had to cancel the same. However in this I lost around 3800 Bucks. MMT did not bother to hear this and kept on claiming big that they have settled the case within a record time.',\n",
              " 'We did not get proper/required support from MMT staff. We were requesting within the policy date to cancel one of hotel booking due to its quality, but MMT staff was doing time pass and moving our request within MMT team members. It was pathetic experience with MMT staff.',\n",
              " 'Hi, MakeMyTrip refund status very poor, really bad experience with them. When bus didn’t come on scheduled time and when I tried to cancel they denied saying \"tours are not refunding\".. Really pathetic aa.',\n",
              " \"I booked my round Flight tickets (10th July - Abu Dhabi to Kolkata) using online website MakeMyTrip.com (refund for Booking ID **). Due to non-availability of the Jet Airways flight six weeks back they have cancelled my one-way ticket and assured to get back the refund within 72 hours. I have written 1000 times emails, but they are idle. I lodge a complaint online at consumer forum but nothing happened. This company totally cheated me. They don't take any responsibility if flight get cancelled. They will not refund back the money.\",\n",
              " 'I faced payment issue on \"MakeMyTrip\". Thrice money was deducted while booking domestic hotel. Their customer service is pathetic. Nobody responded even after raising tickets and calling again and again. Their support system is worst and very bad user experience.',\n",
              " \"I booked a holiday to Nepal on Feb 16th 2019 to Nepal. My travel date is on may 10th, 2019. Flights, hotels, etc all are booked by them. I got a call from MakeMyTrip customer care saying that my flight which they booked got cancelled and said to pay extra 30000/- to book other flight. I didn't book the flight as the cost is very high. My trip got cancelled and till now they didn't give any refund. I paid 54000/-.\",\n",
              " 'Never ever use MakeMyTrip app for any bookings. You are sure to end up losing your entire money and peace of mind. They have opened the app only to cheat customers to give up their hard earned money. Their customer care are very rude to the customers and are not bothered about the convenience of the customers as long as they are able to cheat them of their money. Their hotel booking is another farce wherein the customer is forced to lose his money by falsely claiming options available as pay at hotel. However, conveniently they take your credit card details and later charge the full amount after a day and then wash their hands saying it is hotel policy and the amount debited cannot be refunded. There are much better options to book your flights and hotels.',\n",
              " 'I have booked a package with MMT for Singapore and Malaysia. It was the worst experience I had with them. It was my First international trip with them and they have promised me that all will be good but Malaysia trip was ok ok. but the worst scenario was Singapore. The hotel which they have provided me was very worst. In the hotel there were cockroaches and bed bugs and the room was not good also. I have requested them to change the hotel but the tour manager told me that if I want to change the hotel I myself have to pay the money and get a good hotel. This service was provided from them. Mostly the tour manager is not useful, he just only coordinate on Whatsapp messages about the tour nothing else. ',\n",
              " 'Just back from North East trip, everyday was a new challenge... From pickup to quality of rooms to number of rooms to punctuality and behaviour of taxi drivers. The sight seeing options are useless. The flights were poorly connected... Everyday I swore not to book a trip with MMT again.',\n",
              " \"Very much upset. Though my friends told me that don't book tickets from MakeMyTrip, still had trust on your site and booked the train tickets which was urgent. After few minutes got mail and message that transaction failed min suddenly. It's really annoying. Money was deducted from my account. What the hell. Such service you provide to people using your app. Please see to it the money is been refund as soon as possible and solve your technical issues and then proceed further use of app in market.\",\n",
              " \"I had booked my ticket from Hyderabad to Delhi for 3 June 2019. Now when I'm trying to cancel through chat, email and call no one is responding. I don't know why their customer service seems so busy that customer have to wait like 2 hrs online and still no response. I wonder if they have any customer service department who would actually help people. This is really pathetic. I would request people whoever is getting offer from MMT or any discounts still I would request not to book from them. It's better to pay a little more and book through agents. And also I guess no customer service in the world would be so busy as MakeMyTrip coz they are not there to help. But they are there to see and laugh and suck people money and that's how these CEO and others who is associated with MMT makes money. I would never ever deal with MMT. Just hate it. Pathetic???? If I had an opportunity I would not even give one star.\"]"
            ]
          },
          "metadata": {
            "tags": []
          },
          "execution_count": 39
        }
      ]
    },
    {
      "cell_type": "code",
      "metadata": {
        "id": "-CVAdYrAm7cj",
        "colab_type": "code",
        "outputId": "340ce3b6-7135-4cd6-dec5-d935b6ed0d1d",
        "colab": {
          "base_uri": "https://localhost:8080/",
          "height": 34
        }
      },
      "source": [
        "len(coustmer_rew)"
      ],
      "execution_count": 0,
      "outputs": [
        {
          "output_type": "execute_result",
          "data": {
            "text/plain": [
              "30"
            ]
          },
          "metadata": {
            "tags": []
          },
          "execution_count": 40
        }
      ]
    },
    {
      "cell_type": "code",
      "metadata": {
        "id": "pfOSQv3VtvVf",
        "colab_type": "code",
        "colab": {}
      },
      "source": [
        "from textblob import TextBlob"
      ],
      "execution_count": 0,
      "outputs": []
    },
    {
      "cell_type": "code",
      "metadata": {
        "id": "84gWvcdxt9Ml",
        "colab_type": "code",
        "outputId": "427447f9-0cc0-4d3e-addf-c6e5e28aaf09",
        "colab": {
          "base_uri": "https://localhost:8080/",
          "height": 1000
        }
      },
      "source": [
        "pos=0\n",
        "neg=0\n",
        "neu=0\n",
        "\n",
        "\n",
        "for i in coustmer_rew:\n",
        "  analysis=TextBlob(i)\n",
        "  print(\"\\n\")\n",
        "  print(analysis.sentiment)\n",
        "  if analysis.sentiment.polarity>0:\n",
        "    print(\"Positive\")\n",
        "    pos=pos+1\n",
        "  elif analysis.sentiment.polarity==0:\n",
        "    print(\"Neutral\")\n",
        "    neu=neu+1\n",
        "  else:\n",
        "    print(\"Negative\")\n",
        "    neg=neg+1"
      ],
      "execution_count": 0,
      "outputs": [
        {
          "output_type": "stream",
          "text": [
            "\n",
            "\n",
            "Sentiment(polarity=0.22141025641025638, subjectivity=0.5038461538461538)\n",
            "Positive\n",
            "\n",
            "\n",
            "Sentiment(polarity=0.08196969696969698, subjectivity=0.3412878787878788)\n",
            "Positive\n",
            "\n",
            "\n",
            "Sentiment(polarity=0.3516666666666667, subjectivity=0.4833333333333334)\n",
            "Positive\n",
            "\n",
            "\n",
            "Sentiment(polarity=1.0, subjectivity=0.65)\n",
            "Positive\n",
            "\n",
            "\n",
            "Sentiment(polarity=0.4269047619047619, subjectivity=0.5635714285714285)\n",
            "Positive\n",
            "\n",
            "\n",
            "Sentiment(polarity=-0.04583333333333334, subjectivity=0.5333333333333333)\n",
            "Negative\n",
            "\n",
            "\n",
            "Sentiment(polarity=-0.05, subjectivity=0.39)\n",
            "Negative\n",
            "\n",
            "\n",
            "Sentiment(polarity=0.22000000000000003, subjectivity=0.525)\n",
            "Positive\n",
            "\n",
            "\n",
            "Sentiment(polarity=-0.05275974025974027, subjectivity=0.42678571428571427)\n",
            "Negative\n",
            "\n",
            "\n",
            "Sentiment(polarity=0.2, subjectivity=0.6125)\n",
            "Positive\n",
            "\n",
            "\n",
            "Sentiment(polarity=-0.007142857142857145, subjectivity=0.48214285714285715)\n",
            "Negative\n",
            "\n",
            "\n",
            "Sentiment(polarity=-0.15018939393939393, subjectivity=0.3688131313131313)\n",
            "Negative\n",
            "\n",
            "\n",
            "Sentiment(polarity=0.12857142857142856, subjectivity=0.47857142857142854)\n",
            "Positive\n",
            "\n",
            "\n",
            "Sentiment(polarity=0.08636363636363636, subjectivity=0.38636363636363646)\n",
            "Positive\n",
            "\n",
            "\n",
            "Sentiment(polarity=0.066, subjectivity=0.31066666666666665)\n",
            "Positive\n",
            "\n",
            "\n",
            "Sentiment(polarity=0.08409090909090909, subjectivity=0.18863636363636363)\n",
            "Positive\n",
            "\n",
            "\n",
            "Sentiment(polarity=0.07204545454545454, subjectivity=0.5883838383838383)\n",
            "Positive\n",
            "\n",
            "\n",
            "Sentiment(polarity=-0.00454545454545455, subjectivity=0.29671717171717177)\n",
            "Negative\n",
            "\n",
            "\n",
            "Sentiment(polarity=-0.025, subjectivity=0.5149999999999999)\n",
            "Negative\n",
            "\n",
            "\n",
            "Sentiment(polarity=0.13999999999999999, subjectivity=0.21000000000000002)\n",
            "Positive\n",
            "\n",
            "\n",
            "Sentiment(polarity=-0.5625, subjectivity=0.6875)\n",
            "Negative\n",
            "\n",
            "\n",
            "Sentiment(polarity=-0.7399999999999999, subjectivity=0.8155555555555556)\n",
            "Negative\n",
            "\n",
            "\n",
            "Sentiment(polarity=-0.046875, subjectivity=0.34062499999999996)\n",
            "Negative\n",
            "\n",
            "\n",
            "Sentiment(polarity=-0.7274999999999999, subjectivity=0.7416666666666667)\n",
            "Negative\n",
            "\n",
            "\n",
            "Sentiment(polarity=0.027666666666666673, subjectivity=0.39233333333333337)\n",
            "Positive\n",
            "\n",
            "\n",
            "Sentiment(polarity=0.029880952380952373, subjectivity=0.5436111111111112)\n",
            "Positive\n",
            "\n",
            "\n",
            "Sentiment(polarity=-0.02692307692307692, subjectivity=0.5871794871794871)\n",
            "Negative\n",
            "\n",
            "\n",
            "Sentiment(polarity=-0.19393939393939397, subjectivity=0.4090909090909091)\n",
            "Negative\n",
            "\n",
            "\n",
            "Sentiment(polarity=-0.155, subjectivity=0.4575)\n",
            "Negative\n",
            "\n",
            "\n",
            "Sentiment(polarity=-0.14875, subjectivity=0.52)\n",
            "Negative\n"
          ],
          "name": "stdout"
        }
      ]
    },
    {
      "cell_type": "code",
      "metadata": {
        "id": "gXO1WadCuYfE",
        "colab_type": "code",
        "colab": {}
      },
      "source": [
        ""
      ],
      "execution_count": 0,
      "outputs": []
    }
  ]
}