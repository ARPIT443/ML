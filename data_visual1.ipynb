{
  "nbformat": 4,
  "nbformat_minor": 0,
  "metadata": {
    "colab": {
      "name": "data_visual1.ipynb",
      "version": "0.3.2",
      "provenance": []
    },
    "kernelspec": {
      "name": "python3",
      "display_name": "Python 3"
    }
  },
  "cells": [
    {
      "cell_type": "code",
      "metadata": {
        "id": "LFP6UMa3E5Mf",
        "colab_type": "code",
        "colab": {}
      },
      "source": [
        "import pandas as pd\n",
        "import matplotlib.pyplot as plt\n",
        "import numpy as np"
      ],
      "execution_count": 0,
      "outputs": []
    },
    {
      "cell_type": "code",
      "metadata": {
        "id": "IJShVyMyHFhd",
        "colab_type": "code",
        "colab": {}
      },
      "source": [
        "##Creating a 4*5 and storing in a file\n",
        "\n",
        "a={'Name':['Ankit','Abhay','Arpit','Akash'] , 'Marks':[93,89,79,87] , 'Age':[18,19,18,20] , 'Contact':[9902345654,9917900123,9874599820,8723886006] ,'Study_hour':[8,6,9,10]}\n",
        "x=pd.DataFrame(a)"
      ],
      "execution_count": 0,
      "outputs": []
    },
    {
      "cell_type": "code",
      "metadata": {
        "id": "8DrFXYonIEb4",
        "colab_type": "code",
        "colab": {
          "base_uri": "https://localhost:8080/",
          "height": 166
        },
        "outputId": "21a71666-ebe2-4fb9-88b4-f8b290babcf9"
      },
      "source": [
        "##Input from a file like : x=pd.read_csv(\"Student.csv.csv\")\n",
        "x"
      ],
      "execution_count": 29,
      "outputs": [
        {
          "output_type": "execute_result",
          "data": {
            "text/html": [
              "<div>\n",
              "<style scoped>\n",
              "    .dataframe tbody tr th:only-of-type {\n",
              "        vertical-align: middle;\n",
              "    }\n",
              "\n",
              "    .dataframe tbody tr th {\n",
              "        vertical-align: top;\n",
              "    }\n",
              "\n",
              "    .dataframe thead th {\n",
              "        text-align: right;\n",
              "    }\n",
              "</style>\n",
              "<table border=\"1\" class=\"dataframe\">\n",
              "  <thead>\n",
              "    <tr style=\"text-align: right;\">\n",
              "      <th></th>\n",
              "      <th>Name</th>\n",
              "      <th>Marks</th>\n",
              "      <th>Age</th>\n",
              "      <th>Contact</th>\n",
              "      <th>Study_hour</th>\n",
              "    </tr>\n",
              "  </thead>\n",
              "  <tbody>\n",
              "    <tr>\n",
              "      <th>0</th>\n",
              "      <td>Ankit</td>\n",
              "      <td>93</td>\n",
              "      <td>18</td>\n",
              "      <td>9902345654</td>\n",
              "      <td>8</td>\n",
              "    </tr>\n",
              "    <tr>\n",
              "      <th>1</th>\n",
              "      <td>Abhay</td>\n",
              "      <td>89</td>\n",
              "      <td>19</td>\n",
              "      <td>9917900123</td>\n",
              "      <td>6</td>\n",
              "    </tr>\n",
              "    <tr>\n",
              "      <th>2</th>\n",
              "      <td>Arpit</td>\n",
              "      <td>79</td>\n",
              "      <td>18</td>\n",
              "      <td>9874599820</td>\n",
              "      <td>9</td>\n",
              "    </tr>\n",
              "    <tr>\n",
              "      <th>3</th>\n",
              "      <td>Akash</td>\n",
              "      <td>87</td>\n",
              "      <td>20</td>\n",
              "      <td>8723886006</td>\n",
              "      <td>10</td>\n",
              "    </tr>\n",
              "  </tbody>\n",
              "</table>\n",
              "</div>"
            ],
            "text/plain": [
              "    Name  Marks  Age     Contact  Study_hour\n",
              "0  Ankit     93   18  9902345654           8\n",
              "1  Abhay     89   19  9917900123           6\n",
              "2  Arpit     79   18  9874599820           9\n",
              "3  Akash     87   20  8723886006          10"
            ]
          },
          "metadata": {
            "tags": []
          },
          "execution_count": 29
        }
      ]
    },
    {
      "cell_type": "code",
      "metadata": {
        "id": "CIKyPfQoIf4G",
        "colab_type": "code",
        "colab": {
          "base_uri": "https://localhost:8080/",
          "height": 255
        },
        "outputId": "f6ca0abf-6641-4daa-9c22-5844aa473f48"
      },
      "source": [
        "z=plt.pie(x['Marks'],labels=x['Name'],explode=[0.1,0.1,0.1,0.1])\n"
      ],
      "execution_count": 30,
      "outputs": [
        {
          "output_type": "display_data",
          "data": {
            "image/png": "[encoded data removed]",
            "text/plain": [
              "<Figure size 432x288 with 1 Axes>"
            ]
          },
          "metadata": {
            "tags": []
          }
        }
      ]
    },
    {
      "cell_type": "code",
      "metadata": {
        "id": "06_-coD0IFTo",
        "colab_type": "code",
        "colab": {
          "base_uri": "https://localhost:8080/",
          "height": 255
        },
        "outputId": "10790ba2-b3de-4be5-f6f1-7e0e50168556"
      },
      "source": [
        "a=plt.pie(x['Study_hour'],labels=x['Name'],explode=[0.1,0.1,0.1,0.1])"
      ],
      "execution_count": 31,
      "outputs": [
        {
          "output_type": "display_data",
          "data": {
            "image/png": "[encoded data removed]",
            "text/plain": [
              "<Figure size 432x288 with 1 Axes>"
            ]
          },
          "metadata": {
            "tags": []
          }
        }
      ]
    },
    {
      "cell_type": "code",
      "metadata": {
        "id": "m3vr-a_IJ__u",
        "colab_type": "code",
        "colab": {
          "base_uri": "https://localhost:8080/",
          "height": 255
        },
        "outputId": "6938a569-9073-4228-87a2-c02abd9c4b6d"
      },
      "source": [
        "a=plt.pie(x['Study_hour'],labels=x['Marks'],explode=[0.1,0.1,0.1,0.1])"
      ],
      "execution_count": 32,
      "outputs": [
        {
          "output_type": "display_data",
          "data": {
            "image/png": "[encoded data removed]",
            "text/plain": [
              "<Figure size 432x288 with 1 Axes>"
            ]
          },
          "metadata": {
            "tags": []
          }
        }
      ]
    },
    {
      "cell_type": "code",
      "metadata": {
        "id": "mpzPNzT9KGYN",
        "colab_type": "code",
        "colab": {}
      },
      "source": [
        ""
      ],
      "execution_count": 0,
      "outputs": []
    }
  ]
}